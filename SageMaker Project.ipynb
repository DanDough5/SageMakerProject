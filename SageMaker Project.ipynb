{
 "cells": [
  {
   "cell_type": "markdown",
   "metadata": {},
   "source": [
    "# Creating a Sentiment Analysis Web App\n",
    "## Using PyTorch and SageMaker\n",
    "\n",
    "_Deep Learning Nanodegree Program | Deployment_\n",
    "\n",
    "---\n",
    "\n",
    "Now that we have a basic understanding of how SageMaker works we will try to use it to construct a complete project from end to end. Our goal will be to have a simple web page which a user can use to enter a movie review. The web page will then send the review off to our deployed model which will predict the sentiment of the entered review.\n",
    "\n",
    "## Instructions\n",
    "\n",
    "Some template code has already been provided for you, and you will need to implement additional functionality to successfully complete this notebook. You will not need to modify the included code beyond what is requested. Sections that begin with '**TODO**' in the header indicate that you need to complete or implement some portion within them. Instructions will be provided for each section and the specifics of the implementation are marked in the code block with a `# TODO: ...` comment. Please be sure to read the instructions carefully!\n",
    "\n",
    "In addition to implementing code, there will be questions for you to answer which relate to the task and your implementation. Each section where you will answer a question is preceded by a '**Question:**' header. Carefully read each question and provide your answer below the '**Answer:**' header by editing the Markdown cell.\n",
    "\n",
    "> **Note**: Code and Markdown cells can be executed using the **Shift+Enter** keyboard shortcut. In addition, a cell can be edited by typically clicking it (double-click for Markdown cells) or by pressing **Enter** while it is highlighted.\n",
    "\n",
    "## General Outline\n",
    "\n",
    "Recall the general outline for SageMaker projects using a notebook instance.\n",
    "\n",
    "1. Download or otherwise retrieve the data.\n",
    "2. Process / Prepare the data.\n",
    "3. Upload the processed data to S3.\n",
    "4. Train a chosen model.\n",
    "5. Test the trained model (typically using a batch transform job).\n",
    "6. Deploy the trained model.\n",
    "7. Use the deployed model.\n",
    "\n",
    "For this project, you will be following the steps in the general outline with some modifications. \n",
    "\n",
    "First, you will not be testing the model in its own step. You will still be testing the model, however, you will do it by deploying your model and then using the deployed model by sending the test data to it. One of the reasons for doing this is so that you can make sure that your deployed model is working correctly before moving forward.\n",
    "\n",
    "In addition, you will deploy and use your trained model a second time. In the second iteration you will customize the way that your trained model is deployed by including some of your own code. In addition, your newly deployed model will be used in the sentiment analysis web app."
   ]
  },
  {
   "cell_type": "code",
   "execution_count": 1,
   "metadata": {},
   "outputs": [
    {
     "name": "stdout",
     "output_type": "stream",
     "text": [
      "Looking in indexes: https://pypi.org/simple, https://pip.repos.neuron.amazonaws.com\n",
      "Collecting sagemaker==1.72.0\n",
      "  Downloading sagemaker-1.72.0.tar.gz (297 kB)\n",
      "\u001b[2K     \u001b[90m━━━━━━━━━━━━━━━━━━━━━━━━━━━━━━━━━━━━━━━\u001b[0m \u001b[32m297.3/297.3 KB\u001b[0m \u001b[31m8.0 MB/s\u001b[0m eta \u001b[36m0:00:00\u001b[0m00:01\u001b[0m\n",
      "\u001b[?25h  Preparing metadata (setup.py) ... \u001b[?25ldone\n",
      "\u001b[?25hRequirement already satisfied: boto3>=1.14.12 in /home/ec2-user/anaconda3/envs/pytorch_p38/lib/python3.8/site-packages (from sagemaker==1.72.0) (1.24.82)\n",
      "Requirement already satisfied: numpy>=1.9.0 in /home/ec2-user/anaconda3/envs/pytorch_p38/lib/python3.8/site-packages (from sagemaker==1.72.0) (1.21.2)\n",
      "Requirement already satisfied: protobuf>=3.1 in /home/ec2-user/anaconda3/envs/pytorch_p38/lib/python3.8/site-packages (from sagemaker==1.72.0) (3.19.4)\n",
      "Requirement already satisfied: scipy>=0.19.0 in /home/ec2-user/anaconda3/envs/pytorch_p38/lib/python3.8/site-packages (from sagemaker==1.72.0) (1.7.2)\n",
      "Requirement already satisfied: protobuf3-to-dict>=0.1.5 in /home/ec2-user/anaconda3/envs/pytorch_p38/lib/python3.8/site-packages (from sagemaker==1.72.0) (0.1.5)\n",
      "Collecting smdebug-rulesconfig==0.1.4\n",
      "  Downloading smdebug_rulesconfig-0.1.4-py2.py3-none-any.whl (10 kB)\n",
      "Requirement already satisfied: importlib-metadata>=1.4.0 in /home/ec2-user/anaconda3/envs/pytorch_p38/lib/python3.8/site-packages (from sagemaker==1.72.0) (4.8.2)\n",
      "Requirement already satisfied: packaging>=20.0 in /home/ec2-user/anaconda3/envs/pytorch_p38/lib/python3.8/site-packages (from sagemaker==1.72.0) (21.3)\n",
      "Collecting botocore<1.28.0,>=1.27.82\n",
      "  Downloading botocore-1.27.89-py3-none-any.whl (9.2 MB)\n",
      "\u001b[2K     \u001b[90m━━━━━━━━━━━━━━━━━━━━━━━━━━━━━━━━━━━━━━━━\u001b[0m \u001b[32m9.2/9.2 MB\u001b[0m \u001b[31m35.1 MB/s\u001b[0m eta \u001b[36m0:00:00\u001b[0m:00:01\u001b[0m00:01\u001b[0m\n",
      "\u001b[?25hRequirement already satisfied: s3transfer<0.7.0,>=0.6.0 in /home/ec2-user/anaconda3/envs/pytorch_p38/lib/python3.8/site-packages (from boto3>=1.14.12->sagemaker==1.72.0) (0.6.0)\n",
      "Requirement already satisfied: jmespath<2.0.0,>=0.7.1 in /home/ec2-user/anaconda3/envs/pytorch_p38/lib/python3.8/site-packages (from boto3>=1.14.12->sagemaker==1.72.0) (0.10.0)\n",
      "Requirement already satisfied: zipp>=0.5 in /home/ec2-user/anaconda3/envs/pytorch_p38/lib/python3.8/site-packages (from importlib-metadata>=1.4.0->sagemaker==1.72.0) (3.6.0)\n",
      "Requirement already satisfied: pyparsing!=3.0.5,>=2.0.2 in /home/ec2-user/anaconda3/envs/pytorch_p38/lib/python3.8/site-packages (from packaging>=20.0->sagemaker==1.72.0) (3.0.6)\n",
      "Requirement already satisfied: six in /home/ec2-user/anaconda3/envs/pytorch_p38/lib/python3.8/site-packages (from protobuf3-to-dict>=0.1.5->sagemaker==1.72.0) (1.16.0)\n",
      "Requirement already satisfied: python-dateutil<3.0.0,>=2.1 in /home/ec2-user/anaconda3/envs/pytorch_p38/lib/python3.8/site-packages (from botocore<1.28.0,>=1.27.82->boto3>=1.14.12->sagemaker==1.72.0) (2.8.2)\n",
      "Requirement already satisfied: urllib3<1.27,>=1.25.4 in /home/ec2-user/anaconda3/envs/pytorch_p38/lib/python3.8/site-packages (from botocore<1.28.0,>=1.27.82->boto3>=1.14.12->sagemaker==1.72.0) (1.26.8)\n",
      "Building wheels for collected packages: sagemaker\n",
      "  Building wheel for sagemaker (setup.py) ... \u001b[?25ldone\n",
      "\u001b[?25h  Created wheel for sagemaker: filename=sagemaker-1.72.0-py2.py3-none-any.whl size=386379 sha256=67eae9ef27ea29a1491e50fd4d541bde25ea7fd973971003ac029ae5a8542a3d\n",
      "  Stored in directory: /home/ec2-user/.cache/pip/wheels/86/0e/1f/7c255f46c88da77dc4d0145188d39efda49e7e69fa9d320edf\n",
      "Successfully built sagemaker\n",
      "Installing collected packages: smdebug-rulesconfig, botocore, sagemaker\n",
      "  Attempting uninstall: smdebug-rulesconfig\n",
      "    Found existing installation: smdebug-rulesconfig 1.0.1\n",
      "    Uninstalling smdebug-rulesconfig-1.0.1:\n",
      "      Successfully uninstalled smdebug-rulesconfig-1.0.1\n",
      "  Attempting uninstall: botocore\n",
      "    Found existing installation: botocore 1.24.19\n",
      "    Uninstalling botocore-1.24.19:\n",
      "      Successfully uninstalled botocore-1.24.19\n",
      "  Attempting uninstall: sagemaker\n",
      "    Found existing installation: sagemaker 2.110.0\n",
      "    Uninstalling sagemaker-2.110.0:\n",
      "      Successfully uninstalled sagemaker-2.110.0\n",
      "\u001b[31mERROR: pip's dependency resolver does not currently take into account all the packages that are installed. This behaviour is the source of the following dependency conflicts.\n",
      "awscli 1.25.83 requires botocore==1.27.82, but you have botocore 1.27.89 which is incompatible.\n",
      "aiobotocore 2.0.1 requires botocore<1.22.9,>=1.22.8, but you have botocore 1.27.89 which is incompatible.\u001b[0m\u001b[31m\n",
      "\u001b[0mSuccessfully installed botocore-1.27.89 sagemaker-1.72.0 smdebug-rulesconfig-0.1.4\n",
      "\u001b[33mWARNING: You are using pip version 22.0.4; however, version 22.2.2 is available.\n",
      "You should consider upgrading via the '/home/ec2-user/anaconda3/envs/pytorch_p38/bin/python -m pip install --upgrade pip' command.\u001b[0m\u001b[33m\n",
      "\u001b[0m"
     ]
    }
   ],
   "source": [
    "# Make sure that we use SageMaker 1.x\n",
    "!pip install sagemaker==1.72.0"
   ]
  },
  {
   "cell_type": "markdown",
   "metadata": {},
   "source": [
    "## Step 1: Downloading the data\n",
    "\n",
    "As in the XGBoost in SageMaker notebook, we will be using the [IMDb dataset](http://ai.stanford.edu/~amaas/data/sentiment/)\n",
    "\n",
    "> Maas, Andrew L., et al. [Learning Word Vectors for Sentiment Analysis](http://ai.stanford.edu/~amaas/data/sentiment/). In _Proceedings of the 49th Annual Meeting of the Association for Computational Linguistics: Human Language Technologies_. Association for Computational Linguistics, 2011."
   ]
  },
  {
   "cell_type": "code",
   "execution_count": 2,
   "metadata": {},
   "outputs": [
    {
     "name": "stdout",
     "output_type": "stream",
     "text": [
      "mkdir: cannot create directory ‘../data’: File exists\n",
      "--2022-10-13 03:35:57--  http://ai.stanford.edu/~amaas/data/sentiment/aclImdb_v1.tar.gz\n",
      "Resolving ai.stanford.edu (ai.stanford.edu)... 171.64.68.10\n",
      "Connecting to ai.stanford.edu (ai.stanford.edu)|171.64.68.10|:80... connected.\n",
      "HTTP request sent, awaiting response... 200 OK\n",
      "Length: 84125825 (80M) [application/x-gzip]\n",
      "Saving to: ‘../data/aclImdb_v1.tar.gz’\n",
      "\n",
      "100%[======================================>] 84,125,825  36.1MB/s   in 2.2s   \n",
      "\n",
      "2022-10-13 03:35:59 (36.1 MB/s) - ‘../data/aclImdb_v1.tar.gz’ saved [84125825/84125825]\n",
      "\n"
     ]
    }
   ],
   "source": [
    "%mkdir ../data\n",
    "!wget -O ../data/aclImdb_v1.tar.gz http://ai.stanford.edu/~amaas/data/sentiment/aclImdb_v1.tar.gz\n",
    "!tar -zxf ../data/aclImdb_v1.tar.gz -C ../data"
   ]
  },
  {
   "cell_type": "markdown",
   "metadata": {},
   "source": [
    "## Step 2: Preparing and Processing the data\n",
    "\n",
    "Also, as in the XGBoost notebook, we will be doing some initial data processing. The first few steps are the same as in the XGBoost example. To begin with, we will read in each of the reviews and combine them into a single input structure. Then, we will split the dataset into a training set and a testing set."
   ]
  },
  {
   "cell_type": "code",
   "execution_count": 3,
   "metadata": {},
   "outputs": [],
   "source": [
    "import os\n",
    "import glob\n",
    "\n",
    "def read_imdb_data(data_dir='../data/aclImdb'):\n",
    "    data = {}\n",
    "    labels = {}\n",
    "    \n",
    "    for data_type in ['train', 'test']:\n",
    "        data[data_type] = {}\n",
    "        labels[data_type] = {}\n",
    "        \n",
    "        for sentiment in ['pos', 'neg']:\n",
    "            data[data_type][sentiment] = []\n",
    "            labels[data_type][sentiment] = []\n",
    "            \n",
    "            path = os.path.join(data_dir, data_type, sentiment, '*.txt')\n",
    "            files = glob.glob(path)\n",
    "            \n",
    "            for f in files:\n",
    "                with open(f) as review:\n",
    "                    data[data_type][sentiment].append(review.read())\n",
    "                    # Here we represent a positive review by '1' and a negative review by '0'\n",
    "                    labels[data_type][sentiment].append(1 if sentiment == 'pos' else 0)\n",
    "                    \n",
    "            assert len(data[data_type][sentiment]) == len(labels[data_type][sentiment]), \\\n",
    "                    \"{}/{} data size does not match labels size\".format(data_type, sentiment)\n",
    "                \n",
    "    return data, labels"
   ]
  },
  {
   "cell_type": "code",
   "execution_count": 4,
   "metadata": {},
   "outputs": [
    {
     "name": "stdout",
     "output_type": "stream",
     "text": [
      "IMDB reviews: train = 12500 pos / 12500 neg, test = 12500 pos / 12500 neg\n"
     ]
    }
   ],
   "source": [
    "data, labels = read_imdb_data()\n",
    "print(\"IMDB reviews: train = {} pos / {} neg, test = {} pos / {} neg\".format(\n",
    "            len(data['train']['pos']), len(data['train']['neg']),\n",
    "            len(data['test']['pos']), len(data['test']['neg'])))"
   ]
  },
  {
   "cell_type": "markdown",
   "metadata": {},
   "source": [
    "Now that we've read the raw training and testing data from the downloaded dataset, we will combine the positive and negative reviews and shuffle the resulting records."
   ]
  },
  {
   "cell_type": "code",
   "execution_count": 5,
   "metadata": {},
   "outputs": [],
   "source": [
    "from sklearn.utils import shuffle\n",
    "\n",
    "def prepare_imdb_data(data, labels):\n",
    "    \"\"\"Prepare training and test sets from IMDb movie reviews.\"\"\"\n",
    "    \n",
    "    #Combine positive and negative reviews and labels\n",
    "    data_train = data['train']['pos'] + data['train']['neg']\n",
    "    data_test = data['test']['pos'] + data['test']['neg']\n",
    "    labels_train = labels['train']['pos'] + labels['train']['neg']\n",
    "    labels_test = labels['test']['pos'] + labels['test']['neg']\n",
    "    \n",
    "    #Shuffle reviews and corresponding labels within training and test sets\n",
    "    data_train, labels_train = shuffle(data_train, labels_train)\n",
    "    data_test, labels_test = shuffle(data_test, labels_test)\n",
    "    \n",
    "    # Return a unified training data, test data, training labels, test labets\n",
    "    return data_train, data_test, labels_train, labels_test"
   ]
  },
  {
   "cell_type": "code",
   "execution_count": 6,
   "metadata": {},
   "outputs": [
    {
     "name": "stdout",
     "output_type": "stream",
     "text": [
      "IMDb reviews (combined): train = 25000, test = 25000\n"
     ]
    }
   ],
   "source": [
    "train_X, test_X, train_y, test_y = prepare_imdb_data(data, labels)\n",
    "print(\"IMDb reviews (combined): train = {}, test = {}\".format(len(train_X), len(test_X)))"
   ]
  },
  {
   "cell_type": "markdown",
   "metadata": {},
   "source": [
    "Now that we have our training and testing sets unified and prepared, we should do a quick check and see an example of the data our model will be trained on. This is generally a good idea as it allows you to see how each of the further processing steps affects the reviews and it also ensures that the data has been loaded correctly."
   ]
  },
  {
   "cell_type": "code",
   "execution_count": 7,
   "metadata": {},
   "outputs": [
    {
     "name": "stdout",
     "output_type": "stream",
     "text": [
      "I am a big fan of the movie, but not for the usual reasons. I think Travolta and Winger performed at higher than average rates, I think the sets were representative of the location and the era, I liked the sound track and the Charlie Daniels Band. However, I think the photography was amazing! Since the interior scenes were filmed in the actual club and Gilley's had low ceilings--perhaps 10-12 feet high and the smoke that was supposed to simulate a \"smoke-filled bar\" hung 2-4 feet below the ceiling. The Camera managed to get shots through the smoke and focus on the actors, the bull, the bar, the women, the dancing, the low-level of light that actually was in the bar! What a feat! Sure there was auxiliary lighting, but in order to maintain the atmosphere of the bar, it had to be low-light shots. Ray Villalobos (the camera operator) was outstanding! He got some shots he had no hope of achieving and the impact of them brought a sense of reality to the film. Thanks, Ray--Great work!\n",
      "1\n"
     ]
    }
   ],
   "source": [
    "print(train_X[100])\n",
    "print(train_y[100])"
   ]
  },
  {
   "cell_type": "markdown",
   "metadata": {},
   "source": [
    "The first step in processing the reviews is to make sure that any html tags that appear should be removed. In addition we wish to tokenize our input, that way words such as *entertained* and *entertaining* are considered the same with regard to sentiment analysis."
   ]
  },
  {
   "cell_type": "code",
   "execution_count": 8,
   "metadata": {},
   "outputs": [],
   "source": [
    "import nltk\n",
    "from nltk.corpus import stopwords\n",
    "from nltk.stem.porter import *\n",
    "\n",
    "import re\n",
    "from bs4 import BeautifulSoup\n",
    "\n",
    "def review_to_words(review):\n",
    "    nltk.download(\"stopwords\", quiet=True)\n",
    "    stemmer = PorterStemmer()\n",
    "    \n",
    "    text = BeautifulSoup(review, \"html.parser\").get_text() # Remove HTML tags\n",
    "    text = re.sub(r\"[^a-zA-Z0-9]\", \" \", text.lower()) # Convert to lower case\n",
    "    words = text.split() # Split string into words\n",
    "    words = [w for w in words if w not in stopwords.words(\"english\")] # Remove stopwords\n",
    "    words = [PorterStemmer().stem(w) for w in words] # stem\n",
    "    \n",
    "    return words"
   ]
  },
  {
   "cell_type": "markdown",
   "metadata": {},
   "source": [
    "The `review_to_words` method defined above uses `BeautifulSoup` to remove any html tags that appear and uses the `nltk` package to tokenize the reviews. As a check to ensure we know how everything is working, try applying `review_to_words` to one of the reviews in the training set."
   ]
  },
  {
   "cell_type": "code",
   "execution_count": 9,
   "metadata": {},
   "outputs": [
    {
     "data": {
      "text/plain": [
       "['film',\n",
       " 'premier',\n",
       " 'toronto',\n",
       " 'film',\n",
       " 'festiv',\n",
       " '1997',\n",
       " 'screen',\n",
       " 'writer',\n",
       " 'director',\n",
       " 'cast',\n",
       " 'member',\n",
       " 'offer',\n",
       " 'answer',\n",
       " 'question',\n",
       " 'one',\n",
       " 'could',\n",
       " 'even',\n",
       " 'bother',\n",
       " 'ask',\n",
       " 'rare',\n",
       " 'film',\n",
       " 'poorli',\n",
       " 'direct',\n",
       " 'earth',\n",
       " 'random',\n",
       " 'frame',\n",
       " 'snip',\n",
       " 'scene',\n",
       " 'wretchedli',\n",
       " 'act',\n",
       " 'david',\n",
       " 'arquett',\n",
       " 'paraphras',\n",
       " 'dorothi',\n",
       " 'parker',\n",
       " 'run',\n",
       " 'emot',\n",
       " 'gamut',\n",
       " 'b',\n",
       " 'park',\n",
       " 'bring',\n",
       " 'lunch',\n",
       " 'utterli',\n",
       " 'pointless',\n",
       " 'charact',\n",
       " 'behav',\n",
       " 'complet',\n",
       " 'charact',\n",
       " 'reason',\n",
       " 'except',\n",
       " 'forc',\n",
       " 'plot',\n",
       " 'move',\n",
       " 'certain',\n",
       " 'direct',\n",
       " 'long',\n",
       " 'last',\n",
       " 'film',\n",
       " 'come',\n",
       " 'complet',\n",
       " 'random',\n",
       " 'pointless',\n",
       " 'end',\n",
       " 'suppos',\n",
       " 'realli',\n",
       " 'make',\n",
       " 'think',\n",
       " 'unfortun',\n",
       " 'make',\n",
       " 'think',\n",
       " 'well',\n",
       " '90',\n",
       " 'minut',\n",
       " 'life',\n",
       " 'never',\n",
       " 'get',\n",
       " 'back']"
      ]
     },
     "execution_count": 9,
     "metadata": {},
     "output_type": "execute_result"
    }
   ],
   "source": [
    "# TODO: Apply review_to_words to a review (train_X[100] or any other review)\n",
    "review_to_words(train_X[99])"
   ]
  },
  {
   "cell_type": "markdown",
   "metadata": {},
   "source": [
    "**Question:** Above we mentioned that `review_to_words` method removes html formatting and allows us to tokenize the words found in a review, for example, converting *entertained* and *entertaining* into *entertain* so that they are treated as though they are the same word. What else, if anything, does this method do to the input?"
   ]
  },
  {
   "cell_type": "markdown",
   "metadata": {},
   "source": [
    "**Answer:** This method also forces all text to be lower case and removes insignificant words that add noise, stop words. It also will split the text from a review into its respective words."
   ]
  },
  {
   "cell_type": "markdown",
   "metadata": {},
   "source": [
    "The method below applies the `review_to_words` method to each of the reviews in the training and testing datasets. In addition it caches the results. This is because performing this processing step can take a long time. This way if you are unable to complete the notebook in the current session, you can come back without needing to process the data a second time."
   ]
  },
  {
   "cell_type": "code",
   "execution_count": 10,
   "metadata": {},
   "outputs": [],
   "source": [
    "import pickle\n",
    "\n",
    "cache_dir = os.path.join(\"../cache\", \"sentiment_analysis\")  # where to store cache files\n",
    "os.makedirs(cache_dir, exist_ok=True)  # ensure cache directory exists\n",
    "\n",
    "def preprocess_data(data_train, data_test, labels_train, labels_test,\n",
    "                    cache_dir=cache_dir, cache_file=\"preprocessed_data.pkl\"):\n",
    "    \"\"\"Convert each review to words; read from cache if available.\"\"\"\n",
    "\n",
    "    # If cache_file is not None, try to read from it first\n",
    "    cache_data = None\n",
    "    if cache_file is not None:\n",
    "        try:\n",
    "            with open(os.path.join(cache_dir, cache_file), \"rb\") as f:\n",
    "                cache_data = pickle.load(f)\n",
    "            print(\"Read preprocessed data from cache file:\", cache_file)\n",
    "        except:\n",
    "            pass  # unable to read from cache, but that's okay\n",
    "    \n",
    "    # If cache is missing, then do the heavy lifting\n",
    "    if cache_data is None:\n",
    "        # Preprocess training and test data to obtain words for each review\n",
    "        #words_train = list(map(review_to_words, data_train))\n",
    "        #words_test = list(map(review_to_words, data_test))\n",
    "        words_train = [review_to_words(review) for review in data_train]\n",
    "        words_test = [review_to_words(review) for review in data_test]\n",
    "        \n",
    "        # Write to cache file for future runs\n",
    "        if cache_file is not None:\n",
    "            cache_data = dict(words_train=words_train, words_test=words_test,\n",
    "                              labels_train=labels_train, labels_test=labels_test)\n",
    "            with open(os.path.join(cache_dir, cache_file), \"wb\") as f:\n",
    "                pickle.dump(cache_data, f)\n",
    "            print(\"Wrote preprocessed data to cache file:\", cache_file)\n",
    "    else:\n",
    "        # Unpack data loaded from cache file\n",
    "        words_train, words_test, labels_train, labels_test = (cache_data['words_train'],\n",
    "                cache_data['words_test'], cache_data['labels_train'], cache_data['labels_test'])\n",
    "    \n",
    "    return words_train, words_test, labels_train, labels_test"
   ]
  },
  {
   "cell_type": "code",
   "execution_count": 11,
   "metadata": {},
   "outputs": [
    {
     "name": "stdout",
     "output_type": "stream",
     "text": [
      "Read preprocessed data from cache file: preprocessed_data.pkl\n"
     ]
    }
   ],
   "source": [
    "# Preprocess data\n",
    "train_X, test_X, train_y, test_y = preprocess_data(train_X, test_X, train_y, test_y)"
   ]
  },
  {
   "cell_type": "markdown",
   "metadata": {},
   "source": [
    "## Transform the data\n",
    "\n",
    "In the XGBoost notebook we transformed the data from its word representation to a bag-of-words feature representation. For the model we are going to construct in this notebook we will construct a feature representation which is very similar. To start, we will represent each word as an integer. Of course, some of the words that appear in the reviews occur very infrequently and so likely don't contain much information for the purposes of sentiment analysis. The way we will deal with this problem is that we will fix the size of our working vocabulary and we will only include the words that appear most frequently. We will then combine all of the infrequent words into a single category and, in our case, we will label it as `1`.\n",
    "\n",
    "Since we will be using a recurrent neural network, it will be convenient if the length of each review is the same. To do this, we will fix a size for our reviews and then pad short reviews with the category 'no word' (which we will label `0`) and truncate long reviews."
   ]
  },
  {
   "cell_type": "markdown",
   "metadata": {},
   "source": [
    "### (TODO) Create a word dictionary\n",
    "\n",
    "To begin with, we need to construct a way to map words that appear in the reviews to integers. Here we fix the size of our vocabulary (including the 'no word' and 'infrequent' categories) to be `5000` but you may wish to change this to see how it affects the model.\n",
    "\n",
    "> **TODO:** Complete the implementation for the `build_dict()` method below. Note that even though the vocab_size is set to `5000`, we only want to construct a mapping for the most frequently appearing `4998` words. This is because we want to reserve the special labels `0` for 'no word' and `1` for 'infrequent word'."
   ]
  },
  {
   "cell_type": "code",
   "execution_count": 12,
   "metadata": {},
   "outputs": [],
   "source": [
    "import numpy as np\n",
    "from collections import Counter\n",
    "\n",
    "def build_dict(data, vocab_size = 5000):\n",
    "    \"\"\"Construct and return a dictionary mapping each of the most frequently appearing words to a unique integer.\"\"\"\n",
    "    \n",
    "    # TODO: Determine how often each word appears in `data`. Note that `data` is a list of sentences and that a\n",
    "    #       sentence is a list of words.\n",
    "    word_cnt = Counter()\n",
    "    for sentence in data:\n",
    "        word_cnt.update(sentence)\n",
    "        \n",
    "    print('Top 5 most common words: ', word_cnt.most_common(5))    \n",
    "    # TODO: Sort the words found in `data` so that sorted_words[0] is the most frequently appearing word and\n",
    "    #       sorted_words[-1] is the least frequently appearing word.\n",
    "    \n",
    "    sorted_words = word_cnt.most_common(vocab_size)\n",
    "    \n",
    "    word_dict = {} # This is what we are building, a dictionary that translates words into integers\n",
    "    for idx, word in enumerate(sorted_words[:vocab_size - 2]): # The -2 is so that we save room for the 'no word'\n",
    "        word_dict[word] = idx + 2                              # 'infrequent' labels\n",
    "        \n",
    "    return word_dict"
   ]
  },
  {
   "cell_type": "code",
   "execution_count": 13,
   "metadata": {},
   "outputs": [
    {
     "name": "stdout",
     "output_type": "stream",
     "text": [
      "Top 5 most common words:  [('movi', 51695), ('film', 48190), ('one', 27741), ('like', 22799), ('time', 16191)]\n",
      "{('movi', 51695): 2, ('film', 48190): 3, ('one', 27741): 4, ('like', 22799): 5, ('time', 16191): 6, ('good', 15360): 7, ('make', 15207): 8, ('charact', 14178): 9, ('get', 14141): 10, ('see', 14111): 11, ('watch', 13940): 12, ('stori', 13168): 13, ('even', 12906): 14, ('would', 12436): 15, ('realli', 11736): 16, ('well', 11042): 17, ('scene', 10586): 18, ('look', 10051): 19, ('show', 9878): 20, ('much', 9765): 21, ('end', 9651): 22, ('peopl', 9391): 23, ('bad', 9344): 24, ('go', 9305): 25, ('great', 9171): 26, ('also', 9156): 27, ('first', 9062): 28, ('love', 9027): 29, ('think', 8913): 30, ('way', 8830): 31, ('act', 8794): 32, ('play', 8730): 33, ('made', 8362): 34, ('thing', 8213): 35, ('could', 7921): 36, ('know', 7514): 37, ('say', 7457): 38, ('seem', 7220): 39, ('work', 7101): 40, ('plot', 6967): 41, ('two', 6908): 42, ('actor', 6876): 43, ('year', 6874): 44, ('come', 6747): 45, ('mani', 6688): 46, ('seen', 6681): 47, ('take', 6654): 48, ('want', 6640): 49, ('life', 6640): 50, ('never', 6484): 51, ('littl', 6435): 52, ('best', 6424): 53, ('tri', 6357): 54, ('man', 6036): 55, ('ever', 5999): 56, ('give', 5792): 57, ('better', 5749): 58, ('still', 5664): 59, ('perform', 5528): 60, ('find', 5449): 61, ('feel', 5300): 62, ('part', 5247): 63, ('back', 5133): 64, ('use', 5123): 65, ('someth', 5122): 66, ('director', 5120): 67, ('actual', 5065): 68, ('interest', 4893): 69, ('lot', 4778): 70, ('real', 4741): 71, ('old', 4583): 72, ('cast', 4573): 73, ('though', 4566): 74, ('live', 4477): 75, ('star', 4447): 76, ('enjoy', 4353): 77, ('guy', 4339): 78, ('anoth', 4325): 79, ('new', 4315): 80, ('role', 4300): 81, ('noth', 4296): 82, ('10', 4289): 83, ('funni', 4288): 84, ('music', 4247): 85, ('point', 4238): 86, ('start', 4166): 87, ('set', 4116): 88, ('girl', 4064): 89, ('origin', 4044): 90, ('day', 4013): 91, ('world', 3979): 92, ('everi', 3977): 93, ('believ', 3917): 94, ('turn', 3880): 95, ('quit', 3841): 96, ('us', 3794): 97, ('direct', 3794): 98, ('thought', 3773): 99, ('fact', 3749): 100, ('minut', 3739): 101, ('horror', 3717): 102, ('kill', 3701): 103, ('action', 3694): 104, ('comedi', 3686): 105, ('pretti', 3665): 106, ('young', 3664): 107, ('wonder', 3639): 108, ('happen', 3624): 109, ('around', 3616): 110, ('got', 3583): 111, ('effect', 3581): 112, ('right', 3554): 113, ('long', 3540): 114, ('howev', 3537): 115, ('big', 3477): 116, ('line', 3458): 117, ('famili', 3454): 118, ('enough', 3452): 119, ('seri', 3420): 120, ('may', 3392): 121, ('need', 3378): 122, ('fan', 3370): 123, ('bit', 3348): 124, ('script', 3342): 125, ('beauti', 3292): 126, ('person', 3274): 127, ('becom', 3272): 128, ('without', 3268): 129, ('must', 3250): 130, ('alway', 3243): 131, ('friend', 3230): 132, ('tell', 3215): 133, ('reason', 3206): 134, ('saw', 3178): 135, ('last', 3158): 136, ('final', 3153): 137, ('kid', 3148): 138, ('almost', 3139): 139, ('put', 3132): 140, ('least', 3112): 141, ('sure', 3100): 142, ('done', 3096): 143, ('whole', 3080): 144, ('place', 3048): 145, ('complet', 3035): 146, ('kind', 3008): 147, ('differ', 3007): 148, ('expect', 3007): 149, ('shot', 2998): 150, ('far', 2978): 151, ('mean', 2961): 152, ('anyth', 2949): 153, ('book', 2935): 154, ('laugh', 2926): 155, ('might', 2919): 156, ('name', 2917): 157, ('sinc', 2906): 158, ('begin', 2905): 159, ('2', 2882): 160, ('probabl', 2874): 161, ('woman', 2838): 162, ('help', 2828): 163, ('entertain', 2827): 164, ('let', 2821): 165, ('screen', 2799): 166, ('call', 2792): 167, ('tv', 2786): 168, ('moment', 2784): 169, ('away', 2782): 170, ('read', 2762): 171, ('yet', 2753): 172, ('rather', 2733): 173, ('worst', 2731): 174, ('run', 2723): 175, ('fun', 2694): 176, ('lead', 2684): 177, ('hard', 2681): 178, ('audienc', 2675): 179, ('idea', 2638): 180, ('anyon', 2632): 181, ('episod', 2629): 182, ('american', 2618): 183, ('found', 2608): 184, ('appear', 2567): 185, ('bore', 2549): 186, ('especi', 2539): 187, ('although', 2537): 188, ('hope', 2529): 189, ('cours', 2520): 190, ('keep', 2520): 191, ('anim', 2483): 192, ('job', 2461): 193, ('goe', 2441): 194, ('move', 2434): 195, ('sens', 2416): 196, ('dvd', 2410): 197, ('version', 2410): 198, ('war', 2394): 199, ('money', 2370): 200, ('someon', 2363): 201, ('mind', 2354): 202, ('mayb', 2340): 203, ('problem', 2337): 204, ('true', 2333): 205, ('hous', 2328): 206, ('everyth', 2323): 207, ('nice', 2312): 208, ('second', 2309): 209, ('rate', 2300): 210, ('three', 2297): 211, ('night', 2293): 212, ('face', 2292): 213, ('follow', 2292): 214, ('recommend', 2290): 215, ('product', 2283): 216, ('main', 2283): 217, ('worth', 2280): 218, ('leav', 2272): 219, ('human', 2262): 220, ('special', 2258): 221, ('excel', 2251): 222, ('togeth', 2247): 223, ('wast', 2229): 224, ('everyon', 2228): 225, ('sound', 2228): 226, ('john', 2222): 227, ('hand', 2221): 228, ('1', 2213): 229, ('father', 2206): 230, ('later', 2202): 231, ('eye', 2200): 232, ('said', 2196): 233, ('view', 2193): 234, ('instead', 2190): 235, ('review', 2184): 236, ('boy', 2178): 237, ('high', 2174): 238, ('hour', 2164): 239, ('miss', 2160): 240, ('talk', 2159): 241, ('classic', 2159): 242, ('wife', 2140): 243, ('understand', 2132): 244, ('left', 2125): 245, ('care', 2124): 246, ('black', 2123): 247, ('death', 2113): 248, ('open', 2103): 249, ('murder', 2102): 250, ('write', 2096): 251, ('half', 2094): 252, ('head', 2075): 253, ('rememb', 2070): 254, ('chang', 2062): 255, ('viewer', 2047): 256, ('fight', 2040): 257, ('gener', 2022): 258, ('surpris', 2021): 259, ('short', 2020): 260, ('includ', 2020): 261, ('die', 2012): 262, ('fall', 2004): 263, ('less', 2003): 264, ('els', 2002): 265, ('entir', 1993): 266, ('piec', 1981): 267, ('involv', 1980): 268, ('pictur', 1968): 269, ('simpli', 1965): 270, ('home', 1957): 271, ('power', 1957): 272, ('top', 1957): 273, ('total', 1948): 274, ('usual', 1946): 275, ('budget', 1933): 276, ('attempt', 1932): 277, ('suppos', 1924): 278, ('releas', 1921): 279, ('hollywood', 1920): 280, ('terribl', 1917): 281, ('song', 1916): 282, ('men', 1915): 283, ('possibl', 1913): 284, ('featur', 1903): 285, ('portray', 1902): 286, ('disappoint', 1900): 287, ('poor', 1899): 288, ('3', 1899): 289, ('coupl', 1894): 290, ('stupid', 1888): 291, ('camera', 1888): 292, ('dead', 1883): 293, ('wrong', 1872): 294, ('produc', 1870): 295, ('low', 1870): 296, ('video', 1866): 297, ('either', 1866): 298, ('aw', 1861): 299, ('definit', 1856): 300, ('except', 1854): 301, ('rest', 1852): 302, ('given', 1849): 303, ('absolut', 1845): 304, ('women', 1827): 305, ('lack', 1821): 306, ('word', 1817): 307, ('writer', 1814): 308, ('titl', 1793): 309, ('talent', 1787): 310, ('decid', 1786): 311, ('full', 1783): 312, ('perfect', 1778): 313, ('along', 1777): 314, ('style', 1760): 315, ('close', 1744): 316, ('truli', 1743): 317, ('school', 1732): 318, ('emot', 1731): 319, ('save', 1731): 320, ('age', 1726): 321, ('sex', 1726): 322, ('next', 1716): 323, ('bring', 1715): 324, ('mr', 1708): 325, ('case', 1706): 326, ('killer', 1700): 327, ('heart', 1688): 328, ('comment', 1687): 329, ('sort', 1684): 330, ('creat', 1683): 331, ('perhap', 1681): 332, ('came', 1673): 333, ('brother', 1664): 334, ('sever', 1663): 335, ('joke', 1656): 336, ('art', 1653): 337, ('dialogu', 1652): 338, ('game', 1651): 339, ('small', 1648): 340, ('base', 1645): 341, ('flick', 1629): 342, ('written', 1616): 343, ('sequenc', 1609): 344, ('meet', 1608): 345, ('earli', 1605): 346, ('often', 1601): 347, ('other', 1598): 348, ('mother', 1597): 349, ('develop', 1595): 350, ('humor', 1592): 351, ('actress', 1588): 352, ('consid', 1585): 353, ('dark', 1573): 354, ('guess', 1565): 355, ('amaz', 1563): 356, ('unfortun', 1562): 357, ('light', 1555): 358, ('lost', 1555): 359, ('exampl', 1554): 360, ('cinema', 1553): 361, ('drama', 1552): 362, ('white', 1551): 363, ('ye', 1551): 364, ('experi', 1548): 365, ('imagin', 1547): 366, ('mention', 1545): 367, ('stop', 1543): 368, ('natur', 1541): 369, ('forc', 1534): 370, ('manag', 1529): 371, ('felt', 1528): 372, ('present', 1520): 373, ('cut', 1520): 374, ('children', 1515): 375, ('fail', 1511): 376, ('son', 1506): 377, ('qualiti', 1505): 378, ('car', 1505): 379, ('support', 1505): 380, ('ask', 1500): 381, ('hit', 1497): 382, ('side', 1490): 383, ('voic', 1482): 384, ('extrem', 1473): 385, ('impress', 1472): 386, ('wors', 1468): 387, ('evil', 1468): 388, ('stand', 1463): 389, ('went', 1463): 390, ('certainli', 1462): 391, ('basic', 1453): 392, ('oh', 1450): 393, ('overal', 1434): 394, ('favorit', 1421): 395, ('horribl', 1418): 396, ('mysteri', 1416): 397, ('number', 1413): 398, ('type', 1408): 399, ('danc', 1405): 400, ('wait', 1400): 401, ('hero', 1389): 402, ('5', 1381): 403, ('alreadi', 1381): 404, ('learn', 1375): 405, ('matter', 1373): 406, ('4', 1372): 407, ('michael', 1370): 408, ('genr', 1367): 409, ('fine', 1366): 410, ('despit', 1364): 411, ('throughout', 1360): 412, ('walk', 1358): 413, ('success', 1344): 414, ('histori', 1338): 415, ('question', 1333): 416, ('zombi', 1331): 417, ('town', 1328): 418, ('relationship', 1327): 419, ('realiz', 1327): 420, ('past', 1324): 421, ('child', 1324): 422, ('daughter', 1312): 423, ('late', 1309): 424, ('b', 1306): 425, ('wish', 1303): 426, ('credit', 1295): 427, ('hate', 1295): 428, ('event', 1293): 429, ('theme', 1292): 430, ('touch', 1284): 431, ('citi', 1283): 432, ('today', 1282): 433, ('sometim', 1281): 434, ('behind', 1280): 435, ('god', 1271): 436, ('twist', 1268): 437, ('sit', 1263): 438, ('annoy', 1260): 439, ('stay', 1260): 440, ('deal', 1260): 441, ('abl', 1259): 442, ('rent', 1256): 443, ('pleas', 1253): 444, ('edit', 1250): 445, ('blood', 1245): 446, ('deserv', 1236): 447, ('comic', 1230): 448, ('anyway', 1230): 449, ('appar', 1226): 450, ('soon', 1222): 451, ('gave', 1216): 452, ('etc', 1212): 453, ('level', 1210): 454, ('slow', 1207): 455, ('chanc', 1204): 456, ('score', 1203): 457, ('bodi', 1199): 458, ('brilliant', 1196): 459, ('incred', 1194): 460, ('figur', 1190): 461, ('situat', 1188): 462, ('major', 1185): 463, ('self', 1185): 464, ('stuff', 1181): 465, ('decent', 1178): 466, ('element', 1176): 467, ('return', 1174): 468, ('dream', 1174): 469, ('obvious', 1168): 470, ('order', 1159): 471, ('continu', 1159): 472, ('pace', 1156): 473, ('ridicul', 1154): 474, ('happi', 1151): 475, ('highli', 1147): 476, ('add', 1147): 477, ('group', 1147): 478, ('thank', 1146): 479, ('ladi', 1145): 480, ('novel', 1130): 481, ('speak', 1129): 482, ('pain', 1129): 483, ('career', 1116): 484, ('shoot', 1115): 485, ('strang', 1114): 486, ('heard', 1111): 487, ('sad', 1108): 488, ('polic', 1105): 489, ('husband', 1105): 490, ('import', 1103): 491, ('break', 1101): 492, ('took', 1100): 493, ('strong', 1096): 494, ('cannot', 1096): 495, ('predict', 1095): 496, ('robert', 1095): 497, ('violenc', 1091): 498, ('hilari', 1090): 499, ('recent', 1089): 500, ('countri', 1086): 501, ('known', 1081): 502, ('particularli', 1079): 503, ('pick', 1078): 504, ('documentari', 1074): 505, ('season', 1072): 506, ('critic', 1071): 507, ('jame', 1069): 508, ('compar', 1068): 509, ('obviou', 1066): 510, ('alon', 1066): 511, ('told', 1063): 512, ('state', 1060): 513, ('rock', 1058): 514, ('visual', 1058): 515, ('offer', 1057): 516, ('exist', 1057): 517, ('theater', 1057): 518, ('opinion', 1056): 519, ('gore', 1055): 520, ('crap', 1054): 521, ('hold', 1054): 522, ('result', 1052): 523, ('room', 1050): 524, ('realiti', 1050): 525, ('hear', 1050): 526, ('clich', 1047): 527, ('effort', 1047): 528, ('thriller', 1046): 529, ('caus', 1044): 530, ('explain', 1042): 531, ('sequel', 1042): 532, ('serious', 1042): 533, ('king', 1036): 534, ('local', 1035): 535, ('ago', 1033): 536, ('none', 1032): 537, ('hell', 1032): 538, ('note', 1027): 539, ('allow', 1026): 540, ('david', 1025): 541, ('sister', 1025): 542, ('simpl', 1023): 543, ('femal', 1022): 544, ('deliv', 1021): 545, ('ok', 1017): 546, ('convinc', 1012): 547, ('class', 1012): 548, ('check', 1011): 549, ('suspens', 1009): 550, ('win', 1008): 551, ('buy', 1007): 552, ('oscar', 1007): 553, ('huge', 1006): 554, ('valu', 1004): 555, ('sexual', 1000): 556, ('scari', 998): 557, ('cool', 998): 558, ('similar', 996): 559, ('excit', 996): 560, ('exactli', 995): 561, ('apart', 995): 562, ('provid', 995): 563, ('shown', 994): 564, ('avoid', 994): 565, ('seriou', 989): 566, ('english', 987): 567, ('whose', 986): 568, ('taken', 986): 569, ('cinematographi', 983): 570, ('shock', 979): 571, ('polit', 978): 572, ('spoiler', 976): 573, ('offic', 975): 574, ('across', 971): 575, ('middl', 969): 576, ('pass', 968): 577, ('street', 968): 578, ('messag', 966): 579, ('charm', 965): 580, ('somewhat', 965): 581, ('silli', 965): 582, ('modern', 964): 583, ('confus', 959): 584, ('filmmak', 959): 585, ('form', 957): 586, ('tale', 956): 587, ('singl', 950): 588, ('jack', 945): 589, ('mostli', 941): 590, ('william', 940): 591, ('carri', 940): 592, ('attent', 940): 593, ('sing', 939): 594, ('subject', 938): 595, ('five', 938): 596, ('prove', 937): 597, ('richard', 937): 598, ('stage', 935): 599, ('team', 935): 600, ('cop', 934): 601, ('unlik', 934): 602, ('georg', 933): 603, ('televis', 932): 604, ('monster', 932): 605, ('earth', 929): 606, ('cover', 927): 607, ('villain', 927): 608, ('pay', 924): 609, ('marri', 923): 610, ('toward', 922): 611, ('build', 921): 612, ('parent', 920): 613, ('pull', 920): 614, ('due', 918): 615, ('fill', 917): 616, ('respect', 917): 617, ('dialog', 915): 618, ('four', 915): 619, ('remind', 913): 620, ('futur', 912): 621, ('typic', 908): 622, ('weak', 908): 623, ('7', 904): 624, ('cheap', 903): 625, ('intellig', 902): 626, ('atmospher', 901): 627, ('british', 901): 628, ('80', 899): 629, ('clearli', 899): 630, ('paul', 898): 631, ('non', 898): 632, ('dog', 898): 633, ('knew', 897): 634, ('8', 897): 635, ('artist', 897): 636, ('fast', 897): 637, ('crime', 896): 638, ('easili', 892): 639, ('escap', 889): 640, ('doubt', 887): 641, ('adult', 887): 642, ('detail', 884): 643, ('date', 883): 644, ('member', 879): 645, ('romant', 879): 646, ('fire', 879): 647, ('drive', 872): 648, ('gun', 872): 649, ('straight', 869): 650, ('beyond', 866): 651, ('fit', 866): 652, ('attack', 864): 653, ('imag', 860): 654, ('upon', 859): 655, ('posit', 858): 656, ('whether', 856): 657, ('fantast', 855): 658, ('peter', 855): 659, ('captur', 852): 660, ('appreci', 852): 661, ('aspect', 852): 662, ('ten', 851): 663, ('plan', 850): 664, ('discov', 849): 665, ('remain', 846): 666, ('period', 843): 667, ('near', 843): 668, ('realist', 842): 669, ('air', 842): 670, ('mark', 838): 671, ('red', 837): 672, ('dull', 836): 673, ('adapt', 835): 674, ('within', 832): 675, ('lose', 828): 676, ('spend', 828): 677, ('color', 827): 678, ('materi', 827): 679, ('chase', 824): 680, ('mari', 823): 681, ('storylin', 822): 682, ('forget', 821): 683, ('bunch', 819): 684, ('clear', 818): 685, ('lee', 817): 686, ('victim', 816): 687, ('nearli', 815): 688, ('box', 813): 689, ('york', 812): 690, ('inspir', 811): 691, ('match', 811): 692, ('mess', 809): 693, ('finish', 809): 694, ('standard', 808): 695, ('easi', 806): 696, ('truth', 805): 697, ('busi', 802): 698, ('suffer', 802): 699, ('bill', 799): 700, ('dramat', 799): 701, ('space', 799): 702, ('western', 798): 703, ('e', 797): 704, ('list', 796): 705, ('battl', 795): 706, ('notic', 793): 707, ('de', 792): 708, ('french', 790): 709, ('ad', 788): 710, ('9', 787): 711, ('tom', 785): 712, ('larg', 784): 713, ('among', 783): 714, ('eventu', 782): 715, ('accept', 781): 716, ('train', 781): 717, ('agre', 779): 718, ('spirit', 778): 719, ('soundtrack', 778): 720, ('third', 776): 721, ('teenag', 775): 722, ('soldier', 773): 723, ('adventur', 773): 724, ('suggest', 771): 725, ('drug', 771): 726, ('sorri', 771): 727, ('famou', 771): 728, ('babi', 770): 729, ('normal', 770): 730, ('cri', 770): 731, ('ultim', 769): 732, ('troubl', 769): 733, ('contain', 765): 734, ('certain', 764): 735, ('cultur', 762): 736, ('romanc', 760): 737, ('rare', 759): 738, ('lame', 758): 739, ('somehow', 757): 740, ('disney', 755): 741, ('mix', 755): 742, ('gone', 754): 743, ('cartoon', 753): 744, ('student', 752): 745, ('reveal', 751): 746, ('fear', 751): 747, ('suck', 750): 748, ('kept', 750): 749, ('attract', 749): 750, ('appeal', 748): 751, ('premis', 747): 752, ('secret', 745): 753, ('design', 745): 754, ('greatest', 745): 755, ('shame', 743): 756, ('throw', 742): 757, ('scare', 741): 758, ('copi', 741): 759, ('wit', 739): 760, ('admit', 738): 761, ('america', 738): 762, ('relat', 737): 763, ('particular', 737): 764, ('brought', 737): 765, ('screenplay', 735): 766, ('whatev', 734): 767, ('pure', 733): 768, ('70', 732): 769, ('averag', 730): 770, ('harri', 730): 771, ('master', 729): 772, ('describ', 728): 773, ('treat', 727): 774, ('male', 727): 775, ('20', 726): 776, ('issu', 725): 777, ('fantasi', 725): 778, ('warn', 724): 779, ('inde', 722): 780, ('background', 719): 781, ('forward', 719): 782, ('free', 717): 783, ('project', 717): 784, ('memor', 714): 785, ('japanes', 714): 786, ('poorli', 713): 787, ('award', 712): 788, ('locat', 711): 789, ('amus', 710): 790, ('potenti', 710): 791, ('struggl', 709): 792, ('magic', 708): 793, ('weird', 708): 794, ('societi', 707): 795, ('okay', 706): 796, ('accent', 704): 797, ('doctor', 704): 798, ('imdb', 704): 799, ('hot', 703): 800, ('water', 703): 801, ('30', 702): 802, ('express', 702): 803, ('dr', 702): 804, ('alien', 702): 805, ('odd', 701): 806, ('choic', 699): 807, ('crazi', 699): 808, ('studio', 698): 809, ('fiction', 698): 810, ('becam', 697): 811, ('control', 697): 812, ('masterpiec', 696): 813, ('difficult', 695): 814, ('fli', 695): 815, ('joe', 692): 816, ('scream', 690): 817, ('costum', 689): 818, ('lover', 688): 819, ('refer', 687): 820, ('uniqu', 687): 821, ('remak', 686): 822, ('girlfriend', 684): 823, ('vampir', 684): 824, ('prison', 682): 825, ('execut', 680): 826, ('wear', 678): 827, ('jump', 677): 828, ('unless', 675): 829, ('wood', 675): 830, ('creepi', 673): 831, ('cheesi', 672): 832, ('superb', 671): 833, ('otherwis', 670): 834, ('parti', 668): 835, ('ghost', 666): 836, ('roll', 666): 837, ('public', 664): 838, ('mad', 664): 839, ('depict', 663): 840, ('badli', 662): 841, ('earlier', 662): 842, ('week', 662): 843, ('moral', 662): 844, ('jane', 662): 845, ('fi', 660): 846, ('dumb', 660): 847, ('grow', 659): 848, ('flaw', 659): 849, ('deep', 658): 850, ('sci', 658): 851, ('cat', 657): 852, ('maker', 657): 853, ('older', 656): 854, ('connect', 656): 855, ('footag', 656): 856, ('bother', 655): 857, ('plenti', 655): 858, ('outsid', 653): 859, ('stick', 650): 860, ('gay', 649): 861, ('catch', 647): 862, ('plu', 645): 863, ('co', 645): 864, ('popular', 643): 865, ('equal', 642): 866, ('social', 641): 867, ('quickli', 639): 868, ('disturb', 639): 869, ('perfectli', 637): 870, ('dress', 636): 871, ('90', 635): 872, ('era', 635): 873, ('mistak', 634): 874, ('lie', 632): 875, ('previou', 630): 876, ('ride', 630): 877, ('combin', 629): 878, ('band', 627): 879, ('concept', 627): 880, ('surviv', 626): 881, ('answer', 626): 882, ('rich', 626): 883, ('front', 624): 884, ('sweet', 623): 885, ('christma', 623): 886, ('insid', 622): 887, ('concern', 621): 888, ('bare', 621): 889, ('eat', 621): 890, ('beat', 619): 891, ('listen', 619): 892, ('ben', 619): 893, ('c', 617): 894, ('term', 615): 895, ('serv', 615): 896, ('german', 614): 897, ('meant', 614): 898, ('la', 614): 899, ('stereotyp', 613): 900, ('hardli', 613): 901, ('law', 609): 902, ('innoc', 609): 903, ('desper', 608): 904, ('promis', 607): 905, ('memori', 607): 906, ('cute', 604): 907, ('intent', 604): 908, ('inform', 603): 909, ('variou', 603): 910, ('steal', 603): 911, ('brain', 601): 912, ('post', 600): 913, ('tone', 599): 914, ('island', 598): 915, ('amount', 597): 916, ('compani', 596): 917, ('nuditi', 596): 918, ('track', 596): 919, ('claim', 595): 920, ('store', 595): 921, ('hair', 594): 922, ('50', 594): 923, ('flat', 594): 924, ('univers', 592): 925, ('land', 592): 926, ('kick', 587): 927, ('scott', 587): 928, ('danger', 587): 929, ('fairli', 587): 930, ('player', 586): 931, ('step', 584): 932, ('plain', 584): 933, ('crew', 584): 934, ('toni', 582): 935, ('share', 581): 936, ('tast', 580): 937, ('centuri', 580): 938, ('engag', 578): 939, ('achiev', 578): 940, ('travel', 577): 941, ('cold', 577): 942, ('record', 576): 943, ('rip', 576): 944, ('suit', 576): 945, ('sadli', 575): 946, ('manner', 575): 947, ('spot', 574): 948, ('tension', 574): 949, ('wrote', 574): 950, ('intens', 573): 951, ('fascin', 573): 952, ('familiar', 572): 953, ('depth', 570): 954, ('remark', 570): 955, ('burn', 570): 956, ('destroy', 569): 957, ('histor', 569): 958, ('sleep', 568): 959, ('purpos', 567): 960, ('languag', 566): 961, ('ruin', 565): 962, ('ignor', 565): 963, ('delight', 564): 964, ('unbeliev', 563): 965, ('italian', 563): 966, ('abil', 562): 967, ('collect', 562): 968, ('soul', 562): 969, ('detect', 561): 970, ('clever', 561): 971, ('violent', 560): 972, ('rape', 559): 973, ('reach', 558): 974, ('door', 557): 975, ('liter', 556): 976, ('scienc', 556): 977, ('trash', 556): 978, ('commun', 555): 979, ('caught', 555): 980, ('reveng', 555): 981, ('creatur', 554): 982, ('approach', 552): 983, ('trip', 552): 984, ('intrigu', 550): 985, ('fashion', 550): 986, ('paint', 549): 987, ('skill', 549): 988, ('introduc', 549): 989, ('complex', 548): 990, ('channel', 548): 991, ('camp', 546): 992, ('christian', 544): 993, ('extra', 543): 994, ('hole', 543): 995, ('limit', 542): 996, ('ann', 542): 997, ('mental', 542): 998, ('immedi', 542): 999, ('million', 541): 1000, ('slightli', 541): 1001, ('mere', 541): 1002, ('comput', 541): 1003, ('6', 541): 1004, ('conclus', 539): 1005, ('slasher', 539): 1006, ('suddenli', 538): 1007, ('imposs', 538): 1008, ('neither', 537): 1009, ('teen', 537): 1010, ('crimin', 537): 1011, ('physic', 536): 1012, ('nation', 536): 1013, ('spent', 536): 1014, ('respons', 535): 1015, ('planet', 534): 1016, ('receiv', 532): 1017, ('fake', 532): 1018, ('blue', 531): 1019, ('sick', 531): 1020, ('bizarr', 529): 1021, ('embarrass', 528): 1022, ('indian', 527): 1023, ('15', 525): 1024, ('ring', 525): 1025, ('pop', 524): 1026, ('drop', 524): 1027, ('drag', 523): 1028, ('haunt', 521): 1029, ('suspect', 519): 1030, ('pointless', 519): 1031, ('edg', 517): 1032, ('search', 517): 1033, ('handl', 516): 1034, ('common', 515): 1035, ('biggest', 515): 1036, ('faith', 514): 1037, ('arriv', 514): 1038, ('hurt', 514): 1039, ('technic', 513): 1040, ('angel', 512): 1041, ('genuin', 511): 1042, ('dad', 511): 1043, ('f', 510): 1044, ('solid', 510): 1045, ('awesom', 510): 1046, ('focu', 509): 1047, ('former', 509): 1048, ('van', 509): 1049, ('colleg', 509): 1050, ('count', 507): 1051, ('tear', 506): 1052, ('heavi', 506): 1053, ('rais', 505): 1054, ('wall', 505): 1055, ('visit', 504): 1056, ('laughabl', 504): 1057, ('younger', 504): 1058, ('sign', 503): 1059, ('excus', 503): 1060, ('fair', 503): 1061, ('cult', 502): 1062, ('motion', 501): 1063, ('tough', 501): 1064, ('key', 501): 1065, ('desir', 500): 1066, ('super', 500): 1067, ('addit', 499): 1068, ('stun', 499): 1069, ('exploit', 497): 1070, ('cloth', 497): 1071, ('tortur', 496): 1072, ('smith', 496): 1073, ('davi', 495): 1074, ('race', 495): 1075, ('cross', 494): 1076, ('author', 494): 1077, ('jim', 492): 1078, ('focus', 491): 1079, ('compel', 491): 1080, ('consist', 491): 1081, ('minor', 491): 1082, ('commit', 490): 1083, ('chemistri', 490): 1084, ('pathet', 490): 1085, ('park', 489): 1086, ('tradit', 488): 1087, ('obsess', 488): 1088, ('frank', 488): 1089, ('grade', 487): 1090, ('60', 486): 1091, ('asid', 486): 1092, ('brutal', 485): 1093, ('steve', 483): 1094, ('somewher', 483): 1095, ('explor', 482): 1096, ('opportun', 482): 1097, ('depress', 482): 1098, ('grant', 482): 1099, ('rule', 482): 1100, ('u', 482): 1101, ('besid', 481): 1102, ('honest', 481): 1103, ('dub', 480): 1104, ('anti', 480): 1105, ('intend', 479): 1106, ('trailer', 479): 1107, ('bar', 478): 1108, ('regard', 477): 1109, ('west', 477): 1110, ('scientist', 477): 1111, ('longer', 477): 1112, ('decad', 476): 1113, ('judg', 476): 1114, ('silent', 475): 1115, ('armi', 474): 1116, ('creativ', 474): 1117, ('wild', 473): 1118, ('south', 472): 1119, ('g', 472): 1120, ('stewart', 472): 1121, ('draw', 471): 1122, ('road', 470): 1123, ('govern', 469): 1124, ('ex', 468): 1125, ('boss', 468): 1126, ('practic', 467): 1127, ('club', 466): 1128, ('gang', 466): 1129, ('surprisingli', 466): 1130, ('festiv', 466): 1131, ('motiv', 466): 1132, ('page', 465): 1133, ('redeem', 465): 1134, ('green', 465): 1135, ('london', 465): 1136, ('machin', 464): 1137, ('display', 464): 1138, ('idiot', 464): 1139, ('aliv', 464): 1140, ('militari', 464): 1141, ('repeat', 463): 1142, ('thrill', 463): 1143, ('nobodi', 462): 1144, ('yeah', 462): 1145, ('100', 462): 1146, ('folk', 462): 1147, ('40', 461): 1148, ('journey', 460): 1149, ('garbag', 460): 1150, ('ground', 459): 1151, ('tire', 459): 1152, ('smile', 459): 1153, ('mood', 458): 1154, ('bought', 458): 1155, ('stone', 457): 1156, ('cost', 457): 1157, ('sam', 457): 1158, ('mouth', 456): 1159, ('noir', 456): 1160, ('terrif', 455): 1161, ('agent', 455): 1162, ('requir', 454): 1163, ('utterli', 454): 1164, ('sexi', 453): 1165, ('honestli', 453): 1166, ('area', 453): 1167, ('report', 452): 1168, ('geniu', 452): 1169, ('glad', 451): 1170, ('investig', 451): 1171, ('humour', 451): 1172, ('enter', 451): 1173, ('serial', 450): 1174, ('narr', 449): 1175, ('occasion', 449): 1176, ('passion', 449): 1177, ('marriag', 448): 1178, ('climax', 448): 1179, ('studi', 447): 1180, ('industri', 447): 1181, ('nowher', 446): 1182, ('charli', 446): 1183, ('ship', 446): 1184, ('center', 446): 1185, ('demon', 446): 1186, ('bear', 445): 1187, ('loos', 445): 1188, ('hors', 445): 1189, ('wow', 444): 1190, ('hang', 444): 1191, ('graphic', 442): 1192, ('admir', 440): 1193, ('giant', 440): 1194, ('send', 439): 1195, ('loud', 438): 1196, ('damn', 438): 1197, ('nake', 437): 1198, ('rel', 437): 1199, ('subtl', 437): 1200, ('profession', 437): 1201, ('blow', 436): 1202, ('bottom', 435): 1203, ('batman', 434): 1204, ('insult', 434): 1205, ('boyfriend', 433): 1206, ('kelli', 433): 1207, ('doubl', 433): 1208, ('r', 433): 1209, ('initi', 431): 1210, ('frame', 430): 1211, ('opera', 429): 1212, ('gem', 429): 1213, ('affect', 428): 1214, ('challeng', 428): 1215, ('cinemat', 428): 1216, ('drawn', 428): 1217, ('church', 428): 1218, ('fulli', 426): 1219, ('nightmar', 426): 1220, ('l', 426): 1221, ('seek', 426): 1222, ('j', 426): 1223, ('evid', 426): 1224, ('arm', 425): 1225, ('essenti', 425): 1226, ('conflict', 425): 1227, ('henri', 424): 1228, ('wind', 424): 1229, ('grace', 424): 1230, ('christoph', 424): 1231, ('assum', 423): 1232, ('witch', 423): 1233, ('narrat', 423): 1234, ('push', 422): 1235, ('hunt', 422): 1236, ('wise', 421): 1237, ('chri', 421): 1238, ('nomin', 420): 1239, ('month', 420): 1240, ('repres', 420): 1241, ('avail', 419): 1242, ('sceneri', 419): 1243, ('hide', 419): 1244, ('affair', 419): 1245, ('thu', 418): 1246, ('justic', 418): 1247, ('smart', 418): 1248, ('bond', 418): 1249, ('flashback', 417): 1250, ('interview', 417): 1251, ('outstand', 417): 1252, ('constantli', 416): 1253, ('presenc', 416): 1254, ('satisfi', 416): 1255, ('central', 415): 1256, ('bed', 415): 1257, ('iron', 414): 1258, ('sell', 414): 1259, ('content', 414): 1260, ('gag', 413): 1261, ('everybodi', 413): 1262, ('slowli', 412): 1263, ('hotel', 412): 1264, ('hire', 411): 1265, ('system', 410): 1266, ('individu', 409): 1267, ('hey', 409): 1268, ('charl', 409): 1269, ('adam', 409): 1270, ('thrown', 409): 1271, ('mediocr', 408): 1272, ('jone', 408): 1273, ('allen', 408): 1274, ('billi', 407): 1275, ('ray', 407): 1276, ('lesson', 407): 1277, ('cameo', 406): 1278, ('photographi', 406): 1279, ('fellow', 405): 1280, ('pari', 405): 1281, ('strike', 404): 1282, ('independ', 403): 1283, ('absurd', 403): 1284, ('rise', 403): 1285, ('brief', 403): 1286, ('neg', 402): 1287, ('impact', 401): 1288, ('phone', 401): 1289, ('model', 400): 1290, ('ill', 400): 1291, ('born', 400): 1292, ('fresh', 399): 1293, ('angl', 399): 1294, ('spoil', 399): 1295, ('likabl', 398): 1296, ('abus', 398): 1297, ('discuss', 397): 1298, ('hill', 397): 1299, ('sight', 396): 1300, ('ahead', 396): 1301, ('sent', 395): 1302, ('photograph', 395): 1303, ('blame', 394): 1304, ('occur', 394): 1305, ('shine', 394): 1306, ('logic', 394): 1307, ('mainli', 393): 1308, ('bruce', 393): 1309, ('forev', 392): 1310, ('commerci', 392): 1311, ('skip', 392): 1312, ('surround', 391): 1313, ('teacher', 391): 1314, ('held', 391): 1315, ('segment', 391): 1316, ('blond', 390): 1317, ('zero', 390): 1318, ('trap', 389): 1319, ('resembl', 389): 1320, ('summer', 389): 1321, ('satir', 389): 1322, ('fool', 388): 1323, ('six', 388): 1324, ('queen', 388): 1325, ('ball', 388): 1326, ('sub', 387): 1327, ('tragedi', 387): 1328, ('twice', 387): 1329, ('reaction', 386): 1330, ('pack', 386): 1331, ('bomb', 385): 1332, ('hospit', 384): 1333, ('will', 384): 1334, ('protagonist', 384): 1335, ('mile', 383): 1336, ('sport', 383): 1337, ('trust', 382): 1338, ('drink', 382): 1339, ('jerri', 382): 1340, ('vote', 382): 1341, ('mom', 382): 1342, ('encount', 381): 1343, ('plane', 380): 1344, ('current', 379): 1345, ('station', 379): 1346, ('program', 379): 1347, ('al', 379): 1348, ('choos', 378): 1349, ('martin', 378): 1350, ('celebr', 378): 1351, ('join', 377): 1352, ('tragic', 376): 1353, ('field', 376): 1354, ('favourit', 376): 1355, ('round', 376): 1356, ('lord', 376): 1357, ('jean', 375): 1358, ('vision', 375): 1359, ('robot', 375): 1360, ('tie', 374): 1361, ('arthur', 374): 1362, ('random', 373): 1363, ('fortun', 373): 1364, ('roger', 373): 1365, ('dread', 372): 1366, ('psycholog', 372): 1367, ('intern', 372): 1368, ('improv', 371): 1369, ('nonsens', 371): 1370, ('prefer', 371): 1371, ('epic', 371): 1372, ('highlight', 370): 1373, ('pleasur', 370): 1374, ('legend', 370): 1375, ('formula', 370): 1376, ('11', 369): 1377, ('tape', 369): 1378, ('dollar', 369): 1379, ('wide', 368): 1380, ('fox', 368): 1381, ('thin', 368): 1382, ('gorgeou', 368): 1383, ('object', 368): 1384, ('porn', 368): 1385, ('influenc', 367): 1386, ('ugli', 367): 1387, ('buddi', 367): 1388, ('prepar', 366): 1389, ('ii', 366): 1390, ('nasti', 366): 1391, ('progress', 365): 1392, ('warm', 365): 1393, ('reflect', 365): 1394, ('supposedli', 365): 1395, ('youth', 364): 1396, ('worthi', 364): 1397, ('length', 362): 1398, ('latter', 362): 1399, ('unusu', 362): 1400, ('crash', 361): 1401, ('seven', 360): 1402, ('childhood', 360): 1403, ('superior', 360): 1404, ('shop', 360): 1405, ('theatr', 359): 1406, ('remot', 359): 1407, ('paid', 358): 1408, ('pilot', 358): 1409, ('funniest', 358): 1410, ('disgust', 358): 1411, ('convers', 357): 1412, ('trick', 357): 1413, ('fell', 357): 1414, ('castl', 357): 1415, ('establish', 356): 1416, ('disast', 356): 1417, ('rob', 356): 1418, ('gangster', 356): 1419, ('disappear', 355): 1420, ('suicid', 355): 1421, ('ident', 355): 1422, ('mine', 355): 1423, ('heaven', 355): 1424, ('heroin', 353): 1425, ('mask', 353): 1426, ('tend', 353): 1427, ('decis', 353): 1428, ('forgotten', 353): 1429, ('singer', 353): 1430, ('brian', 352): 1431, ('partner', 352): 1432, ('alan', 351): 1433, ('recogn', 351): 1434, ('desert', 351): 1435, ('thoroughli', 350): 1436, ('stuck', 350): 1437, ('sky', 350): 1438, ('p', 350): 1439, ('ms', 350): 1440, ('accur', 349): 1441, ('replac', 349): 1442, ('market', 348): 1443, ('danni', 347): 1444, ('andi', 347): 1445, ('clue', 347): 1446, ('seemingli', 347): 1447, ('uncl', 347): 1448, ('eddi', 347): 1449, ('commentari', 347): 1450, ('jackson', 346): 1451, ('devil', 346): 1452, ('pair', 345): 1453, ('that', 345): 1454, ('refus', 345): 1455, ('therefor', 345): 1456, ('unit', 344): 1457, ('accid', 344): 1458, ('fault', 344): 1459, ('ed', 344): 1460, ('river', 344): 1461, ('fate', 344): 1462, ('afraid', 343): 1463, ('tune', 343): 1464, ('hidden', 342): 1465, ('clean', 342): 1466, ('stephen', 342): 1467, ('russian', 342): 1468, ('quick', 341): 1469, ('convey', 341): 1470, ('captain', 341): 1471, ('test', 341): 1472, ('irrit', 341): 1473, ('instanc', 341): 1474, ('readi', 341): 1475, ('european', 340): 1476, ('frustrat', 339): 1477, ('daniel', 339): 1478, ('insan', 339): 1479, ('1950', 338): 1480, ('chines', 338): 1481, ('food', 338): 1482, ('rescu', 338): 1483, ('wed', 338): 1484, ('dirti', 337): 1485, ('angri', 337): 1486, ('lock', 337): 1487, ('joy', 336): 1488, ('steven', 335): 1489, ('price', 335): 1490, ('bland', 334): 1491, ('cage', 334): 1492, ('anymor', 333): 1493, ('rang', 333): 1494, ('wooden', 332): 1495, ('n', 331): 1496, ('jason', 331): 1497, ('news', 331): 1498, ('rush', 331): 1499, ('martial', 330): 1500, ('worri', 330): 1501, ('twenti', 330): 1502, ('board', 330): 1503, ('12', 330): 1504, ('led', 330): 1505, ('symbol', 329): 1506, ('cgi', 329): 1507, ('transform', 329): 1508, ('hunter', 329): 1509, ('johnni', 328): 1510, ('onto', 328): 1511, ('sentiment', 328): 1512, ('x', 328): 1513, ('invent', 328): 1514, ('piti', 328): 1515, ('explan', 327): 1516, ('process', 327): 1517, ('attitud', 327): 1518, ('awar', 326): 1519, ('owner', 326): 1520, ('aim', 325): 1521, ('necessari', 324): 1522, ('favor', 324): 1523, ('energi', 324): 1524, ('target', 324): 1525, ('floor', 324): 1526, ('opposit', 323): 1527, ('religi', 323): 1528, ('chick', 322): 1529, ('insight', 322): 1530, ('window', 322): 1531, ('blind', 322): 1532, ('movement', 321): 1533, ('comparison', 320): 1534, ('research', 320): 1535, ('deepli', 320): 1536, ('possess', 320): 1537, ('mountain', 320): 1538, ('grand', 319): 1539, ('whatsoev', 319): 1540, ('comed', 319): 1541, ('rain', 319): 1542, ('began', 318): 1543, ('mid', 318): 1544, ('shadow', 318): 1545, ('bank', 318): 1546, ('parodi', 317): 1547, ('princ', 317): 1548, ('friendship', 316): 1549, ('pre', 316): 1550, ('weapon', 316): 1551, ('credibl', 316): 1552, ('taylor', 316): 1553, ('dougla', 315): 1554, ('flesh', 315): 1555, ('teach', 315): 1556, ('hint', 314): 1557, ('terror', 314): 1558, ('protect', 314): 1559, ('bloodi', 314): 1560, ('marvel', 312): 1561, ('superman', 311): 1562, ('load', 311): 1563, ('leader', 311): 1564, ('anybodi', 311): 1565, ('drunk', 311): 1566, ('accord', 311): 1567, ('watchabl', 311): 1568, ('freddi', 310): 1569, ('brown', 310): 1570, ('tim', 309): 1571, ('hitler', 309): 1572, ('appropri', 309): 1573, ('seat', 309): 1574, ('jeff', 309): 1575, ('charg', 308): 1576, ('unknown', 308): 1577, ('knock', 308): 1578, ('keaton', 308): 1579, ('villag', 308): 1580, ('england', 307): 1581, ('enemi', 307): 1582, ('empti', 307): 1583, ('unnecessari', 307): 1584, ('media', 307): 1585, ('utter', 306): 1586, ('craft', 306): 1587, ('wave', 306): 1588, ('perspect', 306): 1589, ('strength', 306): 1590, ('buck', 306): 1591, ('dare', 306): 1592, ('kiss', 305): 1593, ('contrast', 305): 1594, ('correct', 305): 1595, ('ford', 305): 1596, ('nativ', 305): 1597, ('speed', 304): 1598, ('soap', 304): 1599, ('distract', 304): 1600, ('anywher', 304): 1601, ('magnific', 304): 1602, ('chill', 304): 1603, ('nazi', 304): 1604, ('knowledg', 304): 1605, ('fred', 303): 1606, ('1980', 303): 1607, ('ice', 303): 1608, ('mission', 303): 1609, ('breath', 303): 1610, ('jr', 302): 1611, ('crowd', 302): 1612, ('moon', 302): 1613, ('joan', 302): 1614, ('frighten', 301): 1615, ('soft', 301): 1616, ('kate', 301): 1617, ('000', 301): 1618, ('nick', 300): 1619, ('dick', 300): 1620, ('dan', 300): 1621, ('hundr', 300): 1622, ('dozen', 299): 1623, ('simon', 299): 1624, ('somebodi', 299): 1625, ('radio', 299): 1626, ('loss', 298): 1627, ('academi', 298): 1628, ('thousand', 298): 1629, ('shakespear', 298): 1630, ('andrew', 298): 1631, ('vehicl', 297): 1632, ('root', 297): 1633, ('account', 297): 1634, ('sum', 297): 1635, ('quot', 297): 1636, ('leg', 296): 1637, ('behavior', 296): 1638, ('convent', 296): 1639, ('1970', 296): 1640, ('gold', 295): 1641, ('regular', 295): 1642, ('demand', 294): 1643, ('pretenti', 294): 1644, ('worker', 294): 1645, ('compet', 294): 1646, ('candi', 293): 1647, ('notabl', 293): 1648, ('privat', 293): 1649, ('explos', 293): 1650, ('lynch', 293): 1651, ('stretch', 293): 1652, ('japan', 293): 1653, ('interpret', 293): 1654, ('tarzan', 292): 1655, ('constant', 292): 1656, ('debut', 292): 1657, ('prais', 291): 1658, ('sea', 291): 1659, ('revolv', 291): 1660, ('translat', 291): 1661, ('spi', 291): 1662, ('quiet', 290): 1663, ('ass', 290): 1664, ('technolog', 290): 1665, ('failur', 290): 1666, ('sat', 290): 1667, ('franc', 290): 1668, ('jesu', 290): 1669, ('threaten', 290): 1670, ('kevin', 289): 1671, ('punch', 289): 1672, ('toy', 289): 1673, ('met', 289): 1674, ('higher', 289): 1675, ('aid', 289): 1676, ('abandon', 288): 1677, ('mike', 288): 1678, ('interact', 288): 1679, ('vh', 288): 1680, ('command', 287): 1681, ('separ', 287): 1682, ('bet', 287): 1683, ('confront', 287): 1684, ('site', 286): 1685, ('techniqu', 286): 1686, ('stunt', 286): 1687, ('gotten', 286): 1688, ('servic', 286): 1689, ('recal', 286): 1690, ('belong', 286): 1691, ('foot', 285): 1692, ('cabl', 285): 1693, ('freak', 285): 1694, ('bug', 285): 1695, ('capabl', 284): 1696, ('bright', 284): 1697, ('fu', 284): 1698, ('african', 284): 1699, ('jimmi', 284): 1700, ('presid', 283): 1701, ('stock', 283): 1702, ('succeed', 283): 1703, ('boat', 283): 1704, ('fat', 283): 1705, ('clark', 283): 1706, ('gene', 282): 1707, ('structur', 282): 1708, ('spanish', 282): 1709, ('paper', 281): 1710, ('kidnap', 281): 1711, ('whilst', 280): 1712, ('belief', 280): 1713, ('factor', 280): 1714, ('complic', 279): 1715, ('realis', 279): 1716, ('witti', 279): 1717, ('educ', 279): 1718, ('realism', 279): 1719, ('tree', 279): 1720, ('attend', 279): 1721, ('bob', 279): 1722, ('broken', 278): 1723, ('assist', 278): 1724, ('finest', 278): 1725, ('santa', 278): 1726, ('smoke', 277): 1727, ('depart', 277): 1728, ('up', 277): 1729, ('observ', 277): 1730, ('determin', 277): 1731, ('v', 277): 1732, ('rubbish', 276): 1733, ('lewi', 276): 1734, ('domin', 276): 1735, ('hat', 276): 1736, ('fame', 276): 1737, ('routin', 276): 1738, ('oper', 276): 1739, ('advanc', 275): 1740, ('kinda', 275): 1741, ('lone', 275): 1742, ('safe', 275): 1743, ('foreign', 275): 1744, ('hook', 275): 1745, ('morgan', 275): 1746, ('numer', 274): 1747, ('rank', 274): 1748, ('civil', 273): 1749, ('rose', 273): 1750, ('shallow', 273): 1751, ('vs', 273): 1752, ('shape', 273): 1753, ('washington', 273): 1754, ('werewolf', 273): 1755, ('gari', 272): 1756, ('morn', 272): 1757, ('accomplish', 271): 1758, ('winner', 271): 1759, ('kong', 271): 1760, ('ordinari', 271): 1761, ('virtual', 270): 1762, ('grab', 270): 1763, ('whenev', 270): 1764, ('peac', 270): 1765, ('h', 269): 1766, ('offens', 269): 1767, ('luck', 269): 1768, ('welcom', 268): 1769, ('contriv', 268): 1770, ('activ', 268): 1771, ('bigger', 268): 1772, ('patient', 268): 1773, ('complain', 268): 1774, ('unfunni', 268): 1775, ('dimension', 267): 1776, ('pretend', 267): 1777, ('trek', 267): 1778, ('con', 267): 1779, ('lesbian', 266): 1780, ('cain', 266): 1781, ('eric', 266): 1782, ('wake', 266): 1783, ('dri', 266): 1784, ('flash', 266): 1785, ('code', 266): 1786, ('manipul', 265): 1787, ('corrupt', 265): 1788, ('statu', 265): 1789, ('dancer', 265): 1790, ('guard', 265): 1791, ('albert', 265): 1792, ('context', 264): 1793, ('speech', 264): 1794, ('awkward', 264): 1795, ('signific', 264): 1796, ('gain', 264): 1797, ('sourc', 264): 1798, ('13', 263): 1799, ('psycho', 263): 1800, ('anthoni', 263): 1801, ('clip', 263): 1802, ('corni', 263): 1803, ('sean', 263): 1804, ('advic', 262): 1805, ('w', 262): 1806, ('theatric', 262): 1807, ('reli', 262): 1808, ('priest', 262): 1809, ('curiou', 262): 1810, ('religion', 262): 1811, ('addict', 261): 1812, ('flow', 261): 1813, ('howard', 260): 1814, ('specif', 260): 1815, ('skin', 260): 1816, ('jennif', 260): 1817, ('secur', 260): 1818, ('asian', 260): 1819, ('promot', 259): 1820, ('core', 259): 1821, ('organ', 259): 1822, ('comfort', 259): 1823, ('golden', 259): 1824, ('luke', 259): 1825, ('cheat', 258): 1826, ('lucki', 258): 1827, ('cash', 258): 1828, ('associ', 257): 1829, ('dislik', 257): 1830, ('lower', 257): 1831, ('balanc', 256): 1832, ('frankli', 256): 1833, ('devic', 256): 1834, ('frequent', 256): 1835, ('wing', 256): 1836, ('regret', 256): 1837, ('contribut', 256): 1838, ('spell', 256): 1839, ('degre', 256): 1840, ('sake', 255): 1841, ('print', 255): 1842, ('forgiv', 255): 1843, ('lake', 255): 1844, ('mass', 254): 1845, ('betti', 254): 1846, ('thoma', 254): 1847, ('unexpect', 253): 1848, ('gordon', 253): 1849, ('crack', 253): 1850, ('invit', 252): 1851, ('depend', 252): 1852, ('unfold', 252): 1853, ('grown', 252): 1854, ('amateur', 252): 1855, ('construct', 252): 1856, ('categori', 252): 1857, ('condit', 251): 1858, ('intellectu', 251): 1859, ('honor', 251): 1860, ('walter', 251): 1861, ('matur', 251): 1862, ('grew', 251): 1863, ('anna', 251): 1864, ('sudden', 250): 1865, ('mirror', 250): 1866, ('spectacular', 250): 1867, ('sole', 250): 1868, ('veteran', 250): 1869, ('meanwhil', 249): 1870, ('robin', 249): 1871, ('demonstr', 249): 1872, ('gift', 249): 1873, ('overli', 249): 1874, ('card', 249): 1875, ('liner', 249): 1876, ('experienc', 249): 1877, ('grip', 249): 1878, ('freedom', 249): 1879, ('brilliantli', 248): 1880, ('theori', 248): 1881, ('unabl', 248): 1882, ('section', 248): 1883, ('sheriff', 248): 1884, ('subtitl', 248): 1885, ('crappi', 248): 1886, ('circumst', 248): 1887, ('oliv', 248): 1888, ('drew', 248): 1889, ('colour', 248): 1890, ('matt', 247): 1891, ('parker', 247): 1892, ('path', 247): 1893, ('cook', 247): 1894, ('sheer', 247): 1895, ('altern', 247): 1896, ('pile', 247): 1897, ('laughter', 247): 1898, ('wander', 246): 1899, ('hall', 246): 1900, ('lawyer', 246): 1901, ('relief', 246): 1902, ('treatment', 246): 1903, ('accident', 246): 1904, ('defin', 246): 1905, ('sinatra', 246): 1906, ('captiv', 245): 1907, ('dragon', 245): 1908, ('hank', 245): 1909, ('gratuit', 244): 1910, ('moor', 244): 1911, ('halloween', 244): 1912, ('wayn', 243): 1913, ('barbara', 243): 1914, ('jacki', 243): 1915, ('wound', 243): 1916, ('broadway', 243): 1917, ('kung', 243): 1918, ('k', 243): 1919, ('cowboy', 243): 1920, ('unintent', 243): 1921, ('statement', 242): 1922, ('surreal', 242): 1923, ('canadian', 242): 1924, ('spoof', 242): 1925, ('winter', 242): 1926, ('treasur', 241): 1927, ('fare', 241): 1928, ('fish', 241): 1929, ('gonna', 241): 1930, ('compos', 241): 1931, ('cheer', 241): 1932, ('victor', 240): 1933, ('unrealist', 240): 1934, ('sensit', 240): 1935, ('emerg', 240): 1936, ('woodi', 240): 1937, ('ran', 239): 1938, ('sympathet', 239): 1939, ('neighbor', 239): 1940, ('driven', 239): 1941, ('menac', 238): 1942, ('expos', 238): 1943, ('overlook', 238): 1944, ('topic', 238): 1945, ('glass', 238): 1946, ('authent', 238): 1947, ('gross', 237): 1948, ('chief', 237): 1949, ('ancient', 237): 1950, ('handsom', 237): 1951, ('michel', 237): 1952, ('contemporari', 236): 1953, ('stranger', 236): 1954, ('pleasant', 236): 1955, ('comedian', 236): 1956, ('feet', 236): 1957, ('nevertheless', 236): 1958, ('built', 236): 1959, ('network', 236): 1960, ('russel', 236): 1961, ('cinderella', 236): 1962, ('consider', 235): 1963, ('blockbust', 235): 1964, ('gori', 235): 1965, ('letter', 235): 1966, ('endless', 235): 1967, ('earn', 235): 1968, ('miser', 235): 1969, ('underr', 235): 1970, ('solv', 234): 1971, ('brook', 234): 1972, ('switch', 234): 1973, ('joseph', 233): 1974, ('bullet', 233): 1975, ('edward', 233): 1976, ('convict', 233): 1977, ('virgin', 233): 1978, ('victoria', 233): 1979, ('chosen', 232): 1980, ('cynic', 232): 1981, ('scale', 232): 1982, ('scenario', 232): 1983, ('0', 232): 1984, ('alex', 232): 1985, ('outrag', 231): 1986, ('gut', 231): 1987, ('curs', 231): 1988, ('sword', 231): 1989, ('com', 231): 1990, ('screenwrit', 230): 1991, ('substanc', 230): 1992, ('driver', 230): 1993, ('wrap', 230): 1994, ('juli', 230): 1995, ('monkey', 230): 1996, ('uk', 230): 1997, ('proper', 230): 1998, ('bird', 229): 1999, ('par', 229): 2000, ('indic', 229): 2001, ('court', 229): 2002, ('remov', 229): 2003, ('loser', 228): 2004, ('inevit', 228): 2005, ('consequ', 228): 2006, ('nanci', 228): 2007, ('advertis', 228): 2008, ('naiv', 228): 2009, ('roy', 228): 2010, ('grave', 228): 2011, ('rental', 228): 2012, ('brave', 227): 2013, ('fatal', 227): 2014, ('germani', 227): 2015, ('slap', 227): 2016, ('le', 227): 2017, ('bridg', 227): 2018, ('invis', 227): 2019, ('provok', 226): 2020, ('loui', 226): 2021, ('ador', 226): 2022, ('footbal', 226): 2023, ('anger', 226): 2024, ('chan', 225): 2025, ('alcohol', 225): 2026, ('anderson', 225): 2027, ('willi', 224): 2028, ('stumbl', 224): 2029, ('professor', 224): 2030, ('ryan', 224): 2031, ('assassin', 223): 2032, ('sharp', 223): 2033, ('patrick', 223): 2034, ('australian', 223): 2035, ('1930', 223): 2036, ('bat', 223): 2037, ('deni', 222): 2038, ('amateurish', 222): 2039, ('saturday', 222): 2040, ('eight', 222): 2041, ('heck', 222): 2042, ('cell', 222): 2043, ('lousi', 222): 2044, ('ape', 222): 2045, ('strongli', 222): 2046, ('refresh', 222): 2047, ('trilog', 222): 2048, ('liber', 222): 2049, ('sin', 221): 2050, ('vagu', 220): 2051, ('resid', 220): 2052, ('san', 220): 2053, ('justifi', 220): 2054, ('reput', 219): 2055, ('mini', 219): 2056, ('defeat', 219): 2057, ('indi', 219): 2058, ('terrifi', 219): 2059, ('sympathi', 219): 2060, ('creator', 219): 2061, ('prevent', 218): 2062, ('expert', 218): 2063, ('task', 218): 2064, ('tediou', 218): 2065, ('endur', 218): 2066, ('tabl', 218): 2067, ('offend', 217): 2068, ('imit', 217): 2069, ('employ', 217): 2070, ('trial', 217): 2071, ('rival', 217): 2072, ('basebal', 217): 2073, ('che', 217): 2074, ('europ', 216): 2075, ('complaint', 216): 2076, ('dig', 216): 2077, ('fairi', 216): 2078, ('pitch', 216): 2079, ('beach', 216): 2080, ('weekend', 216): 2081, ('max', 216): 2082, ('purchas', 215): 2083, ('format', 215): 2084, ('murphi', 215): 2085, ('risk', 215): 2086, ('powel', 214): 2087, ('glimps', 214): 2088, ('tini', 214): 2089, ('nois', 214): 2090, ('titan', 214): 2091, ('reminisc', 214): 2092, ('bite', 214): 2093, ('hype', 214): 2094, ('harsh', 214): 2095, ('strip', 213): 2096, ('asleep', 213): 2097, ('14', 213): 2098, ('till', 213): 2099, ('north', 213): 2100, ('prime', 213): 2101, ('fals', 213): 2102, ('destruct', 212): 2103, ('descript', 212): 2104, ('africa', 212): 2105, ('revel', 212): 2106, ('texa', 212): 2107, ('excess', 211): 2108, ('arrest', 211): 2109, ('surfac', 211): 2110, ('uninterest', 211): 2111, ('sitcom', 211): 2112, ('semi', 211): 2113, ('spin', 211): 2114, ('inner', 211): 2115, ('hitchcock', 210): 2116, ('argu', 210): 2117, ('massiv', 210): 2118, ('controversi', 210): 2119, ('dinosaur', 210): 2120, ('maintain', 210): 2121, ('makeup', 210): 2122, ('twin', 210): 2123, ('stare', 209): 2124, ('insist', 209): 2125, ('reject', 209): 2126, ('melodrama', 209): 2127, ('expens', 209): 2128, ('ideal', 209): 2129, ('ludicr', 209): 2130, ('kim', 209): 2131, ('erot', 208): 2132, ('supernatur', 208): 2133, ('ala', 208): 2134, ('press', 208): 2135, ('nail', 208): 2136, ('forest', 208): 2137, ('ga', 208): 2138, ('subplot', 208): 2139, ('host', 208): 2140, ('atroci', 208): 2141, ('columbo', 208): 2142, ('dude', 207): 2143, ('cant', 207): 2144, ('notch', 207): 2145, ('presum', 207): 2146, ('identifi', 207): 2147, ('guest', 206): 2148, ('crude', 206): 2149, ('forgett', 206): 2150, ('method', 206): 2151, ('character', 206): 2152, ('closer', 206): 2153, ('plagu', 206): 2154, ('foster', 205): 2155, ('landscap', 205): 2156, ('ear', 205): 2157, ('princess', 205): 2158, ('lion', 205): 2159, ('border', 205): 2160, ('beast', 205): 2161, ('previous', 204): 2162, ('bound', 204): 2163, ('birth', 204): 2164, ('jungl', 204): 2165, ('storytel', 204): 2166, ('damag', 204): 2167, ('accus', 204): 2168, ('pacino', 204): 2169, ('urban', 204): 2170, ('aunt', 204): 2171, ('guid', 203): 2172, ('doll', 203): 2173, ('nude', 203): 2174, ('thirti', 203): 2175, ('emma', 203): 2176, ('propaganda', 203): 2177, ('chose', 203): 2178, ('jess', 203): 2179, ('mainstream', 202): 2180, ('pet', 202): 2181, ('mate', 202): 2182, ('warrior', 202): 2183, ('whoever', 202): 2184, ('25', 202): 2185, ('gritti', 201): 2186, ('upset', 201): 2187, ('merit', 201): 2188, ('exact', 201): 2189, ('cooper', 201): 2190, ('latest', 201): 2191, ('poster', 201): 2192, ('deadli', 201): 2193, ('size', 201): 2194, ('friday', 201): 2195, ('sun', 200): 2196, ('wilson', 200): 2197, ('contact', 200): 2198, ('warner', 200): 2199, ('1990', 200): 2200, ('citizen', 200): 2201, ('rough', 200): 2202, ('popul', 200): 2203, ('settl', 200): 2204, ('corps', 200): 2205, ('blend', 200): 2206, ('ton', 200): 2207, ('buff', 200): 2208, ('contest', 200): 2209, ('overcom', 199): 2210, ('mgm', 199): 2211, ('widow', 199): 2212, ('alic', 199): 2213, ('bu', 199): 2214, ('rat', 199): 2215, ('select', 199): 2216, ('environ', 199): 2217, ('metal', 199): 2218, ('pitt', 199): 2219, ('particip', 198): 2220, ('guilti', 198): 2221, ('revolut', 198): 2222, ('link', 198): 2223, ('ted', 198): 2224, ('lift', 198): 2225, ('corner', 197): 2226, ('matrix', 197): 2227, ('moron', 197): 2228, ('afternoon', 197): 2229, ('johnson', 197): 2230, ('prostitut', 197): 2231, ('exagger', 197): 2232, ('1960', 197): 2233, ('accompani', 197): 2234, ('corpor', 197): 2235, ('leagu', 196): 2236, ('sincer', 196): 2237, ('instal', 196): 2238, ('multipl', 196): 2239, ('doom', 196): 2240, ('clair', 196): 2241, ('hood', 196): 2242, ('friendli', 196): 2243, ('holm', 196): 2244, ('grim', 195): 2245, ('string', 195): 2246, ('examin', 195): 2247, ('junk', 195): 2248, ('advis', 195): 2249, ('aka', 195): 2250, ('blah', 195): 2251, ('defend', 195): 2252, ('hip', 195): 2253, ('campi', 195): 2254, ('sunday', 195): 2255, ('irish', 195): 2256, ('lugosi', 195): 2257, ('tight', 194): 2258, ('icon', 194): 2259, ('varieti', 194): 2260, ('pro', 194): 2261, ('shake', 194): 2262, ('shut', 194): 2263, ('confid', 194): 2264, ('rachel', 194): 2265, ('jaw', 193): 2266, ('denni', 193): 2267, ('goal', 193): 2268, ('attach', 193): 2269, ('sullivan', 193): 2270, ('directli', 193): 2271, ('medic', 193): 2272, ('mexican', 193): 2273, ('prior', 192): 2274, ('sarah', 192): 2275, ('courag', 192): 2276, ('vietnam', 192): 2277, ('breast', 192): 2278, ('terrorist', 192): 2279, ('dean', 192): 2280, ('sentenc', 192): 2281, ('truck', 192): 2282, ('legendari', 192): 2283, ('bourn', 192): 2284, ('duke', 192): 2285, ('un', 191): 2286, ('nose', 191): 2287, ('entri', 191): 2288, ('yell', 191): 2289, ('behav', 191): 2290, ('proceed', 191): 2291, ('hong', 191): 2292, ('split', 191): 2293, ('donald', 191): 2294, ('confess', 190): 2295, ('concentr', 190): 2296, ('lifetim', 190): 2297, ('unconvinc', 190): 2298, ('jerk', 190): 2299, ('swim', 190): 2300, ('stolen', 190): 2301, ('everywher', 190): 2302, ('buri', 190): 2303, ('forth', 190): 2304, ('borrow', 190): 2305, ('gather', 190): 2306, ('crush', 190): 2307, ('julia', 189): 2308, ('turkey', 189): 2309, ('lip', 189): 2310, ('deliveri', 189): 2311, ('california', 189): 2312, ('spite', 189): 2313, ('pan', 189): 2314, ('freeman', 188): 2315, ('china', 188): 2316, ('hoffman', 188): 2317, ('downright', 188): 2318, ('reward', 188): 2319, ('flight', 188): 2320, ('offici', 188): 2321, ('quest', 188): 2322, ('proud', 188): 2323, ('jail', 187): 2324, ('sir', 187): 2325, ('fade', 187): 2326, ('inept', 187): 2327, ('encourag', 187): 2328, ('fabul', 187): 2329, ('worthwhil', 187): 2330, ('lazi', 187): 2331, ('sink', 187): 2332, ('jon', 187): 2333, ('betray', 187): 2334, ('notori', 187): 2335, ('imageri', 186): 2336, ('cousin', 186): 2337, ('shower', 186): 2338, ('lisa', 186): 2339, ('retard', 186): 2340, ('teeth', 186): 2341, ('susan', 186): 2342, ('bell', 186): 2343, ('survivor', 186): 2344, ('bag', 186): 2345, ('branagh', 186): 2346, ('storm', 186): 2347, ('relev', 186): 2348, ('stab', 185): 2349, ('quirki', 185): 2350, ('trade', 185): 2351, ('facial', 185): 2352, ('toler', 185): 2353, ('hugh', 185): 2354, ('finger', 185): 2355, ('alright', 185): 2356, ('bride', 185): 2357, ('summari', 185): 2358, ('mexico', 185): 2359, ('shark', 185): 2360, ('tremend', 185): 2361, ('bitter', 184): 2362, ('blown', 184): 2363, ('von', 184): 2364, ('hyster', 184): 2365, ('pose', 184): 2366, ('ha', 184): 2367, ('christ', 183): 2368, ('afterward', 183): 2369, ('address', 183): 2370, ('larri', 183): 2371, ('bone', 183): 2372, ('ron', 183): 2373, ('scheme', 183): 2374, ('cruel', 183): 2375, ('ned', 183): 2376, ('thumb', 182): 2377, ('tour', 182): 2378, ('screw', 182): 2379, ('swear', 182): 2380, ('distinct', 182): 2381, ('feed', 182): 2382, ('beg', 182): 2383, ('pursu', 182): 2384, ('snake', 182): 2385, ('traci', 182): 2386, ('raw', 181): 2387, ('chair', 181): 2388, ('photo', 181): 2389, ('stomach', 181): 2390, ('occas', 181): 2391, ('mechan', 181): 2392, ('obscur', 181): 2393, ('southern', 180): 2394, ('holiday', 180): 2395, ('gruesom', 180): 2396, ('render', 180): 2397, ('heavili', 180): 2398, ('necessarili', 180): 2399, ('argument', 180): 2400, ('resist', 180): 2401, ('sidney', 180): 2402, ('chain', 180): 2403, ('cabin', 180): 2404, ('hardi', 180): 2405, ('understood', 179): 2406, ('indulg', 179): 2407, ('racist', 179): 2408, ('india', 179): 2409, ('satan', 179): 2410, ('philip', 179): 2411, ('obnoxi', 178): 2412, ('pregnant', 178): 2413, ('fourth', 178): 2414, ('forgot', 178): 2415, ('tongu', 178): 2416, ('stalk', 178): 2417, ('lay', 178): 2418, ('belov', 178): 2419, ('midnight', 178): 2420, ('integr', 178): 2421, ('outfit', 178): 2422, ('garden', 177): 2423, ('17', 177): 2424, ('magazin', 177): 2425, ('slapstick', 177): 2426, ('carol', 177): 2427, ('restor', 177): 2428, ('deeper', 177): 2429, ('inhabit', 177): 2430, ('ticket', 177): 2431, ('shoe', 176): 2432, ('incid', 176): 2433, ('lincoln', 176): 2434, ('brad', 176): 2435, ('devot', 176): 2436, ('maria', 175): 2437, ('divorc', 175): 2438, ('elizabeth', 175): 2439, ('disbelief', 175): 2440, ('guarante', 175): 2441, ('anticip', 175): 2442, ('benefit', 175): 2443, ('lili', 175): 2444, ('sandler', 175): 2445, ('underground', 175): 2446, ('princip', 174): 2447, ('greater', 174): 2448, ('amazingli', 174): 2449, ('capit', 174): 2450, ('bbc', 174): 2451, ('creation', 174): 2452, ('slave', 174): 2453, ('mildli', 174): 2454, ('explod', 174): 2455, ('cring', 174): 2456, ('funnier', 173): 2457, ('extraordinari', 173): 2458, ('halfway', 173): 2459, ('introduct', 173): 2460, ('lesli', 173): 2461, ('text', 172): 2462, ('wreck', 172): 2463, ('extent', 172): 2464, ('transfer', 172): 2465, ('enhanc', 172): 2466, ('tap', 172): 2467, ('overwhelm', 172): 2468, ('advantag', 172): 2469, ('punish', 172): 2470, ('lo', 171): 2471, ('east', 171): 2472, ('jessica', 171): 2473, ('dynam', 171): 2474, ('plant', 171): 2475, ('error', 171): 2476, ('lane', 171): 2477, ('deliber', 171): 2478, ('horrif', 171): 2479, ('preview', 171): 2480, ('2000', 170): 2481, ('ensu', 170): 2482, ('appli', 170): 2483, ('miller', 170): 2484, ('vacat', 170): 2485, ('miscast', 170): 2486, ('homosexu', 170): 2487, ('basi', 170): 2488, ('vincent', 170): 2489, ('sophist', 170): 2490, ('sleazi', 169): 2491, ('bollywood', 169): 2492, ('uncomfort', 169): 2493, ('extend', 169): 2494, ('measur', 169): 2495, ('elev', 169): 2496, ('steel', 169): 2497, ('spoken', 169): 2498, ('reed', 169): 2499, ('mansion', 169): 2500, ('via', 169): 2501, ('breathtak', 168): 2502, ('hippi', 168): 2503, ('stanley', 168): 2504, ('mous', 168): 2505, ('dentist', 168): 2506, ('conceiv', 168): 2507, ('alter', 168): 2508, ('overact', 168): 2509, ('blair', 168): 2510, ('savag', 168): 2511, ('cathol', 168): 2512, ('goofi', 168): 2513, ('beer', 168): 2514, ('melt', 168): 2515, ('fix', 168): 2516, ('assign', 168): 2517, ('daili', 168): 2518, ('everyday', 167): 2519, ('subsequ', 167): 2520, ('inspector', 167): 2521, ('nowaday', 167): 2522, ('properli', 167): 2523, ('carpent', 167): 2524, ('oppos', 167): 2525, ('succe', 167): 2526, ('sacrific', 167): 2527, ('burt', 167): 2528, ('circl', 166): 2529, ('massacr', 166): 2530, ('neck', 166): 2531, ('block', 166): 2532, ('laura', 166): 2533, ('seagal', 165): 2534, ('fay', 165): 2535, ('concert', 165): 2536, ('access', 165): 2537, ('pool', 165): 2538, ('lesser', 165): 2539, ('portrait', 165): 2540, ('grey', 165): 2541, ('mob', 165): 2542, ('christi', 165): 2543, ('fallen', 165): 2544, ('jewish', 164): 2545, ('sinist', 164): 2546, ('isol', 164): 2547, ('relax', 164): 2548, ('jake', 164): 2549, ('react', 164): 2550, ('chees', 164): 2551, ('competit', 164): 2552, ('usa', 164): 2553, ('immens', 163): 2554, ('suitabl', 163): 2555, ('stink', 163): 2556, ('nine', 163): 2557, ('ironi', 163): 2558, ('creep', 163): 2559, ('appal', 163): 2560, ('chop', 163): 2561, ('nonetheless', 163): 2562, ('lyric', 163): 2563, ('2006', 163): 2564, ('spiritu', 163): 2565, ('spring', 162): 2566, ('showcas', 162): 2567, ('rage', 162): 2568, ('sold', 162): 2569, ('reduc', 162): 2570, ('retir', 162): 2571, ('franchis', 162): 2572, ('needless', 162): 2573, ('adopt', 162): 2574, ('user', 162): 2575, ('shirt', 162): 2576, ('navi', 162): 2577, ('nut', 162): 2578, ('luci', 162): 2579, ('asham', 161): 2580, ('per', 161): 2581, ('uninspir', 161): 2582, ('bulli', 161): 2583, ('zone', 161): 2584, ('stanwyck', 161): 2585, ('jay', 161): 2586, ('digit', 161): 2587, ('bath', 161): 2588, ('nurs', 161): 2589, ('oddli', 160): 2590, ('2001', 160): 2591, ('1940', 160): 2592, ('sutherland', 160): 2593, ('laid', 160): 2594, ('amongst', 160): 2595, ('illustr', 160): 2596, ('broadcast', 160): 2597, ('upper', 160): 2598, ('throat', 159): 2599, ('baker', 159): 2600, ('stylish', 159): 2601, ('disguis', 159): 2602, ('fulfil', 159): 2603, ('aspir', 159): 2604, ('brando', 159): 2605, ('18', 158): 2606, ('wwii', 158): 2607, ('em', 158): 2608, ('impli', 158): 2609, ('wanna', 158): 2610, ('neighborhood', 158): 2611, ('pound', 158): 2612, ('endear', 158): 2613, ('pride', 158): 2614, ('thief', 158): 2615, ('nobl', 158): 2616, ('distribut', 157): 2617, ('cinematograph', 157): 2618, ('bett', 157): 2619, ('dinner', 157): 2620, ('shift', 157): 2621, ('prop', 157): 2622, ('16', 157): 2623, ('coher', 157): 2624, ('albeit', 157): 2625, ('dawn', 157): 2626, ('bo', 157): 2627, ('diseas', 157): 2628, ('tens', 157): 2629, ('shoulder', 157): 2630, ('rochest', 157): 2631, ('rebel', 156): 2632, ('wash', 156): 2633, ('contract', 156): 2634, ('poignant', 156): 2635, ('silenc', 156): 2636, ('forti', 156): 2637, ('function', 156): 2638, ('shout', 156): 2639, ('surf', 156): 2640, ('knife', 156): 2641, ('matthau', 156): 2642, ('snow', 156): 2643, ('mindless', 155): 2644, ('instinct', 155): 2645, ('henc', 155): 2646, ('eeri', 155): 2647, ('height', 155): 2648, ('duti', 155): 2649, ('derek', 155): 2650, ('heat', 155): 2651, ('proof', 155): 2652, ('cannib', 155): 2653, ('reunion', 155): 2654, ('widmark', 155): 2655, ('horrend', 155): 2656, ('cancel', 155): 2657, ('silver', 155): 2658, ('chuck', 155): 2659, ('internet', 155): 2660, ('elvira', 155): 2661, ('spielberg', 154): 2662, ('glori', 154): 2663, ('repetit', 154): 2664, ('etern', 154): 2665, ('absorb', 154): 2666, ('musician', 154): 2667, ('greatli', 154): 2668, ('pie', 154): 2669, ('mill', 154): 2670, ('elvi', 154): 2671, ('alik', 154): 2672, ('torn', 154): 2673, ('incoher', 154): 2674, ('premier', 154): 2675, ('neat', 154): 2676, ('innov', 154): 2677, ('homag', 153): 2678, ('blank', 153): 2679, ('redempt', 153): 2680, ('bang', 153): 2681, ('fbi', 153): 2682, ('wealthi', 153): 2683, ('infam', 153): 2684, ('britain', 153): 2685, ('trite', 153): 2686, ('precis', 153): 2687, ('horrifi', 153): 2688, ('crisi', 153): 2689, ('itali', 153): 2690, ('diamond', 153): 2691, ('burton', 153): 2692, ('racism', 153): 2693, ('announc', 153): 2694, ('lovabl', 153): 2695, ('nelson', 153): 2696, ('pat', 152): 2697, ('ensembl', 152): 2698, ('hammer', 152): 2699, ('dedic', 152): 2700, ('wilder', 152): 2701, ('chaplin', 152): 2702, ('streisand', 152): 2703, ('happili', 152): 2704, ('parallel', 152): 2705, ('resolut', 152): 2706, ('flop', 152): 2707, ('helen', 152): 2708, ('mar', 151): 2709, ('st', 151): 2710, ('plastic', 151): 2711, ('oil', 151): 2712, ('conclud', 151): 2713, ('carter', 151): 2714, ('cube', 151): 2715, ('broke', 151): 2716, ('disagre', 151): 2717, ('triumph', 151): 2718, ('factori', 151): 2719, ('chuckl', 150): 2720, ('climb', 150): 2721, ('own', 150): 2722, ('weight', 150): 2723, ('vega', 150): 2724, ('rocket', 150): 2725, ('fighter', 150): 2726, ('march', 150): 2727, ('row', 150): 2728, ('bush', 150): 2729, ('sensibl', 149): 2730, ('meaning', 149): 2731, ('dump', 149): 2732, ('wherea', 149): 2733, ('luca', 149): 2734, ('kurt', 149): 2735, ('dane', 149): 2736, ('boot', 149): 2737, ('unforgett', 149): 2738, ('mst3k', 149): 2739, ('lust', 149): 2740, ('enorm', 149): 2741, ('thug', 149): 2742, ('spare', 149): 2743, ('bobbi', 148): 2744, ('caricatur', 148): 2745, ('rap', 148): 2746, ('dear', 148): 2747, ('engin', 148): 2748, ('butt', 148): 2749, ('adequ', 148): 2750, ('threat', 148): 2751, ('stress', 148): 2752, ('difficulti', 148): 2753, ('brand', 148): 2754, ('fifti', 148): 2755, ('karloff', 148): 2756, ('arnold', 148): 2757, ('swing', 147): 2758, ('polish', 147): 2759, ('barri', 147): 2760, ('arrog', 147): 2761, ('journalist', 147): 2762, ('ego', 147): 2763, ('elabor', 147): 2764, ('fest', 147): 2765, ('secretari', 147): 2766, ('ralph', 147): 2767, ('flynn', 147): 2768, ('homeless', 147): 2769, ('hamlet', 147): 2770, ('resort', 146): 2771, ('arrang', 146): 2772, ('simpson', 146): 2773, ('conspiraci', 146): 2774, ('induc', 146): 2775, ('float', 146): 2776, ('unbear', 146): 2777, ('puppet', 146): 2778, ('grate', 146): 2779, ('spike', 146): 2780, ('tool', 146): 2781, ('fanci', 146): 2782, ('basement', 145): 2783, ('phillip', 145): 2784, ('choreograph', 145): 2785, ('pig', 145): 2786, ('cruis', 145): 2787, ('exercis', 145): 2788, ('tribut', 145): 2789, ('boll', 145): 2790, ('guilt', 145): 2791, ('muppet', 145): 2792, ('ham', 144): 2793, ('24', 144): 2794, ('scarecrow', 144): 2795, ('puzzl', 144): 2796, ('fianc', 144): 2797, ('layer', 144): 2798, ('babe', 144): 2799, ('medium', 144): 2800, ('item', 144): 2801, ('tower', 144): 2802, ('ward', 144): 2803, ('file', 144): 2804, ('slip', 144): 2805, ('toilet', 144): 2806, ('document', 144): 2807, ('editor', 144): 2808, ('korean', 144): 2809, ('stan', 144): 2810, ('glover', 143): 2811, ('librari', 143): 2812, ('assur', 143): 2813, ('catherin', 143): 2814, ('philosoph', 143): 2815, ('superfici', 143): 2816, ('slaughter', 143): 2817, ('spark', 143): 2818, ('denzel', 143): 2819, ('minim', 143): 2820, ('larger', 143): 2821, ('territori', 143): 2822, ('inexplic', 143): 2823, ('persona', 143): 2824, ('orient', 143): 2825, ('transit', 143): 2826, ('portion', 143): 2827, ('doc', 143): 2828, ('owe', 142): 2829, ('jet', 142): 2830, ('financi', 142): 2831, ('dorothi', 142): 2832, ('ban', 142): 2833, ('curti', 142): 2834, ('walken', 142): 2835, ('sneak', 142): 2836, ('jeremi', 142): 2837, ('pg', 142): 2838, ('shi', 142): 2839, ('wolf', 142): 2840, ('boredom', 142): 2841, ('profound', 141): 2842, ('eleph', 141): 2843, ('metaphor', 141): 2844, ('ambigu', 141): 2845, ('hudson', 141): 2846, ('multi', 141): 2847, ('whale', 141): 2848, ('cusack', 141): 2849, ('backdrop', 141): 2850, ('notion', 140): 2851, ('rave', 140): 2852, ('union', 140): 2853, ('ultra', 140): 2854, ('hack', 140): 2855, ('implaus', 140): 2856, ('stiff', 140): 2857, ('gadget', 140): 2858, ('viru', 140): 2859, ('2005', 140): 2860, ('birthday', 140): 2861, ('elsewher', 140): 2862, ('disc', 139): 2863, ('urg', 139): 2864, ('reader', 139): 2865, ('lloyd', 139): 2866, ('slight', 139): 2867, ('1st', 139): 2868, ('eastwood', 139): 2869, ('distanc', 139): 2870, ('eva', 139): 2871, ('squar', 139): 2872, ('deriv', 139): 2873, ('pad', 139): 2874, ('newspap', 139): 2875, ('poison', 139): 2876, ('afford', 139): 2877, ('hawk', 139): 2878, ('bibl', 139): 2879, ('canada', 139): 2880, ('superhero', 139): 2881, ('charisma', 138): 2882, ('health', 138): 2883, ('button', 138): 2884, ('drown', 138): 2885, ('huh', 138): 2886, ('restaur', 138): 2887, ('heston', 138): 2888, ('montag', 138): 2889, ('sadist', 138): 2890, ('cure', 138): 2891, ('essenc', 138): 2892, ('spread', 138): 2893, ('skit', 138): 2894, ('lab', 137): 2895, ('companion', 137): 2896, ('estat', 137): 2897, ('maniac', 137): 2898, ('godfath', 137): 2899, ('invest', 137): 2900, ('scoobi', 137): 2901, ('gradual', 137): 2902, ('dealt', 137): 2903, ('fetch', 137): 2904, ('muslim', 137): 2905, ('peak', 137): 2906, ('countless', 136): 2907, ('tea', 136): 2908, ('alli', 136): 2909, ('servant', 136): 2910, ('kane', 136): 2911, ('subtleti', 136): 2912, ('ritter', 136): 2913, ('cup', 136): 2914, ('gothic', 136): 2915, ('miik', 136): 2916, ('briefli', 135): 2917, ('iii', 135): 2918, ('electr', 135): 2919, ('charismat', 135): 2920, ('salli', 135): 2921, ('elect', 135): 2922, ('heroic', 135): 2923, ('resourc', 134): 2924, ('toss', 134): 2925, ('wannab', 134): 2926, ('ingredi', 134): 2927, ('grandmoth', 134): 2928, ('neil', 134): 2929, ('nuanc', 134): 2930, ('tender', 134): 2931, ('bud', 134): 2932, ('cole', 134): 2933, ('reel', 134): 2934, ('admittedli', 134): 2935, ('stood', 133): 2936, ('mild', 133): 2937, ('dawson', 133): 2938, ('kubrick', 133): 2939, ('label', 133): 2940, ('shall', 133): 2941, ('reev', 133): 2942, ('gate', 133): 2943, ('poverti', 133): 2944, ('pit', 133): 2945, ('punk', 133): 2946, ('stronger', 133): 2947, ('carrey', 133): 2948, ('pauli', 133): 2949, ('mafia', 133): 2950, ('smash', 132): 2951, ('outcom', 132): 2952, ('easier', 132): 2953, ('tag', 132): 2954, ('terri', 132): 2955, ('smooth', 132): 2956, ('updat', 132): 2957, ('cardboard', 132): 2958, ('burst', 132): 2959, ('fond', 132): 2960, ('bakshi', 132): 2961, ('ian', 132): 2962, ('cox', 132): 2963, ('useless', 132): 2964, ('assault', 132): 2965, ('astair', 132): 2966, ('melodramat', 131): 2967, ('vulner', 131): 2968, ('increasingli', 131): 2969, ('resolv', 131): 2970, ('rex', 131): 2971, ('2002', 131): 2972, ('qualifi', 131): 2973, ('coincid', 131): 2974, ('divers', 131): 2975, ('vari', 131): 2976, ('fist', 131): 2977, ('sketch', 131): 2978, ('exchang', 131): 2979, ('samurai', 131): 2980, ('suspend', 130): 2981, ('brillianc', 130): 2982, ('scratch', 130): 2983, ('insert', 130): 2984, ('reynold', 130): 2985, ('tame', 130): 2986, ('conveni', 130): 2987, ('templ', 130): 2988, ('luckili', 130): 2989, ('be', 130): 2990, ('blast', 130): 2991, ('hamilton', 129): 2992, ('soprano', 129): 2993, ('seventi', 129): 2994, ('pin', 129): 2995, ('strictli', 129): 2996, ('fisher', 129): 2997, ('matthew', 129): 2998, ('coach', 129): 2999, ('farm', 129): 3000, ('meat', 129): 3001, ('ambiti', 129): 3002, ('walker', 129): 3003, ('gotta', 129): 3004, ('nuclear', 129): 3005, ('jami', 129): 3006, ('grasp', 128): 3007, ('convolut', 128): 3008, ('closet', 128): 3009, ('revers', 128): 3010, ('recreat', 128): 3011, ('eccentr', 128): 3012, ('instantli', 128): 3013, ('butcher', 128): 3014, ('clock', 128): 3015, ('empir', 128): 3016, ('cave', 128): 3017, ('worthless', 128): 3018, ('spooki', 128): 3019, ('monk', 128): 3020, ('discoveri', 128): 3021, ('kudo', 128): 3022, ('ninja', 128): 3023, ('struck', 128): 3024, ('timeless', 128): 3025, ('joey', 128): 3026, ('brosnan', 128): 3027, ('importantli', 127): 3028, ('evok', 127): 3029, ('sloppi', 127): 3030, ('gray', 127): 3031, ('bleak', 127): 3032, ('selfish', 127): 3033, ('communist', 127): 3034, ('miracl', 127): 3035, ('clown', 127): 3036, ('mitchel', 127): 3037, ('seller', 127): 3038, ('wipe', 127): 3039, ('inconsist', 127): 3040, ('eighti', 127): 3041, ('cliff', 127): 3042, ('partli', 127): 3043, ('declar', 127): 3044, ('norman', 127): 3045, ('sidekick', 127): 3046, ('pal', 127): 3047, ('fifteen', 127): 3048, ('debat', 126): 3049, ('websit', 126): 3050, ('destin', 126): 3051, ('psychiatrist', 126): 3052, ('45', 126): 3053, ('superbl', 126): 3054, ('lifestyl', 126): 3055, ('cheek', 126): 3056, ('australia', 126): 3057, ('flawless', 126): 3058, ('chew', 126): 3059, ('enthusiast', 126): 3060, ('piano', 126): 3061, ('ho', 126): 3062, ('aforement', 126): 3063, ('farc', 126): 3064, ('stoog', 126): 3065, ('seed', 126): 3066, ('bash', 125): 3067, ('kitchen', 125): 3068, ('incompet', 125): 3069, ('pressur', 125): 3070, ('slice', 125): 3071, ('soviet', 125): 3072, ('wrestl', 125): 3073, ('drivel', 125): 3074, ('anni', 125): 3075, ('directori', 125): 3076, ('dire', 125): 3077, ('wick', 125): 3078, ('akshay', 125): 3079, ('dash', 125): 3080, ('abc', 125): 3081, ('emili', 125): 3082, ('splatter', 125): 3083, ('regardless', 125): 3084, ('dave', 124): 3085, ('pleasantli', 124): 3086, ('cia', 124): 3087, ('recov', 124): 3088, ('increas', 124): 3089, ('distant', 124): 3090, ('curios', 124): 3091, ('ken', 124): 3092, ('glow', 124): 3093, ('prize', 124): 3094, ('seduc', 124): 3095, ('beaten', 124): 3096, ('jar', 124): 3097, ('flower', 124): 3098, ('cameron', 124): 3099, ('helicopt', 124): 3100, ('lou', 124): 3101, ('blob', 124): 3102, ('suppli', 124): 3103, ('chapter', 124): 3104, ('boil', 124): 3105, ('duo', 124): 3106, ('doo', 124): 3107, ('mann', 124): 3108, ('judi', 124): 3109, ('artifici', 124): 3110, ('cagney', 124): 3111, ('psychot', 123): 3112, ('goldberg', 123): 3113, ('turner', 123): 3114, ('perri', 123): 3115, ('web', 123): 3116, ('craven', 123): 3117, ('combat', 123): 3118, ('francisco', 123): 3119, ('glenn', 123): 3120, ('hop', 123): 3121, ('ranger', 123): 3122, ('ellen', 123): 3123, ('drunken', 123): 3124, ('eleg', 123): 3125, ('craig', 123): 3126, ('panic', 123): 3127, ('splendid', 123): 3128, ('laurel', 123): 3129, ('favour', 123): 3130, ('graduat', 122): 3131, ('min', 122): 3132, ('slightest', 122): 3133, ('plausibl', 122): 3134, ('shortli', 122): 3135, ('fx', 122): 3136, ('hatr', 122): 3137, ('wizard', 122): 3138, ('gentl', 122): 3139, ('modesti', 122): 3140, ('philosophi', 122): 3141, ('rid', 122): 3142, ('alexand', 122): 3143, ('flip', 122): 3144, ('ruth', 122): 3145, ('20th', 122): 3146, ('greek', 122): 3147, ('falk', 122): 3148, ('gandhi', 122): 3149, ('knight', 121): 3150, ('unpleas', 121): 3151, ('we', 121): 3152, ('harm', 121): 3153, ('holi', 121): 3154, ('tall', 121): 3155, ('dracula', 121): 3156, ('fund', 121): 3157, ('legal', 121): 3158, ('lend', 121): 3159, ('manhattan', 121): 3160, ('felix', 121): 3161, ('preciou', 121): 3162, ('futurist', 121): 3163, ('jealou', 121): 3164, ('ocean', 121): 3165, ('childish', 120): 3166, ('overdon', 120): 3167, ('thread', 120): 3168, ('explicit', 120): 3169, ('reviv', 120): 3170, ('forbidden', 120): 3171, ('nod', 120): 3172, ('ami', 120): 3173, ('bless', 120): 3174, ('digniti', 120): 3175, ('mock', 120): 3176, ('tank', 120): 3177, ('giallo', 120): 3178, ('scientif', 120): 3179, ('verhoeven', 119): 3180, ('2004', 119): 3181, ('repeatedli', 119): 3182, ('unwatch', 119): 3183, ('elderli', 119): 3184, ('broad', 119): 3185, ('nerv', 119): 3186, ('fever', 119): 3187, ('yesterday', 119): 3188, ('thick', 119): 3189, ('awe', 119): 3190, ('mel', 119): 3191, ('torment', 119): 3192, ('awaken', 119): 3193, ('99', 119): 3194, ('pirat', 119): 3195, ('eve', 119): 3196, ('margaret', 119): 3197, ('absenc', 118): 3198, ('custom', 118): 3199, ('rivet', 118): 3200, ('ah', 118): 3201, ('ambit', 118): 3202, ('timothi', 118): 3203, ('royal', 118): 3204, ('bin', 118): 3205, ('automat', 118): 3206, ('eas', 118): 3207, ('acclaim', 118): 3208, ('launch', 118): 3209, ('griffith', 118): 3210, ('publish', 118): 3211, ('stiller', 118): 3212, ('roman', 118): 3213, ('uniform', 118): 3214, ('romero', 118): 3215, ('lean', 118): 3216, ('kay', 118): 3217, ('politician', 118): 3218, ('stinker', 117): 3219, ('termin', 117): 3220, ('sunshin', 117): 3221, ('bathroom', 117): 3222, ('purpl', 117): 3223, ('crook', 117): 3224, ('transport', 117): 3225, ('darker', 117): 3226, ('homicid', 117): 3227, ('phrase', 117): 3228, ('foul', 117): 3229, ('warren', 117): 3230, ('antic', 117): 3231, ('pulp', 117): 3232, ('wallac', 117): 3233, ('tomato', 117): 3234, ('pierc', 117): 3235, ('gabriel', 117): 3236, ('rambo', 116): 3237, ('li', 116): 3238, ('awak', 116): 3239, ('viciou', 116): 3240, ('juvenil', 116): 3241, ('karen', 116): 3242, ('ought', 116): 3243, ('album', 116): 3244, ('pray', 116): 3245, ('kenneth', 116): 3246, ('packag', 116): 3247, ('sixti', 116): 3248, ('brazil', 116): 3249, ('contrari', 116): 3250, ('2003', 116): 3251, ('marin', 116): 3252, ('q', 116): 3253, ('revolutionari', 116): 3254, ('coloni', 116): 3255, ('horrid', 116): 3256, ('saint', 116): 3257, ('evolv', 116): 3258, ('choreographi', 116): 3259, ('donna', 116): 3260, ('hollow', 116): 3261, ('prom', 116): 3262, ('eyr', 116): 3263, ('overr', 115): 3264, ('nerd', 115): 3265, ('boast', 115): 3266, ('defi', 115): 3267, ('ramon', 115): 3268, ('blade', 115): 3269, ('option', 115): 3270, ('dose', 115): 3271, ('mildr', 115): 3272, ('conserv', 115): 3273, ('stole', 115): 3274, ('candid', 115): 3275, ('beatti', 115): 3276, ('ireland', 115): 3277, ('mummi', 115): 3278, ('twelv', 115): 3279, ('kapoor', 115): 3280, ('protest', 114): 3281, ('astonish', 114): 3282, ('detract', 114): 3283, ('flame', 114): 3284, ('confirm', 114): 3285, ('trio', 114): 3286, ('kirk', 114): 3287, ('jazz', 114): 3288, ('collabor', 114): 3289, ('funer', 114): 3290, ('global', 114): 3291, ('natali', 114): 3292, ('altman', 114): 3293, ('fulci', 114): 3294, ('delici', 113): 3295, ('spit', 113): 3296, ('bull', 113): 3297, ('racial', 113): 3298, ('shade', 113): 3299, ('bottl', 113): 3300, ('nicholson', 113): 3301, ('blake', 113): 3302, ('mystic', 113): 3303, ('enterpris', 113): 3304, ('destini', 113): 3305, ('yellow', 113): 3306, ('whip', 113): 3307, ('tommi', 113): 3308, ('leap', 113): 3309, ('audio', 113): 3310, ('adolesc', 112): 3311, ('meaningless', 112): 3312, ('enchant', 112): 3313, ('pseudo', 112): 3314, ('harder', 112): 3315, ('todd', 112): 3316, ('reunit', 112): 3317, ('altogeth', 112): 3318, ('popcorn', 112): 3319, ('threw', 112): 3320, ('visibl', 112): 3321, ('merci', 112): 3322, ('fonda', 112): 3323, ('inherit', 112): 3324, ('staff', 112): 3325, ('neo', 112): 3326, ('bedroom', 112): 3327, ('swedish', 112): 3328, ('vivid', 112): 3329, ('jew', 111): 3330, ('madonna', 111): 3331, ('lawrenc', 111): 3332, ('reserv', 111): 3333, ('respond', 111): 3334, ('atlanti', 111): 3335, ('ruthless', 111): 3336, ('moodi', 111): 3337, ('synopsi', 111): 3338, ('uneven', 111): 3339, ('edi', 111): 3340, ('wire', 111): 3341, ('roommat', 111): 3342, ('decor', 111): 3343, ('bust', 111): 3344, ('crocodil', 111): 3345, ('leonard', 111): 3346, ('exhibit', 111): 3347, ('voight', 111): 3348, ('fanat', 111): 3349, ('await', 111): 3350, ('suspici', 111): 3351, ('kennedi', 111): 3352, ('tip', 111): 3353, ('lemmon', 111): 3354, ('befriend', 111): 3355, ('voyag', 110): 3356, ('rural', 110): 3357, ('centr', 110): 3358, ('palma', 110): 3359, ('clint', 110): 3360, ('bold', 110): 3361, ('ventur', 110): 3362, ('bargain', 110): 3363, ('garner', 110): 3364, ('bradi', 110): 3365, ('unsettl', 110): 3366, ('abysm', 110): 3367, ('holli', 110): 3368, ('clumsi', 110): 3369, ('2007', 110): 3370, ('chao', 110): 3371, ('dimens', 110): 3372, ('audit', 110): 3373, ('incident', 110): 3374, ('carl', 110): 3375, ('characterist', 109): 3376, ('neglect', 109): 3377, ('echo', 109): 3378, ('hart', 109): 3379, ('immigr', 109): 3380, ('cd', 109): 3381, ('humili', 109): 3382, ('timon', 109): 3383, ('trail', 109): 3384, ('troop', 109): 3385, ('tiger', 109): 3386, ('imperson', 109): 3387, ('acknowledg', 109): 3388, ('lit', 109): 3389, ('mall', 109): 3390, ('versu', 109): 3391, ('poetic', 109): 3392, ('cari', 109): 3393, ('wealth', 109): 3394, ('nearbi', 109): 3395, ('2nd', 109): 3396, ('daddi', 109): 3397, ('elimin', 109): 3398, ('cuba', 109): 3399, ('ant', 109): 3400, ('infect', 108): 3401, ('mistaken', 108): 3402, ('collaps', 108): 3403, ('mickey', 108): 3404, ('jeffrey', 108): 3405, ('domest', 108): 3406, ('homer', 108): 3407, ('saga', 108): 3408, ('marshal', 108): 3409, ('solo', 108): 3410, ('repuls', 108): 3411, ('pun', 108): 3412, ('celluloid', 108): 3413, ('paus', 108): 3414, ('prejudic', 108): 3415, ('inan', 107): 3416, ('equip', 107): 3417, ('cake', 107): 3418, ('promin', 107): 3419, ('hbo', 107): 3420, ('olivi', 107): 3421, ('harvey', 107): 3422, ('inappropri', 107): 3423, ('milk', 107): 3424, ('ginger', 107): 3425, ('interrupt', 107): 3426, ('coat', 107): 3427, ('undoubtedli', 107): 3428, ('coffe', 107): 3429, ('sore', 107): 3430, ('gear', 107): 3431, ('tribe', 107): 3432, ('pant', 107): 3433, ('1996', 107): 3434, ('apolog', 107): 3435, ('assembl', 107): 3436, ('chest', 107): 3437, ('leon', 107): 3438, ('embrac', 106): 3439, ('pot', 106): 3440, ('solut', 106): 3441, ('florida', 106): 3442, ('vulgar', 106): 3443, ('trace', 106): 3444, ('jenni', 106): 3445, ('consum', 106): 3446, ('maggi', 106): 3447, ('colleagu', 106): 3448, ('furthermor', 106): 3449, ('airplan', 106): 3450, ('aveng', 106): 3451, ('retain', 106): 3452, ('highest', 106): 3453, ('colonel', 106): 3454, ('instant', 106): 3455, ('pen', 106): 3456, ('humbl', 106): 3457, ('exot', 106): 3458, ('devast', 106): 3459, ('primari', 106): 3460, ('institut', 106): 3461, ('polanski', 106): 3462, ('brooklyn', 106): 3463, ('gender', 105): 3464, ('wive', 105): 3465, ('seduct', 105): 3466, ('descend', 105): 3467, ('linda', 105): 3468, ('dian', 105): 3469, ('outer', 105): 3470, ('disabl', 105): 3471, ('smaller', 105): 3472, ('bowl', 105): 3473, ('illog', 105): 3474, ('1999', 105): 3475, ('rick', 105): 3476, ('ya', 105): 3477, ('sale', 105): 3478, ('strain', 105): 3479, ('dutch', 105): 3480, ('cope', 105): 3481, ('principl', 105): 3482, ('3rd', 105): 3483, ('poke', 105): 3484, ('godzilla', 105): 3485, ('bubbl', 104): 3486, ('inferior', 104): 3487, ('predecessor', 104): 3488, ('hal', 104): 3489, ('vast', 104): 3490, ('primarili', 104): 3491, ('beneath', 104): 3492, ('lol', 104): 3493, ('blatant', 104): 3494, ('dive', 104): 3495, ('cue', 104): 3496, ('dud', 104): 3497, ('devoid', 104): 3498, ('mixtur', 104): 3499, ('scope', 104): 3500, ('secondli', 104): 3501, ('rabbit', 104): 3502, ('glamor', 104): 3503, ('gloriou', 104): 3504, ('yard', 104): 3505, ('gundam', 104): 3506, ('disjoint', 103): 3507, ('aggress', 103): 3508, ('april', 103): 3509, ('talki', 103): 3510, ('pearl', 103): 3511, ('museum', 103): 3512, ('casual', 103): 3513, ('arab', 103): 3514, ('simplist', 103): 3515, ('alfr', 103): 3516, ('hideou', 103): 3517, ('garbo', 103): 3518, ('et', 103): 3519, ('invas', 103): 3520, ('shelf', 103): 3521, ('z', 103): 3522, ('grinch', 103): 3523, ('breed', 103): 3524, ('streep', 103): 3525, ('countrysid', 103): 3526, ('alert', 103): 3527, ('senseless', 103): 3528, ('domino', 103): 3529, ('trademark', 103): 3530, ('shirley', 103): 3531, ('myer', 103): 3532, ('stellar', 102): 3533, ('experiment', 102): 3534, ('applaud', 102): 3535, ('sh', 102): 3536, ('hopeless', 102): 3537, ('loyal', 102): 3538, ('mail', 102): 3539, ('disgrac', 102): 3540, ('robinson', 102): 3541, ('boom', 102): 3542, ('acid', 102): 3543, ('hardcor', 102): 3544, ('oz', 102): 3545, ('vanish', 102): 3546, ('stack', 102): 3547, ('slide', 102): 3548, ('defens', 102): 3549, ('mayor', 102): 3550, ('obtain', 102): 3551, ('uwe', 102): 3552, ('illeg', 102): 3553, ('unhappi', 102): 3554, ('robberi', 102): 3555, ('rendit', 102): 3556, ('maci', 102): 3557, ('stir', 102): 3558, ('khan', 102): 3559, ('berlin', 101): 3560, ('recruit', 101): 3561, ('hartley', 101): 3562, ('span', 101): 3563, ('blew', 101): 3564, ('wont', 101): 3565, ('emphasi', 101): 3566, ('topless', 101): 3567, ('dicken', 101): 3568, ('scroog', 101): 3569, ('grandfath', 101): 3570, ('amanda', 101): 3571, ('tempt', 101): 3572, ('spider', 101): 3573, ('soccer', 101): 3574, ('rifl', 101): 3575, ('declin', 101): 3576, ('dismiss', 101): 3577, ('counter', 101): 3578, ('fri', 101): 3579, ('tenant', 101): 3580, ('craze', 101): 3581, ('diana', 101): 3582, ('psychic', 101): 3583, ('incomprehens', 101): 3584, ('trashi', 100): 3585, ('niro', 100): 3586, ('intim', 100): 3587, ('wet', 100): 3588, ('ration', 100): 3589, ('goer', 100): 3590, ('revolt', 100): 3591, ('sibl', 100): 3592, ('sympath', 100): 3593, ('justin', 100): 3594, ('shaw', 100): 3595, ('lumet', 100): 3596, ('porno', 100): 3597, ('shed', 100): 3598, ('bitch', 100): 3599, ('faster', 100): 3600, ('ethnic', 100): 3601, ('parad', 100): 3602, ('resurrect', 100): 3603, ('riot', 100): 3604, ('woo', 100): 3605, ('lena', 99): 3606, ('ensur', 99): 3607, ('honesti', 99): 3608, ('wendi', 99): 3609, ('andr', 99): 3610, ('weakest', 99): 3611, ('gap', 99): 3612, ('patriot', 99): 3613, ('worm', 99): 3614, ('rider', 99): 3615, ('mario', 99): 3616, ('biographi', 99): 3617, ('wheel', 99): 3618, ('commend', 99): 3619, ('jonathan', 99): 3620, ('partial', 99): 3621, ('00', 99): 3622, ('hopper', 99): 3623, ('slick', 99): 3624, ('feminist', 99): 3625, ('unreal', 99): 3626, ('enlighten', 99): 3627, ('farmer', 99): 3628, ('ballet', 99): 3629, ('steam', 99): 3630, ('region', 99): 3631, ('nephew', 99): 3632, ('dealer', 99): 3633, ('hesit', 99): 3634, ('eager', 99): 3635, ('immort', 99): 3636, ('choru', 99): 3637, ('psychopath', 98): 3638, ('victori', 98): 3639, ('confin', 98): 3640, ('kingdom', 98): 3641, ('nostalg', 98): 3642, ('sandra', 98): 3643, ('safeti', 98): 3644, ('wore', 98): 3645, ('prequel', 98): 3646, ('leo', 98): 3647, ('mutant', 98): 3648, ('snap', 98): 3649, ('hung', 98): 3650, ('morri', 98): 3651, ('similarli', 98): 3652, ('skull', 98): 3653, ('charlott', 98): 3654, ('util', 98): 3655, ('composit', 98): 3656, ('franco', 98): 3657, ('properti', 98): 3658, ('sappi', 98): 3659, ('repress', 98): 3660, ('blunt', 98): 3661, ('vice', 98): 3662, ('owen', 98): 3663, ('macarthur', 98): 3664, ('heartbreak', 97): 3665, ('bumbl', 97): 3666, ('1972', 97): 3667, ('drain', 97): 3668, ('tail', 97): 3669, ('valuabl', 97): 3670, ('bergman', 97): 3671, ('bow', 97): 3672, ('farrel', 97): 3673, ('compass', 97): 3674, ('del', 97): 3675, ('miseri', 97): 3676, ('whoopi', 97): 3677, ('nervou', 97): 3678, ('strand', 97): 3679, ('rope', 97): 3680, ('pattern', 97): 3681, ('kyle', 97): 3682, ('emperor', 97): 3683, ('bonu', 97): 3684, ('campbel', 97): 3685, ('drum', 97): 3686, ('hyde', 97): 3687, ('tad', 97): 3688, ('compens', 97): 3689, ('dust', 97): 3690, ('recycl', 97): 3691, ('cg', 97): 3692, ('exit', 97): 3693, ('rambl', 97): 3694, ('rocki', 97): 3695, ('despair', 97): 3696, ('speci', 97): 3697, ('latin', 97): 3698, ('snl', 97): 3699, ('thru', 97): 3700, ('deed', 97): 3701, ('repli', 97): 3702, ('acquir', 97): 3703, ('montana', 97): 3704, ('dalton', 97): 3705, ('tonight', 96): 3706, ('downhil', 96): 3707, ('bleed', 96): 3708, ('da', 96): 3709, ('wacki', 96): 3710, ('gimmick', 96): 3711, ('35', 96): 3712, ('airport', 96): 3713, ('contempl', 96): 3714, ('rotten', 96): 3715, ('radic', 96): 3716, ('percept', 96): 3717, ('pour', 96): 3718, ('gal', 96): 3719, ('romp', 96): 3720, ('carradin', 96): 3721, ('mistress', 96): 3722, ('roth', 96): 3723, ('slug', 96): 3724, ('rapist', 96): 3725, ('oppress', 96): 3726, ('chess', 96): 3727, ('martian', 96): 3728, ('orson', 96): 3729, ('olli', 96): 3730, ('attorney', 95): 3731, ('pursuit', 95): 3732, ('banal', 95): 3733, ('dazzl', 95): 3734, ('shelley', 95): 3735, ('champion', 95): 3736, ('tackl', 95): 3737, ('slash', 95): 3738, ('programm', 95): 3739, ('arc', 95): 3740, ('heal', 95): 3741, ('belt', 95): 3742, ('taught', 95): 3743, ('preach', 95): 3744, ('arguabl', 95): 3745, ('tooth', 95): 3746, ('stilt', 95): 3747, ('melodi', 95): 3748, ('unpredict', 95): 3749, ('pervert', 95): 3750, ('paltrow', 95): 3751, ('1983', 95): 3752, ('mislead', 95): 3753, ('pervers', 95): 3754, ('edgar', 95): 3755, ('uplift', 94): 3756, ('dixon', 94): 3757, ('duval', 94): 3758, ('chicken', 94): 3759, ('plight', 94): 3760, ('marti', 94): 3761, ('graham', 94): 3762, ('mesmer', 94): 3763, ('gambl', 94): 3764, ('sensat', 94): 3765, ('vocal', 94): 3766, ('maid', 94): 3767, ('employe', 94): 3768, ('passeng', 94): 3769, ('orang', 94): 3770, ('conneri', 94): 3771, ('closest', 94): 3772, ('bela', 94): 3773, ('cleverli', 94): 3774, ('rubi', 94): 3775, ('raymond', 94): 3776, ('vengeanc', 94): 3777, ('virginia', 94): 3778, ('tiresom', 94): 3779, ('poem', 94): 3780, ('franki', 94): 3781, ('tube', 93): 3782, ('engross', 93): 3783, ('swallow', 93): 3784, ('calm', 93): 3785, ('giggl', 93): 3786, ('climact', 93): 3787, ('suffic', 93): 3788, ('monologu', 93): 3789, ('quarter', 93): 3790, ('habit', 93): 3791, ('mute', 93): 3792, ('scottish', 93): 3793, ('outing', 93): 3794, ('amitabh', 93): 3795, ('yawn', 93): 3796, ('extens', 93): 3797, ('1968', 93): 3798, ('gerard', 93): 3799, ('whine', 93): 3800, ('abraham', 93): 3801, ('inject', 93): 3802, ('clone', 93): 3803, ('profan', 93): 3804, ('crystal', 93): 3805, ('iran', 93): 3806, ('bay', 93): 3807, ('paranoia', 93): 3808, ('numb', 93): 3809, ('secretli', 93): 3810, ('sirk', 93): 3811, ('volum', 93): 3812, ('pokemon', 93): 3813, ('convincingli', 93): 3814, ('lundgren', 93): 3815, ('richardson', 92): 3816, ('dispos', 92): 3817, ('profess', 92): 3818, ('bend', 92): 3819, ('earl', 92): 3820, ('lowest', 92): 3821, ('grotesqu', 92): 3822, ('taxi', 92): 3823, ('poetri', 92): 3824, ('chicago', 92): 3825, ('nichola', 92): 3826, ('plod', 92): 3827, ('frankenstein', 92): 3828, ('backward', 92): 3829, ('ethan', 92): 3830, ('fed', 92): 3831, ('trend', 92): 3832, ('expand', 92): 3833, ('spock', 92): 3834, ('abort', 92): 3835, ('surpass', 92): 3836, ('septemb', 92): 3837, ('linger', 92): 3838, ('meander', 92): 3839, ('franci', 92): 3840, ('austen', 92): 3841, ('junior', 92): 3842, ('im', 92): 3843, ('underst', 92): 3844, ('compliment', 91): 3845, ('der', 91): 3846, ('rant', 91): 3847, ('literatur', 91): 3848, ('cannon', 91): 3849, ('eugen', 91): 3850, ('catchi', 91): 3851, ('spoke', 91): 3852, ('mundan', 91): 3853, ('hum', 91): 3854, ('dysfunct', 91): 3855, ('simplic', 91): 3856, ('muddl', 91): 3857, ('myth', 91): 3858, ('stallon', 91): 3859, ('greedi', 91): 3860, ('econom', 91): 3861, ('household', 91): 3862, ('tourist', 91): 3863, ('descent', 91): 3864, ('sue', 91): 3865, ('rubber', 91): 3866, ('instrument', 91): 3867, ('nostalgia', 91): 3868, ('lure', 91): 3869, ('waitress', 91): 3870, ('duck', 90): 3871, ('occupi', 90): 3872, ('coast', 90): 3873, ('mortal', 90): 3874, ('dement', 90): 3875, ('molli', 90): 3876, ('map', 90): 3877, ('crucial', 90): 3878, ('firstli', 90): 3879, ('alongsid', 90): 3880, ('equival', 90): 3881, ('lang', 90): 3882, ('stale', 90): 3883, ('recognit', 90): 3884, ('hello', 90): 3885, ('sissi', 90): 3886, ('phantom', 90): 3887, ('recognis', 90): 3888, ('dictat', 90): 3889, ('phoni', 90): 3890, ('furi', 90): 3891, ('omen', 90): 3892, ('damon', 90): 3893, ('eaten', 90): 3894, ('mankind', 90): 3895, ('irrelev', 90): 3896, ('june', 90): 3897, ('louis', 90): 3898, ('deaf', 90): 3899, ('flee', 90): 3900, ('carel', 90): 3901, ('bacal', 90): 3902, ('cent', 90): 3903, ('insur', 90): 3904, ('randi', 90): 3905, ('blackmail', 89): 3906, ('drake', 89): 3907, ('grayson', 89): 3908, ('rude', 89): 3909, ('labor', 89): 3910, ('wisdom', 89): 3911, ('likewis', 89): 3912, ('rooney', 89): 3913, ('freez', 89): 3914, ('distinguish', 89): 3915, ('antwon', 89): 3916, ('twilight', 89): 3917, ('bump', 89): 3918, ('newli', 89): 3919, ('bike', 89): 3920, ('daisi', 89): 3921, ('1973', 89): 3922, ('ashley', 89): 3923, ('dreari', 89): 3924, ('damm', 89): 3925, ('onlin', 89): 3926, ('heel', 89): 3927, ('cyborg', 89): 3928, ('lengthi', 89): 3929, ('buffalo', 89): 3930, ('loyalti', 89): 3931, ('biko', 89): 3932, ('reign', 89): 3933, ('nineti', 88): 3934, ('analysi', 88): 3935, ('butler', 88): 3936, ('keith', 88): 3937, ('startl', 88): 3938, ('proce', 88): 3939, ('worn', 88): 3940, ('unorigin', 88): 3941, ('pink', 88): 3942, ('ridden', 88): 3943, ('barrymor', 88): 3944, ('baddi', 88): 3945, ('chronicl', 88): 3946, ('attribut', 88): 3947, ('provoc', 88): 3948, ('basketbal', 88): 3949, ('inher', 88): 3950, ('interior', 88): 3951, ('emphas', 88): 3952, ('approv', 88): 3953, ('prey', 88): 3954, ('sailor', 88): 3955, ('tunnel', 88): 3956, ('incorpor', 88): 3957, ('vein', 88): 3958, ('exposur', 88): 3959, ('boxer', 88): 3960, ('mighti', 87): 3961, ('er', 87): 3962, ('underli', 87): 3963, ('elm', 87): 3964, ('barrel', 87): 3965, ('condemn', 87): 3966, ('unrel', 87): 3967, ('millionair', 87): 3968, ('meyer', 87): 3969, ('indiffer', 87): 3970, ('predat', 87): 3971, ('walsh', 87): 3972, ('bunni', 87): 3973, ('improvis', 87): 3974, ('stalker', 87): 3975, ('substitut', 87): 3976, ('drift', 87): 3977, ('simmon', 87): 3978, ('undeni', 87): 3979, ('mormon', 87): 3980, ('othello', 87): 3981, ('belushi', 87): 3982, ('fleet', 87): 3983, ('hypnot', 87): 3984, ('degrad', 87): 3985, ('nicol', 87): 3986, ('julian', 87): 3987, ('robbin', 87): 3988, ('meg', 87): 3989, ('carla', 87): 3990, ('warmth', 86): 3991, ('vital', 86): 3992, ('watson', 86): 3993, ('priceless', 86): 3994, ('nyc', 86): 3995, ('enthusiasm', 86): 3996, ('hay', 86): 3997, ('edgi', 86): 3998, ('errol', 86): 3999, ('exquisit', 86): 4000, ('lampoon', 86): 4001, ('reid', 86): 4002, ('palac', 86): 4003, ('disord', 86): 4004, ('mtv', 86): 4005, ('roof', 86): 4006, ('greed', 86): 4007, ('alarm', 86): 4008, ('unawar', 86): 4009, ('marion', 86): 4010, ('agenda', 86): 4011, ('3d', 86): 4012, ('rukh', 86): 4013, ('alison', 86): 4014, ('novak', 86): 4015, ('firm', 86): 4016, ('shove', 86): 4017, ('dolph', 86): 4018, ('angela', 85): 4019, ('what', 85): 4020, ('preserv', 85): 4021, ('glanc', 85): 4022, ('session', 85): 4023, ('spain', 85): 4024, ('championship', 85): 4025, ('testament', 85): 4026, ('showdown', 85): 4027, ('crown', 85): 4028, ('unleash', 85): 4029, ('randomli', 85): 4030, ('valentin', 85): 4031, ('ponder', 85): 4032, ('simultan', 85): 4033, ('distort', 85): 4034, ('minimum', 85): 4035, ('thompson', 85): 4036, ('peril', 85): 4037, ('orlean', 85): 4038, ('profit', 85): 4039, ('cassidi', 85): 4040, ('israel', 85): 4041, ('nun', 85): 4042, ('beatl', 85): 4043, ('iraq', 85): 4044, ('campaign', 85): 4045, ('sergeant', 85): 4046, ('eastern', 85): 4047, ('petti', 85): 4048, ('peck', 85): 4049, ('gestur', 85): 4050, ('1933', 85): 4051, ('pamela', 85): 4052, ('zizek', 85): 4053, ('coup', 85): 4054, ('drip', 85): 4055, ('13th', 85): 4056, ('empathi', 84): 4057, ('brenda', 84): 4058, ('jan', 84): 4059, ('crawl', 84): 4060, ('quinn', 84): 4061, ('calib', 84): 4062, ('crow', 84): 4063, ('buster', 84): 4064, ('realm', 84): 4065, ('stroke', 84): 4066, ('shootout', 84): 4067, ('restrain', 84): 4068, ('cooki', 84): 4069, ('unimagin', 84): 4070, ('valley', 84): 4071, ('han', 84): 4072, ('represent', 84): 4073, ('exposit', 84): 4074, ('sabrina', 84): 4075, ('mon', 84): 4076, ('kurosawa', 84): 4077, ('cream', 84): 4078, ('climat', 84): 4079, ('travesti', 84): 4080, ('miyazaki', 84): 4081, ('reson', 84): 4082, ('scotland', 84): 4083, ('contradict', 84): 4084, ('rout', 84): 4085, ('1984', 84): 4086, ('regist', 84): 4087, ('bro', 84): 4088, ('wig', 84): 4089, ('perpetu', 84): 4090, ('stake', 84): 4091, ('gentleman', 84): 4092, ('fido', 84): 4093, ('din', 84): 4094, ('distress', 83): 4095, ('abomin', 83): 4096, ('businessman', 83): 4097, ('mclaglen', 83): 4098, ('josh', 83): 4099, ('pretens', 83): 4100, ('traumat', 83): 4101, ('passabl', 83): 4102, ('perceiv', 83): 4103, ('absent', 83): 4104, ('baldwin', 83): 4105, ('monoton', 83): 4106, ('geek', 83): 4107, ('unsatisfi', 83): 4108, ('derang', 83): 4109, ('demis', 83): 4110, ('greg', 83): 4111, ('warrant', 83): 4112, ('1997', 83): 4113, ('shaki', 83): 4114, ('stargat', 83): 4115, ('femm', 83): 4116, ('pole', 83): 4117, ('censor', 83): 4118, ('sucker', 83): 4119, ('cloud', 83): 4120, ('spacey', 83): 4121, ('tacki', 83): 4122, ('dana', 83): 4123, ('crawford', 83): 4124, ('sammi', 83): 4125, ('meryl', 83): 4126, ('delic', 83): 4127, ('ustinov', 83): 4128, ('shoddi', 83): 4129, ('unseen', 83): 4130, ('compromis', 83): 4131, ('painter', 83): 4132, ('soderbergh', 83): 4133, ('1987', 83): 4134, ('ross', 83): 4135, ('darren', 83): 4136, ('fuller', 83): 4137, ('wax', 83): 4138, ('seal', 82): 4139, ('valid', 82): 4140, ('polici', 82): 4141, ('accuraci', 82): 4142, ('tech', 82): 4143, ('deniro', 82): 4144, ('kumar', 82): 4145, ('clash', 82): 4146, ('correctli', 82): 4147, ('fenc', 82): 4148, ('primit', 82): 4149, ('verbal', 82): 4150, ('jewel', 82): 4151, ('reluct', 82): 4152, ('expedit', 82): 4153, ('unravel', 82): 4154, ('dee', 82): 4155, ('1993', 82): 4156, ('sid', 82): 4157, ('anchor', 82): 4158, ('norm', 82): 4159, ('antonioni', 82): 4160, ('nathan', 82): 4161, ('click', 82): 4162, ('furiou', 82): 4163, ('tarantino', 82): 4164, ('exclus', 82): 4165, ('uncov', 82): 4166, ('wholli', 82): 4167, ('fog', 82): 4168, ('judgment', 82): 4169, ('deceas', 82): 4170, ('austin', 82): 4171, ('3000', 81): 4172, ('fart', 81): 4173, ('unfair', 81): 4174, ('ritual', 81): 4175, ('vanc', 81): 4176, ('enforc', 81): 4177, ('tax', 81): 4178, ('hallucin', 81): 4179, ('patienc', 81): 4180, ('fought', 81): 4181, ('slam', 81): 4182, ('roller', 81): 4183, ('wang', 81): 4184, ('2008', 81): 4185, ('alec', 81): 4186, ('seldom', 81): 4187, ('debt', 81): 4188, ('sustain', 81): 4189, ('mode', 81): 4190, ('murray', 81): 4191, ('1971', 81): 4192, ('wretch', 81): 4193, ('fabric', 81): 4194, ('dreck', 81): 4195, ('bake', 81): 4196, ('clerk', 81): 4197, ('trait', 81): 4198, ('sand', 81): 4199, ('crippl', 81): 4200, ('behold', 81): 4201, ('logan', 81): 4202, ('sunni', 81): 4203, ('temper', 81): 4204, ('1995', 81): 4205, ('sheet', 81): 4206, ('darn', 81): 4207, ('conduct', 81): 4208, ('pocket', 81): 4209, ('joel', 81): 4210, ('malon', 81): 4211, ('nicola', 81): 4212, ('shanghai', 81): 4213, ('stark', 80): 4214, ('squad', 80): 4215, ('technicolor', 80): 4216, ('legaci', 80): 4217, ('helpless', 80): 4218, ('stuart', 80): 4219, ('divid', 80): 4220, ('fundament', 80): 4221, ('grief', 80): 4222, ('tactic', 80): 4223, ('rita', 80): 4224, ('conscious', 80): 4225, ('runner', 80): 4226, ('outlin', 80): 4227, ('guitar', 80): 4228, ('soup', 80): 4229, ('canyon', 80): 4230, ('phil', 80): 4231, ('sweep', 80): 4232, ('schedul', 80): 4233, ('penni', 80): 4234, ('shell', 80): 4235, ('pete', 80): 4236, ('clau', 80): 4237, ('despis', 80): 4238, ('critiqu', 80): 4239, ('robber', 80): 4240, ('scriptwrit', 80): 4241, ('exhaust', 80): 4242, ('bridget', 80): 4243, ('isabel', 80): 4244, ('preston', 80): 4245, ('preposter', 80): 4246, ('bias', 80): 4247, ('downey', 79): 4248, ('consciou', 79): 4249, ('jacket', 79): 4250, ('vomit', 79): 4251, ('flair', 79): 4252, ('inabl', 79): 4253, ('marc', 79): 4254, ('kansa', 79): 4255, ('unexpectedli', 79): 4256, ('drove', 79): 4257, ('sugar', 79): 4258, ('delv', 79): 4259, ('rear', 79): 4260, ('liberti', 79): 4261, ('bloom', 79): 4262, ('cigarett', 79): 4263, ('boyl', 79): 4264, ('rehash', 79): 4265, ('implic', 79): 4266, ('passag', 79): 4267, ('propos', 79): 4268, ('sentinel', 79): 4269, ('alley', 79): 4270, ('palanc', 79): 4271, ('russia', 79): 4272, ('alicia', 79): 4273, ('restrict', 79): 4274, ('lacklust', 79): 4275, ('invad', 79): 4276, ('culmin', 79): 4277, ('agenc', 79): 4278, ('gregori', 79): 4279, ('sniper', 79): 4280, ('jodi', 79): 4281, ('connor', 79): 4282, ('newman', 79): 4283, ('awhil', 78): 4284, ('aesthet', 78): 4285, ('sharon', 78): 4286, ('feat', 78): 4287, ('rampag', 78): 4288, ('22', 78): 4289, ('cap', 78): 4290, ('tripe', 78): 4291, ('tendenc', 78): 4292, ('rod', 78): 4293, ('pale', 78): 4294, ('asylum', 78): 4295, ('kolchak', 78): 4296, ('mccoy', 78): 4297, ('behaviour', 78): 4298, ('improb', 78): 4299, ('karl', 78): 4300, ('vet', 78): 4301, ('lush', 78): 4302, ('1936', 78): 4303, ('arrow', 78): 4304, ('wrench', 78): 4305, ('rehears', 78): 4306, ('delet', 78): 4307, ('ladder', 78): 4308, ('chainsaw', 78): 4309, ('bacon', 78): 4310, ('horn', 78): 4311, ('foxx', 78): 4312, ('yeti', 78): 4313, ('weav', 77): 4314, ('paramount', 77): 4315, ('minu', 77): 4316, ('underneath', 77): 4317, ('spice', 77): 4318, ('loneli', 77): 4319, ('globe', 77): 4320, ('aristocrat', 77): 4321, ('suspicion', 77): 4322, ('visitor', 77): 4323, ('hulk', 77): 4324, ('coaster', 77): 4325, ('hackney', 77): 4326, ('prank', 77): 4327, ('stream', 77): 4328, ('lurk', 77): 4329, ('newcom', 77): 4330, ('wildli', 77): 4331, ('suffici', 77): 4332, ('shortcom', 77): 4333, ('tomorrow', 77): 4334, ('el', 77): 4335, ('conscienc', 77): 4336, ('elit', 77): 4337, ('rhythm', 77): 4338, ('sung', 77): 4339, ('19th', 77): 4340, ('tasteless', 77): 4341, ('1978', 77): 4342, ('fright', 77): 4343, ('wagner', 77): 4344, ('hungri', 77): 4345, ('thunderbird', 77): 4346, ('filler', 77): 4347, ('1920', 77): 4348, ('rumor', 77): 4349, ('1988', 77): 4350, ('amazon', 77): 4351, ('basing', 77): 4352, ('paradis', 77): 4353, ('scoop', 77): 4354, ('financ', 77): 4355, ('75', 76): 4356, ('quietli', 76): 4357, ('posey', 76): 4358, ('entranc', 76): 4359, ('dirt', 76): 4360, ('counterpart', 76): 4361, ('beverli', 76): 4362, ('secondari', 76): 4363, ('standout', 76): 4364, ('couch', 76): 4365, ('1939', 76): 4366, ('smell', 76): 4367, ('naughti', 76): 4368, ('wwe', 76): 4369, ('iv', 76): 4370, ('hopkin', 76): 4371, ('ram', 76): 4372, ('immers', 76): 4373, ('bread', 76): 4374, ('heist', 76): 4375, ('literari', 76): 4376, ('teas', 76): 4377, ('straightforward', 76): 4378, ('brit', 76): 4379, ('minist', 76): 4380, ('impos', 76): 4381, ('en', 76): 4382, ('lectur', 76): 4383, ('rub', 76): 4384, ('recogniz', 76): 4385, ('tierney', 76): 4386, ('abrupt', 76): 4387, ('inmat', 76): 4388, ('cancer', 76): 4389, ('1989', 76): 4390, ('chamberlain', 76): 4391, ('leigh', 76): 4392, ('ingeni', 76): 4393, ('choppi', 76): 4394, ('springer', 76): 4395, ('curli', 76): 4396, ('paxton', 76): 4397, ('penn', 76): 4398, ('grudg', 76): 4399, ('atroc', 76): 4400, ('worship', 76): 4401, ('chavez', 76): 4402, ('laurenc', 75): 4403, ('moreov', 75): 4404, ('net', 75): 4405, ('transcend', 75): 4406, ('skeptic', 75): 4407, ('ace', 75): 4408, ('morbid', 75): 4409, ('duel', 75): 4410, ('sassi', 75): 4411, ('injuri', 75): 4412, ('quaid', 75): 4413, ('enthral', 75): 4414, ('1986', 75): 4415, ('watcher', 75): 4416, ('esther', 75): 4417, ('lindsay', 75): 4418, ('clan', 75): 4419, ('policeman', 75): 4420, ('cattl', 75): 4421, ('ratso', 75): 4422, ('variat', 75): 4423, ('misguid', 75): 4424, ('nemesi', 75): 4425, ('nolan', 75): 4426, ('bernard', 75): 4427, ('yearn', 75): 4428, ('sublim', 75): 4429, ('attenborough', 75): 4430, ('entitl', 75): 4431, ('missil', 75): 4432, ('convert', 75): 4433, ('heartfelt', 75): 4434, ('geni', 75): 4435, ('youngest', 74): 4436, ('dont', 74): 4437, ('setup', 74): 4438, ('buzz', 74): 4439, ('spiral', 74): 4440, ('tyler', 74): 4441, ('brood', 74): 4442, ('out', 74): 4443, ('hk', 74): 4444, ('moder', 74): 4445, ('carlito', 74): 4446, ('rosemari', 74): 4447, ('cruelti', 74): 4448, ('vader', 74): 4449, ('graini', 74): 4450, ('1979', 74): 4451, ('poe', 74): 4452, ('artsi', 74): 4453, ('unexplain', 74): 4454, ('mytholog', 74): 4455, ('puppi', 74): 4456, ('facil', 74): 4457, ('egg', 74): 4458, ('kitti', 74): 4459, ('enabl', 74): 4460, ('reliabl', 74): 4461, ('uncut', 74): 4462, ('grin', 74): 4463, ('bye', 74): 4464, ('characteris', 74): 4465, ('obstacl', 74): 4466, ('hopelessli', 74): 4467, ('diari', 74): 4468, ('bean', 74): 4469, ('kidman', 74): 4470, ('steadi', 74): 4471, ('patricia', 73): 4472, ('kline', 73): 4473, ('athlet', 73): 4474, ('spontan', 73): 4475, ('decept', 73): 4476, ('christin', 73): 4477, ('despic', 73): 4478, ('baffl', 73): 4479, ('hammi', 73): 4480, ('effici', 73): 4481, ('underworld', 73): 4482, ('bewar', 73): 4483, ('niec', 73): 4484, ('clueless', 73): 4485, ('oblig', 73): 4486, ('martha', 73): 4487, ('gina', 73): 4488, ('hain', 73): 4489, ('1969', 73): 4490, ('preming', 73): 4491, ('sweat', 73): 4492, ('exterior', 73): 4493, ('acquaint', 73): 4494, ('narrow', 73): 4495, ('disastr', 73): 4496, ('heap', 73): 4497, ('fuel', 73): 4498, ('weather', 73): 4499, ('gillian', 73): 4500, ('bounc', 73): 4501, ('bronson', 73): 4502, ('brendan', 73): 4503, ('viewpoint', 72): 4504, ('biker', 72): 4505, ('suprem', 72): 4506, ('sooner', 72): 4507, ('headach', 72): 4508, ('loath', 72): 4509, ('shatter', 72): 4510, ('injur', 72): 4511, ('insipid', 72): 4512, ('harmless', 72): 4513, ('outlaw', 72): 4514, ('housewif', 72): 4515, ('goof', 72): 4516, ('analyz', 72): 4517, ('dandi', 72): 4518, ('tick', 72): 4519, ('lester', 72): 4520, ('candl', 72): 4521, ('angst', 72): 4522, ('scar', 72): 4523, ('preachi', 72): 4524, ('enlist', 72): 4525, ('rome', 72): 4526, ('19', 72): 4527, ('sleepwalk', 72): 4528, ('taboo', 72): 4529, ('loi', 72): 4530, ('uh', 72): 4531, ('astound', 72): 4532, ('dilemma', 72): 4533, ('mayhem', 72): 4534, ('virtu', 72): 4535, ('mermaid', 72): 4536, ('hepburn', 72): 4537, ('circu', 72): 4538, ('renaiss', 72): 4539, ('fontain', 72): 4540, ('trigger', 72): 4541, ('73', 72): 4542, ('stimul', 71): 4543, ('scorses', 71): 4544, ('steer', 71): 4545, ('redund', 71): 4546, ('oldest', 71): 4547, ('zoom', 71): 4548, ('hooker', 71): 4549, ('claustrophob', 71): 4550, ('idol', 71): 4551, ('ariel', 71): 4552, ('glorifi', 71): 4553, ('whore', 71): 4554, ('foolish', 71): 4555, ('fluff', 71): 4556, ('dismal', 71): 4557, ('stair', 71): 4558, ('camcord', 71): 4559, ('bent', 71): 4560, ('phenomenon', 71): 4561, ('hostag', 71): 4562, ('cassavet', 71): 4563, ('surgeri', 71): 4564, ('immatur', 71): 4565, ('filth', 71): 4566, ('slimi', 71): 4567, ('salt', 71): 4568, ('intric', 71): 4569, ('hokey', 71): 4570, ('tripl', 71): 4571, ('dish', 71): 4572, ('spade', 71): 4573, ('amor', 71): 4574, ('contempt', 71): 4575, ('boston', 71): 4576, ('gere', 71): 4577, ('guin', 71): 4578, ('overlong', 71): 4579, ('ebert', 71): 4580, ('macho', 71): 4581, ('sox', 71): 4582, ('corbett', 71): 4583, ('mutual', 70): 4584, ('joker', 70): 4585, ('beard', 70): 4586, ('flashi', 70): 4587, ('schlock', 70): 4588, ('cohen', 70): 4589, ('fascist', 70): 4590, ('keen', 70): 4591, ('zane', 70): 4592, ('perman', 70): 4593, ('1981', 70): 4594, ('widescreen', 70): 4595, ('messi', 70): 4596, ('spinal', 70): 4597, ('faint', 70): 4598, ('astronaut', 70): 4599, ('antagonist', 70): 4600, ('spree', 70): 4601, ('remad', 70): 4602, ('muscl', 70): 4603, ('1976', 70): 4604, ('rhyme', 70): 4605, ('obligatori', 70): 4606, ('shred', 70): 4607, ('proport', 70): 4608, ('conquer', 70): 4609, ('mount', 70): 4610, ('flirt', 70): 4611, ('nolt', 70): 4612, ('margin', 70): 4613, ('trivia', 70): 4614, ('dwarf', 70): 4615, ('preced', 70): 4616, ('gabl', 70): 4617, ('alvin', 70): 4618, ('shield', 70): 4619, ('corman', 70): 4620, ('assert', 70): 4621, ('gasp', 70): 4622, ('frantic', 70): 4623, ('radiat', 70): 4624, ('cow', 70): 4625, ('down', 70): 4626, ('strongest', 70): 4627, ('naschi', 70): 4628, ('harold', 70): 4629, ('transplant', 70): 4630, ('flag', 70): 4631, ('cush', 70): 4632, ('carey', 69): 4633, ('archiv', 69): 4634, ('persuad', 69): 4635, ('neurot', 69): 4636, ('departur', 69): 4637, ('scandal', 69): 4638, ('wield', 69): 4639, ('ritchi', 69): 4640, ('vaniti', 69): 4641, ('28', 69): 4642, ('inflict', 69): 4643, ('interestingli', 69): 4644, ('mol', 69): 4645, ('someday', 69): 4646, ('resum', 69): 4647, ('strive', 69): 4648, ('hara', 69): 4649, ('flock', 69): 4650, ('claud', 69): 4651, ('off', 69): 4652, ('deer', 69): 4653, ('bitten', 69): 4654, ('divin', 69): 4655, ('sensual', 69): 4656, ('www', 69): 4657, ('fishburn', 69): 4658, ('barn', 69): 4659, ('instruct', 69): 4660, ('boob', 69): 4661, ('95', 69): 4662, ('brush', 69): 4663, ('discern', 69): 4664, ('repris', 69): 4665, ('aborigin', 69): 4666, ('info', 69): 4667, ('bachelor', 69): 4668, ('danish', 69): 4669, ('1945', 69): 4670, ('triangl', 69): 4671, ('raj', 69): 4672, ('mobil', 69): 4673, ('hilar', 68): 4674, ('fragil', 68): 4675, ('rot', 68): 4676, ('dim', 68): 4677, ('luka', 68): 4678, ('loretta', 68): 4679, ('cher', 68): 4680, ('colin', 68): 4681, ('banter', 68): 4682, ('pacif', 68): 4683, ('bate', 68): 4684, ('vibrant', 68): 4685, ('cb', 68): 4686, ('dame', 68): 4687, ('pixar', 68): 4688, ('harrison', 68): 4689, ('cycl', 68): 4690, ('undermin', 68): 4691, ('wendigo', 68): 4692, ('proclaim', 68): 4693, ('ish', 68): 4694, ('biblic', 68): 4695, ('prophet', 68): 4696, ('clad', 68): 4697, ('earnest', 68): 4698, ('miracul', 68): 4699, ('timberlak', 68): 4700, ('casino', 68): 4701, ('mobster', 68): 4702, ('artwork', 68): 4703, ('jade', 68): 4704, ('europa', 68): 4705, ('axe', 68): 4706, ('recit', 68): 4707, ('hug', 68): 4708, ('kathryn', 68): 4709, ('heartwarm', 68): 4710, ('carlo', 68): 4711, ('neill', 68): 4712, ('hapless', 68): 4713, ('anton', 68): 4714, ('helm', 68): 4715, ('cliffhang', 68): 4716, ('dylan', 68): 4717, ('traffic', 68): 4718, ('submit', 68): 4719, ('frontier', 68): 4720, ('senior', 68): 4721, ('melissa', 68): 4722, ('pickford', 68): 4723, ('parson', 68): 4724, ('venom', 67): 4725, ('breakfast', 67): 4726, ('toronto', 67): 4727, ('akin', 67): 4728, ('electron', 67): 4729, ('holocaust', 67): 4730, ('articl', 67): 4731, ('bikini', 67): 4732, ('shepherd', 67): 4733, ('lucil', 67): 4734, ('razor', 67): 4735, ('misfortun', 67): 4736, ('pc', 67): 4737, ('winchest', 67): 4738, ('choke', 67): 4739, ('lui', 67): 4740, ('blatantli', 67): 4741, ('rooki', 67): 4742, ('foil', 67): 4743, ('trier', 67): 4744, ('northern', 67): 4745, ('mason', 67): 4746, ('jo', 67): 4747, ('flavor', 67): 4748, ('nope', 67): 4749, ('wardrob', 67): 4750, ('illus', 67): 4751, ('jordan', 67): 4752, ('seedi', 67): 4753, ('cerebr', 67): 4754, ('estrang', 67): 4755, ('orphan', 67): 4756, ('feast', 67): 4757, ('static', 67): 4758, ('sicken', 67): 4759, ('legitim', 67): 4760, ('redneck', 67): 4761, ('http', 67): 4762, ('marlon', 67): 4763, ('eli', 67): 4764, ('token', 67): 4765, ('isra', 67): 4766, ('aris', 67): 4767, ('bondag', 67): 4768, ('alexandr', 67): 4769, ('vanessa', 67): 4770, ('mathieu', 67): 4771, ('vile', 67): 4772, ('milo', 67): 4773, ('uma', 67): 4774, ('antholog', 67): 4775, ('comprehend', 66): 4776, ('smack', 66): 4777, ('swept', 66): 4778, ('abund', 66): 4779, ('psych', 66): 4780, ('nightclub', 66): 4781, ('shorter', 66): 4782, ('huston', 66): 4783, ('linear', 66): 4784, ('ceremoni', 66): 4785, ('oppon', 66): 4786, ('tack', 66): 4787, ('howl', 66): 4788, ('glare', 66): 4789, ('disregard', 66): 4790, ('affleck', 66): 4791, ('turd', 66): 4792, ('frog', 66): 4793, ('leather', 66): 4794, ('feminin', 66): 4795, ('clinic', 66): 4796, ('fifth', 66): 4797, ('highway', 66): 4798, ('retriev', 66): 4799, ('peer', 66): 4800, ('charlton', 66): 4801, ('styliz', 66): 4802, ('audrey', 66): 4803, ('dudley', 66): 4804, ('boyer', 66): 4805, ('cartoonish', 66): 4806, ('magician', 66): 4807, ('wrestler', 66): 4808, ('knightley', 66): 4809, ('outdat', 66): 4810, ('deem', 66): 4811, ('ideolog', 66): 4812, ('gilbert', 66): 4813, ('gunga', 66): 4814, ('durat', 65): 4815, ('lighter', 65): 4816, ('client', 65): 4817, ('spine', 65): 4818, ('4th', 65): 4819, ('spawn', 65): 4820, ('senat', 65): 4821, ('corn', 65): 4822, ('summar', 65): 4823, ('boo', 65): 4824, ('goldsworthi', 65): 4825, ('lavish', 65): 4826, ('whack', 65): 4827, ('1994', 65): 4828, ('potter', 65): 4829, ('breakdown', 65): 4830, ('toe', 65): 4831, ('snatch', 65): 4832, ('braveheart', 65): 4833, ('moe', 65): 4834, ('deliver', 65): 4835, ('evolut', 65): 4836, ('chip', 65): 4837, ('energet', 65): 4838, ('bogu', 65): 4839, ('uniformli', 65): 4840, ('phenomen', 65): 4841, ('greet', 65): 4842, ('lifeless', 65): 4843, ('bastard', 65): 4844, ('mitch', 65): 4845, ('sleaz', 65): 4846, ('plate', 65): 4847, ('conrad', 65): 4848, ('collector', 65): 4849, ('cemeteri', 65): 4850, ('newer', 65): 4851, ('monument', 65): 4852, ('salman', 65): 4853, ('compris', 65): 4854, ('1991', 65): 4855, ('tara', 65): 4856, ('btw', 65): 4857, ('einstein', 65): 4858, ('cuban', 65): 4859, ('clara', 64): 4860, ('appl', 64): 4861, ('embark', 64): 4862, ('judd', 64): 4863, ('firmli', 64): 4864, ('lex', 64): 4865, ('undertak', 64): 4866, ('inaccuraci', 64): 4867, ('ol', 64): 4868, ('historian', 64): 4869, ('belli', 64): 4870, ('sorrow', 64): 4871, ('replay', 64): 4872, ('ie', 64): 4873, ('nina', 64): 4874, ('fluid', 64): 4875, ('jedi', 64): 4876, ('1977', 64): 4877, ('creek', 64): 4878, ('1974', 64): 4879, ('bulk', 64): 4880, ('liu', 64): 4881, ('jule', 64): 4882, ('pronounc', 64): 4883, ('luxuri', 64): 4884, ('jare', 64): 4885, ('capot', 64): 4886, ('kent', 64): 4887, ('gilliam', 64): 4888, ('bori', 64): 4889, ('wtf', 64): 4890, ('mcqueen', 64): 4891, ('cecil', 64): 4892, ('healthi', 64): 4893, ('trauma', 64): 4894, ('occup', 64): 4895, ('evelyn', 64): 4896, ('constitut', 64): 4897, ('neatli', 64): 4898, ('jam', 64): 4899, ('alleg', 64): 4900, ('kazan', 64): 4901, ('spectacl', 64): 4902, ('undead', 64): 4903, ('signal', 64): 4904, ('randolph', 64): 4905, ('armstrong', 64): 4906, ('outright', 64): 4907, ('eleven', 64): 4908, ('sacrif', 63): 4909, ('rosario', 63): 4910, ('goldblum', 63): 4911, ('ash', 63): 4912, ('knee', 63): 4913, ('mum', 63): 4914, ('vain', 63): 4915, ('comprehens', 63): 4916, ('miniseri', 63): 4917, ('congratul', 63): 4918, ('roar', 63): 4919, ('curtain', 63): 4920, ('groan', 63): 4921, ('miami', 63): 4922, ('galaxi', 63): 4923, ('bait', 63): 4924, ('pepper', 63): 4925, ('fruit', 63): 4926, ('relentless', 63): 4927, ('walt', 63): 4928, ('lanc', 63): 4929, ('comb', 63): 4930, ('inclus', 63): 4931, ('blur', 63): 4932, ('unsuspect', 63): 4933, ('propheci', 63): 4934, ('tokyo', 63): 4935, ('inaccur', 63): 4936, ('pioneer', 63): 4937, ('unattract', 63): 4938, ('antonio', 63): 4939, ('meal', 63): 4940, ('abound', 63): 4941, ('decapit', 63): 4942, ('vignett', 63): 4943, ('genet', 63): 4944, ('truman', 63): 4945, ('conan', 63): 4946, ('id', 63): 4947, ('carmen', 63): 4948, ('basket', 63): 4949, ('aussi', 63): 4950, ('sidewalk', 63): 4951, ('bsg', 63): 4952, ('porter', 63): 4953, ('poker', 63): 4954, ('lauren', 63): 4955, ('palm', 63): 4956, ('subtli', 63): 4957, ('forgiven', 63): 4958, ('spray', 63): 4959, ('kiddi', 63): 4960, ('1985', 63): 4961, ('cape', 63): 4962, ('paula', 63): 4963, ('growth', 62): 4964, ('weaker', 62): 4965, ('hostil', 62): 4966, ('omin', 62): 4967, ('profil', 62): 4968, ('verg', 62): 4969, ('optimist', 62): 4970, ('reincarn', 62): 4971, ('assort', 62): 4972, ('hackman', 62): 4973, ('dubiou', 62): 4974, ('epitom', 62): 4975, ('victorian', 62): 4976, ('evan', 62): 4977, ('spill', 62): 4978, ('detach', 62): 4979, ('scarfac', 62): 4980, ('ingrid', 62): 4981, ('asset', 62): 4982, ('sparkl', 62): 4983, ('playboy', 62): 4984, ('21st', 62): 4985, ('cypher', 62): 4986, ('casper', 62): 4987, ('vastli', 62): 4988, ('frontal', 62): 4989, ('weari', 62): 4990, ('handicap', 62): 4991, ('monti', 62): 4992, ('macabr', 62): 4993, ('mice', 62): 4994, ('sophi', 62): 4995, ('drone', 62): 4996, ('scariest', 62): 4997, ('ghetto', 62): 4998, ('turtl', 62): 4999}\n"
     ]
    }
   ],
   "source": [
    "word_dict = build_dict(train_X)\n",
    "print(word_dict)"
   ]
  },
  {
   "cell_type": "markdown",
   "metadata": {},
   "source": [
    "**Question:** What are the five most frequently appearing (tokenized) words in the training set? Does it makes sense that these words appear frequently in the training set?"
   ]
  },
  {
   "cell_type": "markdown",
   "metadata": {},
   "source": [
    "**Answer:**"
   ]
  },
  {
   "cell_type": "markdown",
   "metadata": {},
   "source": [
    "The answers prints out above when the build_dict function is run. Movie, Film, One, Like, and Time are the 5 most common\n"
   ]
  },
  {
   "cell_type": "markdown",
   "metadata": {},
   "source": [
    "### Save `word_dict`\n",
    "\n",
    "Later on when we construct an endpoint which processes a submitted review we will need to make use of the `word_dict` which we have created. As such, we will save it to a file now for future use."
   ]
  },
  {
   "cell_type": "code",
   "execution_count": 14,
   "metadata": {},
   "outputs": [],
   "source": [
    "data_dir = '../data/pytorch' # The folder we will use for storing data\n",
    "if not os.path.exists(data_dir): # Make sure that the folder exists\n",
    "    os.makedirs(data_dir)"
   ]
  },
  {
   "cell_type": "code",
   "execution_count": 15,
   "metadata": {},
   "outputs": [],
   "source": [
    "with open(os.path.join(data_dir, 'word_dict.pkl'), \"wb\") as f:\n",
    "    pickle.dump(word_dict, f)"
   ]
  },
  {
   "cell_type": "markdown",
   "metadata": {},
   "source": [
    "### Transform the reviews\n",
    "\n",
    "Now that we have our word dictionary which allows us to transform the words appearing in the reviews into integers, it is time to make use of it and convert our reviews to their integer sequence representation, making sure to pad or truncate to a fixed length, which in our case is `500`."
   ]
  },
  {
   "cell_type": "code",
   "execution_count": 16,
   "metadata": {},
   "outputs": [],
   "source": [
    "def convert_and_pad(word_dict, sentence, pad=500):\n",
    "    NOWORD = 0 # We will use 0 to represent the 'no word' category\n",
    "    INFREQ = 1 # and we use 1 to represent the infrequent words, i.e., words not appearing in word_dict\n",
    "    \n",
    "    working_sentence = [NOWORD] * pad #creates a list of 0s with pad length\n",
    "    \n",
    "    for word_index, word in enumerate(sentence[:pad]): #enumerate returns an index position and the list object, in this case a word\n",
    "        if word in word_dict:\n",
    "            working_sentence[word_index] = word_dict[word]\n",
    "        else:\n",
    "            working_sentence[word_index] = INFREQ #if it's infrequent make it a 1\n",
    "            \n",
    "    return working_sentence, min(len(sentence), pad)\n",
    "\n",
    "def convert_and_pad_data(word_dict, data, pad=500):\n",
    "    result = []\n",
    "    lengths = []\n",
    "    \n",
    "    for sentence in data:\n",
    "        converted, leng = convert_and_pad(word_dict, sentence, pad)\n",
    "        result.append(converted)\n",
    "        lengths.append(leng)\n",
    "        \n",
    "    return np.array(result), np.array(lengths)"
   ]
  },
  {
   "cell_type": "code",
   "execution_count": 17,
   "metadata": {},
   "outputs": [],
   "source": [
    "train_X, train_X_len = convert_and_pad_data(word_dict, train_X)\n",
    "test_X, test_X_len = convert_and_pad_data(word_dict, test_X)"
   ]
  },
  {
   "cell_type": "markdown",
   "metadata": {},
   "source": [
    "As a quick check to make sure that things are working as intended, check to see what one of the reviews in the training set looks like after having been processeed. Does this look reasonable? What is the length of a review in the training set?"
   ]
  },
  {
   "cell_type": "code",
   "execution_count": 18,
   "metadata": {},
   "outputs": [
    {
     "name": "stdout",
     "output_type": "stream",
     "text": [
      "[1 1 1 1 1 1 1 1 1 1 1 1 1 1 1 1 1 1 1 1 1 1 1 1 1 1 1 1 1 1 1 1 1 1 1 1 1\n",
      " 1 1 1 1 1 1 1 1 1 1 1 1 1 1 1 1 1 1 1 1 1 1 1 1 1 1 1 1 1 1 1 1 1 1 1 0 0\n",
      " 0 0 0 0 0 0 0 0 0 0 0 0 0 0 0 0 0 0 0 0 0 0 0 0 0 0 0 0 0 0 0 0 0 0 0 0 0\n",
      " 0 0 0 0 0 0 0 0 0 0 0 0 0 0 0 0 0 0 0 0 0 0 0 0 0 0 0 0 0 0 0 0 0 0 0 0 0\n",
      " 0 0 0 0 0 0 0 0 0 0 0 0 0 0 0 0 0 0 0 0 0 0 0 0 0 0 0 0 0 0 0 0 0 0 0 0 0\n",
      " 0 0 0 0 0 0 0 0 0 0 0 0 0 0 0 0 0 0 0 0 0 0 0 0 0 0 0 0 0 0 0 0 0 0 0 0 0\n",
      " 0 0 0 0 0 0 0 0 0 0 0 0 0 0 0 0 0 0 0 0 0 0 0 0 0 0 0 0 0 0 0 0 0 0 0 0 0\n",
      " 0 0 0 0 0 0 0 0 0 0 0 0 0 0 0 0 0 0 0 0 0 0 0 0 0 0 0 0 0 0 0 0 0 0 0 0 0\n",
      " 0 0 0 0 0 0 0 0 0 0 0 0 0 0 0 0 0 0 0 0 0 0 0 0 0 0 0 0 0 0 0 0 0 0 0 0 0\n",
      " 0 0 0 0 0 0 0 0 0 0 0 0 0 0 0 0 0 0 0 0 0 0 0 0 0 0 0 0 0 0 0 0 0 0 0 0 0\n",
      " 0 0 0 0 0 0 0 0 0 0 0 0 0 0 0 0 0 0 0 0 0 0 0 0 0 0 0 0 0 0 0 0 0 0 0 0 0\n",
      " 0 0 0 0 0 0 0 0 0 0 0 0 0 0 0 0 0 0 0 0 0 0 0 0 0 0 0 0 0 0 0 0 0 0 0 0 0\n",
      " 0 0 0 0 0 0 0 0 0 0 0 0 0 0 0 0 0 0 0 0 0 0 0 0 0 0 0 0 0 0 0 0 0 0 0 0 0\n",
      " 0 0 0 0 0 0 0 0 0 0 0 0 0 0 0 0 0 0 0]\n",
      "[ 60 106 177 211  41  95  98 155 290 262]\n"
     ]
    }
   ],
   "source": [
    "# Use this cell to examine one of the processed reviews to make sure everything is working as intended.\n",
    "print(train_X[99])\n",
    "print(train_X_len[0:10])"
   ]
  },
  {
   "cell_type": "markdown",
   "metadata": {},
   "source": [
    "**Question:** In the cells above we use the `preprocess_data` and `convert_and_pad_data` methods to process both the training and testing set. Why or why not might this be a problem?"
   ]
  },
  {
   "cell_type": "markdown",
   "metadata": {},
   "source": [
    "**Answer:**\n",
    "\n",
    "It is beneficial to use the same processes so that the data is standardized and properly converted into a useable form for our model. This will also be necessary for a deployed model which should be able to take any input and process it to be useable by the model. There is a risk with the dictionary being formed from the training data. If an input uses a vocabulary different enough from the training corpus then the model might not be able to make an accurate assessment of the review."
   ]
  },
  {
   "cell_type": "markdown",
   "metadata": {},
   "source": [
    "## Step 3: Upload the data to S3\n",
    "\n",
    "As in the XGBoost notebook, we will need to upload the training dataset to S3 in order for our training code to access it. For now we will save it locally and we will upload to S3 later on.\n",
    "\n",
    "### Save the processed training dataset locally\n",
    "\n",
    "It is important to note the format of the data that we are saving as we will need to know it when we write the training code. In our case, each row of the dataset has the form `label`, `length`, `review[500]` where `review[500]` is a sequence of `500` integers representing the words in the review."
   ]
  },
  {
   "cell_type": "code",
   "execution_count": null,
   "metadata": {},
   "outputs": [],
   "source": [
    "import pandas as pd\n",
    "    \n",
    "pd.concat([pd.DataFrame(train_y), pd.DataFrame(train_X_len), pd.DataFrame(train_X)], axis=1) \\\n",
    "        .to_csv(os.path.join(data_dir, 'train.csv'), header=False, index=False)"
   ]
  },
  {
   "cell_type": "markdown",
   "metadata": {},
   "source": [
    "### Uploading the training data\n",
    "\n",
    "\n",
    "Next, we need to upload the training data to the SageMaker default S3 bucket so that we can provide access to it while training our model."
   ]
  },
  {
   "cell_type": "code",
   "execution_count": null,
   "metadata": {},
   "outputs": [],
   "source": [
    "import sagemaker\n",
    "\n",
    "sagemaker_session = sagemaker.Session()\n",
    "\n",
    "bucket = sagemaker_session.default_bucket()\n",
    "prefix = 'sagemaker/sentiment_rnn'\n",
    "\n",
    "role = sagemaker.get_execution_role()"
   ]
  },
  {
   "cell_type": "code",
   "execution_count": null,
   "metadata": {},
   "outputs": [],
   "source": [
    "input_data = sagemaker_session.upload_data(path=data_dir, bucket=bucket, key_prefix=prefix)"
   ]
  },
  {
   "cell_type": "markdown",
   "metadata": {},
   "source": [
    "**NOTE:** The cell above uploads the entire contents of our data directory. This includes the `word_dict.pkl` file. This is fortunate as we will need this later on when we create an endpoint that accepts an arbitrary review. For now, we will just take note of the fact that it resides in the data directory (and so also in the S3 training bucket) and that we will need to make sure it gets saved in the model directory."
   ]
  },
  {
   "cell_type": "markdown",
   "metadata": {},
   "source": [
    "## Step 4: Build and Train the PyTorch Model\n",
    "\n",
    "In the XGBoost notebook we discussed what a model is in the SageMaker framework. In particular, a model comprises three objects\n",
    "\n",
    " - Model Artifacts,\n",
    " - Training Code, and\n",
    " - Inference Code,\n",
    " \n",
    "each of which interact with one another. In the XGBoost example we used training and inference code that was provided by Amazon. Here we will still be using containers provided by Amazon with the added benefit of being able to include our own custom code.\n",
    "\n",
    "We will start by implementing our own neural network in PyTorch along with a training script. For the purposes of this project we have provided the necessary model object in the `model.py` file, inside of the `train` folder. You can see the provided implementation by running the cell below."
   ]
  },
  {
   "cell_type": "code",
   "execution_count": null,
   "metadata": {},
   "outputs": [],
   "source": [
    "!pygmentize train/model.py"
   ]
  },
  {
   "cell_type": "markdown",
   "metadata": {},
   "source": [
    "The important takeaway from the implementation provided is that there are three parameters that we may wish to tweak to improve the performance of our model. These are the embedding dimension, the hidden dimension and the size of the vocabulary. We will likely want to make these parameters configurable in the training script so that if we wish to modify them we do not need to modify the script itself. We will see how to do this later on. To start we will write some of the training code in the notebook so that we can more easily diagnose any issues that arise.\n",
    "\n",
    "First we will load a small portion of the training data set to use as a sample. It would be very time consuming to try and train the model completely in the notebook as we do not have access to a gpu and the compute instance that we are using is not particularly powerful. However, we can work on a small bit of the data to get a feel for how our training script is behaving."
   ]
  },
  {
   "cell_type": "code",
   "execution_count": null,
   "metadata": {},
   "outputs": [],
   "source": [
    "import torch\n",
    "import torch.utils.data\n",
    "\n",
    "# Read in only the first 250 rows\n",
    "train_sample = pd.read_csv(os.path.join(data_dir, 'train.csv'), header=None, names=None, nrows=250)\n",
    "\n",
    "# Turn the input pandas dataframe into tensors\n",
    "train_sample_y = torch.from_numpy(train_sample[[0]].values).float().squeeze()\n",
    "train_sample_X = torch.from_numpy(train_sample.drop([0], axis=1).values).long()\n",
    "\n",
    "# Build the dataset\n",
    "train_sample_ds = torch.utils.data.TensorDataset(train_sample_X, train_sample_y)\n",
    "# Build the dataloader\n",
    "train_sample_dl = torch.utils.data.DataLoader(train_sample_ds, batch_size=50)"
   ]
  },
  {
   "cell_type": "markdown",
   "metadata": {},
   "source": [
    "### (TODO) Writing the training method\n",
    "\n",
    "Next we need to write the training code itself. This should be very similar to training methods that you have written before to train PyTorch models. We will leave any difficult aspects such as model saving / loading and parameter loading until a little later."
   ]
  },
  {
   "cell_type": "code",
   "execution_count": null,
   "metadata": {},
   "outputs": [],
   "source": [
    "def train(model, train_loader, epochs, optimizer, loss_fn, device):\n",
    "    for epoch in range(1, epochs + 1):\n",
    "        model.train()\n",
    "        total_loss = 0\n",
    "        for batch in train_loader:         \n",
    "            batch_X, batch_y = batch\n",
    "            \n",
    "            batch_X = batch_X.to(device)\n",
    "            batch_y = batch_y.to(device)\n",
    "            \n",
    "            # TODO: Complete this train method to train the model provided.\n",
    "            optimizer.zero_grad()\n",
    "            \n",
    "            #Evaluate inputs\n",
    "            results = model(batch_X)\n",
    "            \n",
    "            #calculate loss and backpropogate\n",
    "            loss = loss_fn(results, batch_y)\n",
    "            loss.backward()\n",
    "            optimizer.step()\n",
    "            \n",
    "            total_loss += loss.data.item()\n",
    "        print(\"Epoch: {}, BCELoss: {}\".format(epoch, total_loss / len(train_loader)))"
   ]
  },
  {
   "cell_type": "markdown",
   "metadata": {},
   "source": [
    "Supposing we have the training method above, we will test that it is working by writing a bit of code in the notebook that executes our training method on the small sample training set that we loaded earlier. The reason for doing this in the notebook is so that we have an opportunity to fix any errors that arise early when they are easier to diagnose."
   ]
  },
  {
   "cell_type": "code",
   "execution_count": null,
   "metadata": {},
   "outputs": [],
   "source": [
    "import torch.optim as optim\n",
    "from train.model import LSTMClassifier\n",
    "\n",
    "device = torch.device(\"cuda\" if torch.cuda.is_available() else \"cpu\")\n",
    "model = LSTMClassifier(32, 100, 5000).to(device) #embedding dim, hidden dim, vocab size\n",
    "optimizer = optim.Adam(model.parameters())\n",
    "loss_fn = torch.nn.BCELoss()\n",
    "\n",
    "train(model, train_sample_dl, 5, optimizer, loss_fn, device)"
   ]
  },
  {
   "cell_type": "markdown",
   "metadata": {},
   "source": [
    "In order to construct a PyTorch model using SageMaker we must provide SageMaker with a training script. We may optionally include a directory which will be copied to the container and from which our training code will be run. When the training container is executed it will check the uploaded directory (if there is one) for a `requirements.txt` file and install any required Python libraries, after which the training script will be run."
   ]
  },
  {
   "cell_type": "markdown",
   "metadata": {},
   "source": [
    "### (TODO) Training the model\n",
    "\n",
    "When a PyTorch model is constructed in SageMaker, an entry point must be specified. This is the Python file which will be executed when the model is trained. Inside of the `train` directory is a file called `train.py` which has been provided and which contains most of the necessary code to train our model. The only thing that is missing is the implementation of the `train()` method which you wrote earlier in this notebook.\n",
    "\n",
    "**TODO**: Copy the `train()` method written above and paste it into the `train/train.py` file where required.\n",
    "\n",
    "The way that SageMaker passes hyperparameters to the training script is by way of arguments. These arguments can then be parsed and used in the training script. To see how this is done take a look at the provided `train/train.py` file."
   ]
  },
  {
   "cell_type": "code",
   "execution_count": null,
   "metadata": {},
   "outputs": [],
   "source": [
    "from sagemaker.pytorch import PyTorch\n",
    "\n",
    "estimator = PyTorch(entry_point=\"train.py\",\n",
    "                    source_dir=\"train\",\n",
    "                    role=role,\n",
    "                    framework_version='0.4.0',\n",
    "                    train_instance_count=1,\n",
    "                    train_instance_type='ml.g4dn.xlarge',\n",
    "                    hyperparameters={\n",
    "                        'epochs': 10,\n",
    "                        'hidden_dim': 200,\n",
    "                    })"
   ]
  },
  {
   "cell_type": "code",
   "execution_count": null,
   "metadata": {},
   "outputs": [],
   "source": [
    "estimator.fit({'training': input_data})"
   ]
  },
  {
   "cell_type": "markdown",
   "metadata": {},
   "source": [
    "## Step 5: Testing the model\n",
    "\n",
    "As mentioned at the top of this notebook, we will be testing this model by first deploying it and then sending the testing data to the deployed endpoint. We will do this so that we can make sure that the deployed model is working correctly.\n",
    "\n",
    "## Step 6: Deploy the model for testing\n",
    "\n",
    "Now that we have trained our model, we would like to test it to see how it performs. Currently our model takes input of the form `review_length, review[500]` where `review[500]` is a sequence of `500` integers which describe the words present in the review, encoded using `word_dict`. Fortunately for us, SageMaker provides built-in inference code for models with simple inputs such as this.\n",
    "\n",
    "There is one thing that we need to provide, however, and that is a function which loads the saved model. This function must be called `model_fn()` and takes as its only parameter a path to the directory where the model artifacts are stored. This function must also be present in the python file which we specified as the entry point. In our case the model loading function has been provided and so no changes need to be made.\n",
    "\n",
    "**NOTE**: When the built-in inference code is run it must import the `model_fn()` method from the `train.py` file. This is why the training code is wrapped in a main guard ( ie, `if __name__ == '__main__':` )\n",
    "\n",
    "Since we don't need to change anything in the code that was uploaded during training, we can simply deploy the current model as-is.\n",
    "\n",
    "**NOTE:** When deploying a model you are asking SageMaker to launch an compute instance that will wait for data to be sent to it. As a result, this compute instance will continue to run until *you* shut it down. This is important to know since the cost of a deployed endpoint depends on how long it has been running for.\n",
    "\n",
    "In other words **If you are no longer using a deployed endpoint, shut it down!**\n",
    "\n",
    "**TODO:** Deploy the trained model."
   ]
  },
  {
   "cell_type": "code",
   "execution_count": null,
   "metadata": {},
   "outputs": [],
   "source": [
    "# TODO: Deploy the trained model\n",
    "assessor = estimator.deploy(initial_instance_count = 1, instance_type = 'ml.m4.xlarge')"
   ]
  },
  {
   "cell_type": "markdown",
   "metadata": {},
   "source": [
    "## Step 7 - Use the model for testing\n",
    "\n",
    "Once deployed, we can read in the test data and send it off to our deployed model to get some results. Once we collect all of the results we can determine how accurate our model is."
   ]
  },
  {
   "cell_type": "code",
   "execution_count": null,
   "metadata": {},
   "outputs": [],
   "source": [
    "test_X = pd.concat([pd.DataFrame(test_X_len), pd.DataFrame(test_X)], axis=1)"
   ]
  },
  {
   "cell_type": "code",
   "execution_count": null,
   "metadata": {},
   "outputs": [],
   "source": [
    "# We split the data into chunks and send each chunk seperately, accumulating the results.\n",
    "\n",
    "def predict(data, rows=512):\n",
    "    split_array = np.array_split(data, int(data.shape[0] / float(rows) + 1))\n",
    "    predictions = np.array([])\n",
    "    for array in split_array:\n",
    "        predictions = np.append(predictions, predictor.predict(array))\n",
    "    \n",
    "    return predictions"
   ]
  },
  {
   "cell_type": "code",
   "execution_count": null,
   "metadata": {},
   "outputs": [],
   "source": [
    "predictions = predict(test_X.values)\n",
    "predictions = [round(num) for num in predictions]"
   ]
  },
  {
   "cell_type": "code",
   "execution_count": null,
   "metadata": {},
   "outputs": [],
   "source": [
    "from sklearn.metrics import accuracy_score\n",
    "accuracy_score(test_y, predictions)"
   ]
  },
  {
   "cell_type": "markdown",
   "metadata": {},
   "source": [
    "**Question:** How does this model compare to the XGBoost model you created earlier? Why might these two models perform differently on this dataset? Which do *you* think is better for sentiment analysis?"
   ]
  },
  {
   "cell_type": "markdown",
   "metadata": {},
   "source": [
    "**Answer:**"
   ]
  },
  {
   "cell_type": "markdown",
   "metadata": {},
   "source": [
    "### (TODO) More testing\n",
    "\n",
    "We now have a trained model which has been deployed and which we can send processed reviews to and which returns the predicted sentiment. However, ultimately we would like to be able to send our model an unprocessed review. That is, we would like to send the review itself as a string. For example, suppose we wish to send the following review to our model."
   ]
  },
  {
   "cell_type": "code",
   "execution_count": null,
   "metadata": {},
   "outputs": [],
   "source": [
    "test_review = 'The simplest pleasures in life are the best, and this film is one of them. Combining a rather basic storyline of love and adventure this movie transcends the usual weekend fair with wit and unmitigated charm.'"
   ]
  },
  {
   "cell_type": "markdown",
   "metadata": {},
   "source": [
    "The question we now need to answer is, how do we send this review to our model?\n",
    "\n",
    "Recall in the first section of this notebook we did a bunch of data processing to the IMDb dataset. In particular, we did two specific things to the provided reviews.\n",
    " - Removed any html tags and stemmed the input\n",
    " - Encoded the review as a sequence of integers using `word_dict`\n",
    " \n",
    "In order process the review we will need to repeat these two steps.\n",
    "\n",
    "**TODO**: Using the `review_to_words` and `convert_and_pad` methods from section one, convert `test_review` into a numpy array `test_data` suitable to send to our model. Remember that our model expects input of the form `review_length, review[500]`. So make sure you produce two variables from processing: \n",
    "- A sequence of length 500 which represents the converted review\n",
    "- The length of the review"
   ]
  },
  {
   "cell_type": "code",
   "execution_count": null,
   "metadata": {},
   "outputs": [],
   "source": [
    "# TODO: Convert test_review into a form usable by the model and save the results in test_data\n",
    "test_data, test_data_len = convert_and_pad(review_to_words(test_review)).numpy()"
   ]
  },
  {
   "cell_type": "markdown",
   "metadata": {},
   "source": [
    "Now that we have processed the review, we can send the resulting array to our model to predict the sentiment of the review."
   ]
  },
  {
   "cell_type": "code",
   "execution_count": null,
   "metadata": {},
   "outputs": [],
   "source": [
    "predictor.predict(test_data)"
   ]
  },
  {
   "cell_type": "markdown",
   "metadata": {},
   "source": [
    "Since the return value of our model is close to `1`, we can be certain that the review we submitted is positive."
   ]
  },
  {
   "cell_type": "markdown",
   "metadata": {},
   "source": [
    "### Delete the endpoint\n",
    "\n",
    "Of course, just like in the XGBoost notebook, once we've deployed an endpoint it continues to run until we tell it to shut down. Since we are done using our endpoint for now, we can delete it."
   ]
  },
  {
   "cell_type": "code",
   "execution_count": null,
   "metadata": {},
   "outputs": [],
   "source": [
    "estimator.delete_endpoint()"
   ]
  },
  {
   "cell_type": "markdown",
   "metadata": {},
   "source": [
    "## Step 6 (again) - Deploy the model for the web app\n",
    "\n",
    "Now that we know that our model is working, it's time to create some custom inference code so that we can send the model a review which has not been processed and have it determine the sentiment of the review.\n",
    "\n",
    "As we saw above, by default the estimator which we created, when deployed, will use the entry script and directory which we provided when creating the model. However, since we now wish to accept a string as input and our model expects a processed review, we need to write some custom inference code.\n",
    "\n",
    "We will store the code that we write in the `serve` directory. Provided in this directory is the `model.py` file that we used to construct our model, a `utils.py` file which contains the `review_to_words` and `convert_and_pad` pre-processing functions which we used during the initial data processing, and `predict.py`, the file which will contain our custom inference code. Note also that `requirements.txt` is present which will tell SageMaker what Python libraries are required by our custom inference code.\n",
    "\n",
    "When deploying a PyTorch model in SageMaker, you are expected to provide four functions which the SageMaker inference container will use.\n",
    " - `model_fn`: This function is the same function that we used in the training script and it tells SageMaker how to load our model.\n",
    " - `input_fn`: This function receives the raw serialized input that has been sent to the model's endpoint and its job is to de-serialize and make the input available for the inference code.\n",
    " - `output_fn`: This function takes the output of the inference code and its job is to serialize this output and return it to the caller of the model's endpoint.\n",
    " - `predict_fn`: The heart of the inference script, this is where the actual prediction is done and is the function which you will need to complete.\n",
    "\n",
    "For the simple website that we are constructing during this project, the `input_fn` and `output_fn` methods are relatively straightforward. We only require being able to accept a string as input and we expect to return a single value as output. You might imagine though that in a more complex application the input or output may be image data or some other binary data which would require some effort to serialize.\n",
    "\n",
    "### (TODO) Writing inference code\n",
    "\n",
    "Before writing our custom inference code, we will begin by taking a look at the code which has been provided."
   ]
  },
  {
   "cell_type": "code",
   "execution_count": null,
   "metadata": {},
   "outputs": [],
   "source": [
    "!pygmentize serve/predict.py"
   ]
  },
  {
   "cell_type": "markdown",
   "metadata": {},
   "source": [
    "As mentioned earlier, the `model_fn` method is the same as the one provided in the training code and the `input_fn` and `output_fn` methods are very simple and your task will be to complete the `predict_fn` method. \n",
    "\n",
    "**Note**: Our model expects input data of the form 'len, review[500]'. So make sure you produce two variables from processing: \n",
    "- `data_X`:  A sequence of length 500 which represents the converted review\n",
    "- `data_len`: - The length of the review\n",
    "\n",
    "Make sure that you save the completed file as `predict.py` in the `serve` directory.\n",
    "\n",
    "**TODO**: Complete the `predict_fn()` method in the `serve/predict.py` file."
   ]
  },
  {
   "cell_type": "markdown",
   "metadata": {},
   "source": [
    "### Deploying the model\n",
    "\n",
    "Now that the custom inference code has been written, we will create and deploy our model. To begin with, we need to construct a new PyTorchModel object which points to the model artifacts created during training and also points to the inference code that we wish to use. Then we can call the deploy method to launch the deployment container.\n",
    "\n",
    "**NOTE**: The default behaviour for a deployed PyTorch model is to assume that any input passed to the predictor is a `numpy` array. In our case we want to send a string so we need to construct a simple wrapper around the `RealTimePredictor` class to accomodate simple strings. In a more complicated situation you may want to provide a serialization object, for example if you wanted to sent image data."
   ]
  },
  {
   "cell_type": "code",
   "execution_count": null,
   "metadata": {},
   "outputs": [],
   "source": [
    "from sagemaker.predictor import RealTimePredictor\n",
    "from sagemaker.pytorch import PyTorchModel\n",
    "\n",
    "class StringPredictor(RealTimePredictor):\n",
    "    def __init__(self, endpoint_name, sagemaker_session):\n",
    "        super(StringPredictor, self).__init__(endpoint_name, sagemaker_session, content_type='text/plain')\n",
    "\n",
    "model = PyTorchModel(model_data=estimator.model_data,\n",
    "                     role = role,\n",
    "                     framework_version='0.4.0',\n",
    "                     entry_point='predict.py',\n",
    "                     source_dir='serve',\n",
    "                     predictor_cls=StringPredictor)\n",
    "predictor = model.deploy(initial_instance_count=1, instance_type='ml.m4.xlarge')"
   ]
  },
  {
   "cell_type": "markdown",
   "metadata": {},
   "source": [
    "### Testing the model\n",
    "\n",
    "Now that we have deployed our model with the custom inference code, we should test to see if everything is working. Here we test our model by loading the first `250` positive and negative reviews and send them to the endpoint, then collect the results. The reason for only sending some of the data is that the amount of time it takes for our model to process the input and then perform inference is quite long and so testing the entire data set would be prohibitive."
   ]
  },
  {
   "cell_type": "code",
   "execution_count": null,
   "metadata": {},
   "outputs": [],
   "source": [
    "import glob\n",
    "\n",
    "def test_reviews(data_dir='../data/aclImdb', stop=250):\n",
    "    \n",
    "    results = []\n",
    "    ground = []\n",
    "    \n",
    "    # We make sure to test both positive and negative reviews    \n",
    "    for sentiment in ['pos', 'neg']:\n",
    "        \n",
    "        path = os.path.join(data_dir, 'test', sentiment, '*.txt')\n",
    "        files = glob.glob(path)\n",
    "        \n",
    "        files_read = 0\n",
    "        \n",
    "        print('Starting ', sentiment, ' files')\n",
    "        \n",
    "        # Iterate through the files and send them to the predictor\n",
    "        for f in files:\n",
    "            with open(f) as review:\n",
    "                # First, we store the ground truth (was the review positive or negative)\n",
    "                if sentiment == 'pos':\n",
    "                    ground.append(1)\n",
    "                else:\n",
    "                    ground.append(0)\n",
    "                # Read in the review and convert to 'utf-8' for transmission via HTTP\n",
    "                review_input = review.read().encode('utf-8')\n",
    "                # Send the review to the predictor and store the results\n",
    "                results.append(float(predictor.predict(review_input)))\n",
    "                \n",
    "            # Sending reviews to our endpoint one at a time takes a while so we\n",
    "            # only send a small number of reviews\n",
    "            files_read += 1\n",
    "            if files_read == stop:\n",
    "                break\n",
    "            \n",
    "    return ground, results"
   ]
  },
  {
   "cell_type": "code",
   "execution_count": null,
   "metadata": {},
   "outputs": [],
   "source": [
    "ground, results = test_reviews()"
   ]
  },
  {
   "cell_type": "code",
   "execution_count": null,
   "metadata": {},
   "outputs": [],
   "source": [
    "from sklearn.metrics import accuracy_score\n",
    "accuracy_score(ground, results)"
   ]
  },
  {
   "cell_type": "markdown",
   "metadata": {},
   "source": [
    "As an additional test, we can try sending the `test_review` that we looked at earlier."
   ]
  },
  {
   "cell_type": "code",
   "execution_count": null,
   "metadata": {},
   "outputs": [],
   "source": [
    "predictor.predict(test_review)"
   ]
  },
  {
   "cell_type": "markdown",
   "metadata": {},
   "source": [
    "Now that we know our endpoint is working as expected, we can set up the web page that will interact with it. If you don't have time to finish the project now, make sure to skip down to the end of this notebook and shut down your endpoint. You can deploy it again when you come back."
   ]
  },
  {
   "cell_type": "markdown",
   "metadata": {},
   "source": [
    "## Step 7 (again): Use the model for the web app\n",
    "\n",
    "> **TODO:** This entire section and the next contain tasks for you to complete, mostly using the AWS console.\n",
    "\n",
    "So far we have been accessing our model endpoint by constructing a predictor object which uses the endpoint and then just using the predictor object to perform inference. What if we wanted to create a web app which accessed our model? The way things are set up currently makes that not possible since in order to access a SageMaker endpoint the app would first have to authenticate with AWS using an IAM role which included access to SageMaker endpoints. However, there is an easier way! We just need to use some additional AWS services.\n",
    "\n",
    "<img src=\"Web App Diagram.svg\">\n",
    "\n",
    "The diagram above gives an overview of how the various services will work together. On the far right is the model which we trained above and which is deployed using SageMaker. On the far left is our web app that collects a user's movie review, sends it off and expects a positive or negative sentiment in return.\n",
    "\n",
    "In the middle is where some of the magic happens. We will construct a Lambda function, which you can think of as a straightforward Python function that can be executed whenever a specified event occurs. We will give this function permission to send and recieve data from a SageMaker endpoint.\n",
    "\n",
    "Lastly, the method we will use to execute the Lambda function is a new endpoint that we will create using API Gateway. This endpoint will be a url that listens for data to be sent to it. Once it gets some data it will pass that data on to the Lambda function and then return whatever the Lambda function returns. Essentially it will act as an interface that lets our web app communicate with the Lambda function.\n",
    "\n",
    "### Setting up a Lambda function\n",
    "\n",
    "The first thing we are going to do is set up a Lambda function. This Lambda function will be executed whenever our public API has data sent to it. When it is executed it will receive the data, perform any sort of processing that is required, send the data (the review) to the SageMaker endpoint we've created and then return the result.\n",
    "\n",
    "#### Part A: Create an IAM Role for the Lambda function\n",
    "\n",
    "Since we want the Lambda function to call a SageMaker endpoint, we need to make sure that it has permission to do so. To do this, we will construct a role that we can later give the Lambda function.\n",
    "\n",
    "Using the AWS Console, navigate to the **IAM** page and click on **Roles**. Then, click on **Create role**. Make sure that the **AWS service** is the type of trusted entity selected and choose **Lambda** as the service that will use this role, then click **Next: Permissions**.\n",
    "\n",
    "In the search box type `sagemaker` and select the check box next to the **AmazonSageMakerFullAccess** policy. Then, click on **Next: Review**.\n",
    "\n",
    "Lastly, give this role a name. Make sure you use a name that you will remember later on, for example `LambdaSageMakerRole`. Then, click on **Create role**.\n",
    "\n",
    "#### Part B: Create a Lambda function\n",
    "\n",
    "Now it is time to actually create the Lambda function.\n",
    "\n",
    "Using the AWS Console, navigate to the AWS Lambda page and click on **Create a function**. When you get to the next page, make sure that **Author from scratch** is selected. Now, name your Lambda function, using a name that you will remember later on, for example `sentiment_analysis_func`. Make sure that the **Python 3.6** runtime is selected and then choose the role that you created in the previous part. Then, click on **Create Function**.\n",
    "\n",
    "On the next page you will see some information about the Lambda function you've just created. If you scroll down you should see an editor in which you can write the code that will be executed when your Lambda function is triggered. In our example, we will use the code below. \n",
    "\n",
    "```python\n",
    "# We need to use the low-level library to interact with SageMaker since the SageMaker API\n",
    "# is not available natively through Lambda.\n",
    "import boto3\n",
    "\n",
    "def lambda_handler(event, context):\n",
    "\n",
    "    # The SageMaker runtime is what allows us to invoke the endpoint that we've created.\n",
    "    runtime = boto3.Session().client('sagemaker-runtime')\n",
    "\n",
    "    # Now we use the SageMaker runtime to invoke our endpoint, sending the review we were given\n",
    "    response = runtime.invoke_endpoint(EndpointName = '**ENDPOINT NAME HERE**',    # The name of the endpoint we created\n",
    "                                       ContentType = 'text/plain',                 # The data format that is expected\n",
    "                                       Body = event['body'])                       # The actual review\n",
    "\n",
    "    # The response is an HTTP response whose body contains the result of our inference\n",
    "    result = response['Body'].read().decode('utf-8')\n",
    "\n",
    "    return {\n",
    "        'statusCode' : 200,\n",
    "        'headers' : { 'Content-Type' : 'text/plain', 'Access-Control-Allow-Origin' : '*' },\n",
    "        'body' : result\n",
    "    }\n",
    "```\n",
    "\n",
    "Once you have copy and pasted the code above into the Lambda code editor, replace the `**ENDPOINT NAME HERE**` portion with the name of the endpoint that we deployed earlier. You can determine the name of the endpoint using the code cell below."
   ]
  },
  {
   "cell_type": "code",
   "execution_count": null,
   "metadata": {},
   "outputs": [],
   "source": [
    "predictor.endpoint"
   ]
  },
  {
   "cell_type": "markdown",
   "metadata": {},
   "source": [
    "Once you have added the endpoint name to the Lambda function, click on **Save**. Your Lambda function is now up and running. Next we need to create a way for our web app to execute the Lambda function.\n",
    "\n",
    "### Setting up API Gateway\n",
    "\n",
    "Now that our Lambda function is set up, it is time to create a new API using API Gateway that will trigger the Lambda function we have just created.\n",
    "\n",
    "Using AWS Console, navigate to **Amazon API Gateway** and then click on **Get started**.\n",
    "\n",
    "On the next page, make sure that **New API** is selected and give the new api a name, for example, `sentiment_analysis_api`. Then, click on **Create API**.\n",
    "\n",
    "Now we have created an API, however it doesn't currently do anything. What we want it to do is to trigger the Lambda function that we created earlier.\n",
    "\n",
    "Select the **Actions** dropdown menu and click **Create Method**. A new blank method will be created, select its dropdown menu and select **POST**, then click on the check mark beside it.\n",
    "\n",
    "For the integration point, make sure that **Lambda Function** is selected and click on the **Use Lambda Proxy integration**. This option makes sure that the data that is sent to the API is then sent directly to the Lambda function with no processing. It also means that the return value must be a proper response object as it will also not be processed by API Gateway.\n",
    "\n",
    "Type the name of the Lambda function you created earlier into the **Lambda Function** text entry box and then click on **Save**. Click on **OK** in the pop-up box that then appears, giving permission to API Gateway to invoke the Lambda function you created.\n",
    "\n",
    "The last step in creating the API Gateway is to select the **Actions** dropdown and click on **Deploy API**. You will need to create a new Deployment stage and name it anything you like, for example `prod`.\n",
    "\n",
    "You have now successfully set up a public API to access your SageMaker model. Make sure to copy or write down the URL provided to invoke your newly created public API as this will be needed in the next step. This URL can be found at the top of the page, highlighted in blue next to the text **Invoke URL**."
   ]
  },
  {
   "cell_type": "markdown",
   "metadata": {},
   "source": [
    "## Step 4: Deploying our web app\n",
    "\n",
    "Now that we have a publicly available API, we can start using it in a web app. For our purposes, we have provided a simple static html file which can make use of the public api you created earlier.\n",
    "\n",
    "In the `website` folder there should be a file called `index.html`. Download the file to your computer and open that file up in a text editor of your choice. There should be a line which contains **\\*\\*REPLACE WITH PUBLIC API URL\\*\\***. Replace this string with the url that you wrote down in the last step and then save the file.\n",
    "\n",
    "Now, if you open `index.html` on your local computer, your browser will behave as a local web server and you can use the provided site to interact with your SageMaker model.\n",
    "\n",
    "If you'd like to go further, you can host this html file anywhere you'd like, for example using github or hosting a static site on Amazon's S3. Once you have done this you can share the link with anyone you'd like and have them play with it too!\n",
    "\n",
    "> **Important Note** In order for the web app to communicate with the SageMaker endpoint, the endpoint has to actually be deployed and running. This means that you are paying for it. Make sure that the endpoint is running when you want to use the web app but that you shut it down when you don't need it, otherwise you will end up with a surprisingly large AWS bill.\n",
    "\n",
    "**TODO:** Make sure that you include the edited `index.html` file in your project submission."
   ]
  },
  {
   "cell_type": "markdown",
   "metadata": {},
   "source": [
    "Now that your web app is working, trying playing around with it and see how well it works.\n",
    "\n",
    "**Question**: \n",
    "1. Post a screenshot showing a sample review that you entered into your web app and the predicted sentiment. \n",
    "2. What was the predicted sentiment of your example review?"
   ]
  },
  {
   "cell_type": "code",
   "execution_count": null,
   "metadata": {},
   "outputs": [],
   "source": [
    "# 1. Upload screenshot and run this cell to display it\n",
    "from IPython.display import Image\n",
    "Image(filename='output.png') # change the screenshot filename"
   ]
  },
  {
   "cell_type": "markdown",
   "metadata": {},
   "source": [
    "**2. Answer:**"
   ]
  },
  {
   "cell_type": "markdown",
   "metadata": {},
   "source": [
    "### Delete the endpoint\n",
    "\n",
    "Remember to always shut down your endpoint if you are no longer using it. You are charged for the length of time that the endpoint is running so if you forget and leave it on you could end up with an unexpectedly large bill."
   ]
  },
  {
   "cell_type": "code",
   "execution_count": null,
   "metadata": {},
   "outputs": [],
   "source": [
    "predictor.delete_endpoint()"
   ]
  },
  {
   "cell_type": "code",
   "execution_count": null,
   "metadata": {},
   "outputs": [],
   "source": []
  }
 ],
 "metadata": {
  "kernelspec": {
   "display_name": "conda_pytorch_p38",
   "language": "python",
   "name": "conda_pytorch_p38"
  },
  "language_info": {
   "codemirror_mode": {
    "name": "ipython",
    "version": 3
   },
   "file_extension": ".py",
   "mimetype": "text/x-python",
   "name": "python",
   "nbconvert_exporter": "python",
   "pygments_lexer": "ipython3",
   "version": "3.8.12"
  }
 },
 "nbformat": 4,
 "nbformat_minor": 4
}
